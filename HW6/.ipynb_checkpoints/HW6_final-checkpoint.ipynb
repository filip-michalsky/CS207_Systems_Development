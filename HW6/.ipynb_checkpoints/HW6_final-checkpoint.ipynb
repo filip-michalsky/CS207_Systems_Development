{
 "cells": [
  {
   "cell_type": "markdown",
   "metadata": {},
   "source": [
    "# Homework 6\n",
    "## Due:  Tuesday, October 10 at 11:59 PM"
   ]
  },
  {
   "cell_type": "markdown",
   "metadata": {},
   "source": [
    "# Problem 1: Bank Account Revisited\n",
    "\n",
    "We are going to rewrite the bank account closure problem we had a few assignments ago, only this time developing a formal class for a Bank User and Bank Account to use in our closure (recall previously we just had a nonlocal variable amount that we changed). "
   ]
  },
  {
   "cell_type": "markdown",
   "metadata": {},
   "source": [
    "### Some Preliminaries:\n",
    "First we are going to define two types of bank accounts.  Use the code below to do this:"
   ]
  },
  {
   "cell_type": "code",
   "execution_count": 151,
   "metadata": {
    "collapsed": true
   },
   "outputs": [],
   "source": [
    "from enum import Enum\n",
    "class AccountType(Enum):\n",
    "    SAVINGS = 1\n",
    "    CHECKING = 2"
   ]
  },
  {
   "cell_type": "markdown",
   "metadata": {},
   "source": [
    "An Enum stands for an enumeration, it's a convenient way for you to define lists of things. Typing:"
   ]
  },
  {
   "cell_type": "code",
   "execution_count": 152,
   "metadata": {},
   "outputs": [
    {
     "data": {
      "text/plain": [
       "<AccountType.SAVINGS: 1>"
      ]
     },
     "execution_count": 152,
     "metadata": {},
     "output_type": "execute_result"
    }
   ],
   "source": [
    "AccountType.SAVINGS"
   ]
  },
  {
   "cell_type": "markdown",
   "metadata": {},
   "source": [
    "returns a Python representation of an enumeration. You can compare these account types:"
   ]
  },
  {
   "cell_type": "code",
   "execution_count": 153,
   "metadata": {},
   "outputs": [
    {
     "data": {
      "text/plain": [
       "True"
      ]
     },
     "execution_count": 153,
     "metadata": {},
     "output_type": "execute_result"
    }
   ],
   "source": [
    "AccountType.SAVINGS == AccountType.SAVINGS"
   ]
  },
  {
   "cell_type": "code",
   "execution_count": 154,
   "metadata": {},
   "outputs": [
    {
     "data": {
      "text/plain": [
       "False"
      ]
     },
     "execution_count": 154,
     "metadata": {},
     "output_type": "execute_result"
    }
   ],
   "source": [
    "AccountType.SAVINGS == AccountType.CHECKING"
   ]
  },
  {
   "cell_type": "markdown",
   "metadata": {},
   "source": [
    "To get a string representation of an Enum, you can use:"
   ]
  },
  {
   "cell_type": "code",
   "execution_count": 155,
   "metadata": {},
   "outputs": [
    {
     "data": {
      "text/plain": [
       "'SAVINGS'"
      ]
     },
     "execution_count": 155,
     "metadata": {},
     "output_type": "execute_result"
    }
   ],
   "source": [
    "AccountType.SAVINGS.name"
   ]
  },
  {
   "cell_type": "code",
   "execution_count": 227,
   "metadata": {},
   "outputs": [
    {
     "ename": "ValueError",
     "evalue": "ba",
     "output_type": "error",
     "traceback": [
      "\u001b[0;31m---------------------------------------------------------------------------\u001b[0m",
      "\u001b[0;31mValueError\u001b[0m                                Traceback (most recent call last)",
      "\u001b[0;32m<ipython-input-227-d1f8cf5a2dab>\u001b[0m in \u001b[0;36m<module>\u001b[0;34m()\u001b[0m\n\u001b[0;32m----> 1\u001b[0;31m \u001b[0;32mraise\u001b[0m \u001b[0mValueError\u001b[0m\u001b[0;34m(\u001b[0m\u001b[0;34m\"ba\"\u001b[0m\u001b[0;34m)\u001b[0m\u001b[0;34m\u001b[0m\u001b[0m\n\u001b[0m",
      "\u001b[0;31mValueError\u001b[0m: ba"
     ]
    }
   ],
   "source": [
    "raise ValueError(\"ba\")"
   ]
  },
  {
   "cell_type": "markdown",
   "metadata": {},
   "source": [
    "### Part 1: Create a BankAccount class with the following specification:\n",
    "\n",
    "Constructor is `BankAccount(self, owner, accountType)` where `owner` is a string representing the name of the account owner and `accountType` is one of the AccountType enums\n",
    "\n",
    "Methods `withdraw(self, amount)` and `deposit(self, amount)` to modify the account balance of the account\n",
    "\n",
    "Override methods `__str__` to write an informative string of the account owner and the type of account, and `__len__` to return the balance of the account"
   ]
  },
  {
   "cell_type": "code",
   "execution_count": 245,
   "metadata": {},
   "outputs": [
    {
     "name": "stdout",
     "output_type": "stream",
     "text": [
      "Owner of account Filip M and account type is SAVINGS\n",
      "Deposit of  100  and new balance is  100\n",
      "100\n"
     ]
    }
   ],
   "source": [
    "class BankAccount():\n",
    "    \"Class Bank Account specifying owner and Account type\"\n",
    "    def __init__(self, owner, accountType):\n",
    "        self.owner = owner\n",
    "        self.balance = 0\n",
    "        self.AccountType = accountType\n",
    "        \n",
    "    def withdraw(self,amount):\n",
    "        if amount <= 0:\n",
    "            raise ValueError(\"Cannot withdraw a negative value\")\n",
    "        if amount > self.balance:\n",
    "            raise ValueError(\"Insufficient funds\")\n",
    "        \n",
    "        self.balance = self.balance - amount\n",
    "        print(\"Withdrawal of \",amount,\" from account \",self.AccountType.name,\". Remaining balance \", self.balance)\n",
    "    \n",
    "    def deposit(self,deposit):\n",
    "        if deposit <=0:\n",
    "            raise ValueError\n",
    "        else:\n",
    "            self.balance +=deposit\n",
    "            print(\"Deposit of \", deposit, \" and new balance is \", self.balance)\n",
    "        \n",
    "    def __str__(self):\n",
    "        \n",
    "        return \"Owner of account \"+ self.owner + \" and account type is \" + self.AccountType.name\n",
    "    \n",
    "    def __len__(self):\n",
    "        #return the balance of acc\n",
    "        return self.balance\n",
    "    \n",
    "Bankacc1 = BankAccount(\"Filip M\", AccountType.SAVINGS) \n",
    "print(Bankacc1)\n",
    "\n",
    "Bankacc1.deposit(100)\n",
    "print(len(Bankacc1))\n",
    "        \n",
    "        \n",
    "        \n",
    "        "
   ]
  },
  {
   "cell_type": "markdown",
   "metadata": {},
   "source": [
    "### Part 2:  Write a class BankUser with the following specification:\n",
    "\n",
    "Constructor `BankUser(self, owner)` where `owner` is the name of the account.\n",
    "\n",
    "Method `addAccount(self, accountType)` - to start, a user will have no accounts when the BankUser object is created. `addAccount` will add a new account to the user of the `accountType` specified. **Only one savings/checking account per user, return appropriate error otherwise**\n",
    "\n",
    "Methods `getBalance(self, accountType)`, `deposit(self, accountType, amount)`, and `withdraw(self, accountType, amount)` for a specific AccountType.\n",
    "\n",
    "Override `__str__` to have an informative summary of user's accounts."
   ]
  },
  {
   "cell_type": "code",
   "execution_count": 256,
   "metadata": {
    "collapsed": true
   },
   "outputs": [],
   "source": [
    "class BankUser():\n",
    "    \n",
    "    def __init__(self,owner):\n",
    "        self.owner = owner\n",
    "        self.savings = None\n",
    "        self.checking = None\n",
    "        self.myCaccount = None\n",
    "        self.mySaccount = None\n",
    "        \n",
    "    def addAccount(self, accountType):\n",
    "        #Check what account type and then whether the account is there\n",
    "        if accountType == AccountType.SAVINGS:\n",
    "            if self.savings == None:\n",
    "                self.savings = 1\n",
    "                self.mySaccount = BankAccount(self.owner,accountType)\n",
    "            \n",
    "            else:\n",
    "                raise ValueError(\"You already have a savings account\")\n",
    "                \n",
    "        elif accountType == AccountType.CHECKING:\n",
    "            if self.checking == None:\n",
    "                self.savings = 1\n",
    "                self.myCaccount = BankAccount(self.owner,accountType)\n",
    "            \n",
    "            else:\n",
    "                raise ValueError(\"You already have a checking account\")\n",
    "        else:\n",
    "            raise ValueError(\"Account type is not valid\")\n",
    "    \n",
    "    def getBalance(self,accountType):\n",
    "        if accountType == AccountType.SAVINGS:\n",
    "            if self.mySaccount == None:\n",
    "                raise ValueError(\"No savings account\")\n",
    "            else:\n",
    "                return self.mySaccount.balance\n",
    "            \n",
    "        elif accountType == AccountType.CHECKING:\n",
    "            if self.myCaccount == None:\n",
    "                raise ValueError(\"No checking account\")\n",
    "            else:\n",
    "                return self.myCaccount.balance\n",
    "        else:\n",
    "            raise ValueError(\"Invalid account type inserted\")\n",
    "    \n",
    "    def deposit(self,accountType,amount):\n",
    "        if accountType == AccountType.SAVINGS:\n",
    "            if self.mySaccount == None:\n",
    "                raise ValueError(\"No savings account\")\n",
    "            else:\n",
    "                return self.mySaccount.deposit(amount)\n",
    "            \n",
    "        elif accountType == AccountType.CHECKING:\n",
    "            if self.myCaccount == None:\n",
    "                raise ValueError(\"No checking account\")\n",
    "            else:\n",
    "                return self.myCaccount.deposit(amount)\n",
    "        \n",
    "        else:\n",
    "            raise ValueError(\"Invalid account type inserted\")\n",
    "            \n",
    "    def withdraw(self,accountType,amount):\n",
    "        #analogous to deposit\n",
    "        if accountType == AccountType.SAVINGS:\n",
    "            if self.mySaccount == None:\n",
    "                raise ValueError(\"No savings account\")\n",
    "            else:\n",
    "                return self.mySaccount.withdraw(amount)\n",
    "            \n",
    "        elif accountType == AccountType.CHECKING:\n",
    "            if self.myCaccount == None:\n",
    "                raise ValueError(\"No checking account\")\n",
    "            else:\n",
    "                return self.myCaccount.withdraw(amount)\n",
    "        \n",
    "        else:\n",
    "            raise ValueError(\"Invalid account type inserted\")\n",
    "        "
   ]
  },
  {
   "cell_type": "code",
   "execution_count": 259,
   "metadata": {},
   "outputs": [
    {
     "name": "stdout",
     "output_type": "stream",
     "text": [
      "Deposit of  7500  and new balance is  7500\n"
     ]
    },
    {
     "ename": "ValueError",
     "evalue": "Cannot withdraw a negative value",
     "output_type": "error",
     "traceback": [
      "\u001b[0;31m---------------------------------------------------------------------------\u001b[0m",
      "\u001b[0;31mValueError\u001b[0m                                Traceback (most recent call last)",
      "\u001b[0;32m<ipython-input-259-d2a893d4e9e3>\u001b[0m in \u001b[0;36m<module>\u001b[0;34m()\u001b[0m\n\u001b[1;32m      3\u001b[0m \u001b[0muser1\u001b[0m\u001b[0;34m.\u001b[0m\u001b[0mgetBalance\u001b[0m\u001b[0;34m(\u001b[0m\u001b[0mAccountType\u001b[0m\u001b[0;34m.\u001b[0m\u001b[0mCHECKING\u001b[0m\u001b[0;34m)\u001b[0m\u001b[0;34m\u001b[0m\u001b[0m\n\u001b[1;32m      4\u001b[0m \u001b[0muser1\u001b[0m\u001b[0;34m.\u001b[0m\u001b[0mdeposit\u001b[0m\u001b[0;34m(\u001b[0m\u001b[0mAccountType\u001b[0m\u001b[0;34m.\u001b[0m\u001b[0mCHECKING\u001b[0m\u001b[0;34m,\u001b[0m\u001b[0;36m7500\u001b[0m\u001b[0;34m)\u001b[0m\u001b[0;34m\u001b[0m\u001b[0m\n\u001b[0;32m----> 5\u001b[0;31m \u001b[0muser1\u001b[0m\u001b[0;34m.\u001b[0m\u001b[0mwithdraw\u001b[0m\u001b[0;34m(\u001b[0m\u001b[0mAccountType\u001b[0m\u001b[0;34m.\u001b[0m\u001b[0mCHECKING\u001b[0m\u001b[0;34m,\u001b[0m\u001b[0;34m-\u001b[0m\u001b[0;36m2500\u001b[0m\u001b[0;34m)\u001b[0m\u001b[0;34m\u001b[0m\u001b[0m\n\u001b[0m",
      "\u001b[0;32m<ipython-input-256-9ea2c4fbf716>\u001b[0m in \u001b[0;36mwithdraw\u001b[0;34m(self, accountType, amount)\u001b[0m\n\u001b[1;32m     70\u001b[0m                 \u001b[0;32mraise\u001b[0m \u001b[0mValueError\u001b[0m\u001b[0;34m(\u001b[0m\u001b[0;34m\"No checking account\"\u001b[0m\u001b[0;34m)\u001b[0m\u001b[0;34m\u001b[0m\u001b[0m\n\u001b[1;32m     71\u001b[0m             \u001b[0;32melse\u001b[0m\u001b[0;34m:\u001b[0m\u001b[0;34m\u001b[0m\u001b[0m\n\u001b[0;32m---> 72\u001b[0;31m                 \u001b[0;32mreturn\u001b[0m \u001b[0mself\u001b[0m\u001b[0;34m.\u001b[0m\u001b[0mmyCaccount\u001b[0m\u001b[0;34m.\u001b[0m\u001b[0mwithdraw\u001b[0m\u001b[0;34m(\u001b[0m\u001b[0mamount\u001b[0m\u001b[0;34m)\u001b[0m\u001b[0;34m\u001b[0m\u001b[0m\n\u001b[0m\u001b[1;32m     73\u001b[0m \u001b[0;34m\u001b[0m\u001b[0m\n\u001b[1;32m     74\u001b[0m         \u001b[0;32melse\u001b[0m\u001b[0;34m:\u001b[0m\u001b[0;34m\u001b[0m\u001b[0m\n",
      "\u001b[0;32m<ipython-input-245-0f80bc1151cd>\u001b[0m in \u001b[0;36mwithdraw\u001b[0;34m(self, amount)\u001b[0m\n\u001b[1;32m      8\u001b[0m     \u001b[0;32mdef\u001b[0m \u001b[0mwithdraw\u001b[0m\u001b[0;34m(\u001b[0m\u001b[0mself\u001b[0m\u001b[0;34m,\u001b[0m\u001b[0mamount\u001b[0m\u001b[0;34m)\u001b[0m\u001b[0;34m:\u001b[0m\u001b[0;34m\u001b[0m\u001b[0m\n\u001b[1;32m      9\u001b[0m         \u001b[0;32mif\u001b[0m \u001b[0mamount\u001b[0m \u001b[0;34m<=\u001b[0m \u001b[0;36m0\u001b[0m\u001b[0;34m:\u001b[0m\u001b[0;34m\u001b[0m\u001b[0m\n\u001b[0;32m---> 10\u001b[0;31m             \u001b[0;32mraise\u001b[0m \u001b[0mValueError\u001b[0m\u001b[0;34m(\u001b[0m\u001b[0;34m\"Cannot withdraw a negative value\"\u001b[0m\u001b[0;34m)\u001b[0m\u001b[0;34m\u001b[0m\u001b[0m\n\u001b[0m\u001b[1;32m     11\u001b[0m         \u001b[0;32mif\u001b[0m \u001b[0mamount\u001b[0m \u001b[0;34m>\u001b[0m \u001b[0mself\u001b[0m\u001b[0;34m.\u001b[0m\u001b[0mbalance\u001b[0m\u001b[0;34m:\u001b[0m\u001b[0;34m\u001b[0m\u001b[0m\n\u001b[1;32m     12\u001b[0m             \u001b[0;32mraise\u001b[0m \u001b[0mValueError\u001b[0m\u001b[0;34m(\u001b[0m\u001b[0;34m\"Insufficient funds\"\u001b[0m\u001b[0;34m)\u001b[0m\u001b[0;34m\u001b[0m\u001b[0m\n",
      "\u001b[0;31mValueError\u001b[0m: Cannot withdraw a negative value"
     ]
    }
   ],
   "source": [
    "user1 = BankUser(\"Filip\")\n",
    "user1.addAccount(AccountType.CHECKING)\n",
    "user1.getBalance(AccountType.CHECKING)\n",
    "user1.deposit(AccountType.CHECKING,7500)\n",
    "user1.withdraw(AccountType.CHECKING,-2500)"
   ]
  },
  {
   "cell_type": "markdown",
   "metadata": {},
   "source": [
    "Write some simple tests to make sure this is working. Think of edge scenarios a user might try to do."
   ]
  },
  {
   "cell_type": "code",
   "execution_count": 266,
   "metadata": {
    "collapsed": true
   },
   "outputs": [],
   "source": [
    "def test_withdraw_negative():\n",
    "    try:\n",
    "        user1 = BankUser(\"Filip\")\n",
    "        user1.addAccount(AccountType.CHECKING)\n",
    "        user1.withdraw(AccountType.CHECKING,-2500)\n",
    "    except ValueError as Valer:\n",
    "        assert(type(Valer)==ValueError)"
   ]
  },
  {
   "cell_type": "code",
   "execution_count": 267,
   "metadata": {},
   "outputs": [],
   "source": [
    "test_withdraw_negative()"
   ]
  },
  {
   "cell_type": "markdown",
   "metadata": {},
   "source": [
    "### Part 3:  ATM Closure\n",
    "\n",
    "Finally, we are going to rewrite a closure to use our bank account. We will make use of the [input function](http://anh.cs.luc.edu/python/hands-on/3.1/handsonHtml/io.html) which takes user input to decide what actions to take.\n",
    "\n",
    "Write a closure called ATMSession(bankUser) which takes in a BankUser object. Return a method called Interface that when called, would provide the following interface:\n",
    "\n",
    "First screen for user will look like:\n",
    "\n",
    "\n",
    "**Enter Option:**\n",
    "\n",
    "**1)Exit**\n",
    "\n",
    "**2)Create Account**\n",
    "\n",
    "**3)Check Balance**\n",
    "\n",
    "**4)Deposit**\n",
    "\n",
    "**5)Withdraw**\n",
    "\n",
    "\n",
    "Pressing 1 will exit, any other option will show the options:\n",
    "\n",
    "\n",
    "\n",
    "**Enter Option:**\n",
    "\n",
    "**1)Checking**\n",
    "\n",
    "**2)Savings**\n",
    "\n",
    "\n",
    "If a deposit or withdraw was chosen, then there must be a third screen:\n",
    "\n",
    "\n",
    "\n",
    "**Enter Integer Amount, Cannot Be Negative:**\n",
    "\n",
    "This is to keep the code relatively simple, if you'd like you can also curate the options depending on the BankUser object (for example, if user has no accounts then only show the Create Account option), but this is up to you. In any case, you must handle any input from the user in a reasonable way that an actual bank would be okay with, and give the user a proper response to the action specified.\n",
    "\n",
    "Upon finishing a transaction or viewing balance, it should go back to the original screen"
   ]
  },
  {
   "cell_type": "code",
   "execution_count": null,
   "metadata": {
    "collapsed": true
   },
   "outputs": [],
   "source": [
    "def ATMSession(bankUser):\n",
    "    def interface():\n",
    "        while True:\n",
    "            "
   ]
  },
  {
   "cell_type": "markdown",
   "metadata": {},
   "source": [
    "### Part 4:  Put everything in a module Bank.py\n",
    "\n",
    "We will be grading this problem with a test suite. Put the enum, classes, and closure in a single file named Bank.py. It is very important that the class and method specifications we provided are used (with the same capitalization), otherwise you will receive no credit."
   ]
  },
  {
   "cell_type": "markdown",
   "metadata": {},
   "source": [
    "---"
   ]
  },
  {
   "cell_type": "markdown",
   "metadata": {},
   "source": [
    "## Problem 2:  Linear Regression Class\n",
    "\n",
    "Let's say you want to create Python classes for three related types of linear regression: Ordinary Least Squares Linear Regression, Ridge Regression, and Lasso Regression. "
   ]
  },
  {
   "cell_type": "markdown",
   "metadata": {},
   "source": [
    "Consider the multivariate linear model:\n",
    "\n",
    "$$y = X\\beta + \\epsilon$$\n",
    "\n",
    "where $y$ is a length $n$ vector, $X$ is an $m \\times p$ matrix, and $\\beta$\n",
    "is a $p$ length vector of coefficients.\n",
    "\n",
    "#### Ordinary Least Squares Linear Regression\n",
    "\n",
    "[OLS Regression](https://en.wikipedia.org/wiki/Ordinary_least_squares) seeks to minimize the following cost function:\n",
    "\n",
    "$$\\|y - \\beta\\mathbf {X}\\|^{2}$$\n",
    "\n",
    "The best fit coefficients can be obtained by:\n",
    "\n",
    "$$\\hat{\\beta} = (X^T X)^{-1}X^Ty$$\n",
    "\n",
    "where $X^T$ is the transpose of the matrix $X$ and $X^{-1}$ is the inverse of the matrix $X$.\n",
    "\n",
    "#### Ridge Regression\n",
    "\n",
    "[Ridge Regression](https://en.wikipedia.org/wiki/Tikhonov_regularization) introduces an L2 regularization term to the cost function:\n",
    "\n",
    "$$\\|y - \\beta\\mathbf {X}\\|^{2}+\\|\\Gamma \\mathbf {x} \\|^{2}$$\n",
    "\n",
    "Where $\\Gamma = \\alpha I$ for some constant $\\alpha$ and the identity matrix $I$.\n",
    "\n",
    "The best fit coefficients can be obtained by:\n",
    "$$\\hat{\\beta} = (X^T X+\\Gamma^T\\Gamma)^{-1}X^Ty$$\n",
    "\n",
    "#### Lasso Regression\n",
    "\n",
    "[Lasso Regression](https://en.wikipedia.org/wiki/Lasso_%28statistics%29) introduces an L1 regularization term and restricts the total number of predictor variables in the model.\n",
    "The following cost function:\n",
    "$${\\displaystyle \\min _{\\beta _{0},\\beta }\\left\\{{\\frac {1}{m}}\\left\\|y-\\beta _{0}-X\\beta \\right\\|_{2}^{2}\\right\\}{\\text{ subject to }}\\|\\beta \\|_{1}\\leq \\alpha.}$$\n",
    "\n",
    "does not have a nice closed form solution. For the sake of this exercise, you may use the [sklearn.linear_model.Lasso](http://scikit-learn.org/stable/modules/generated/sklearn.linear_model.Lasso.html) class, which uses a coordinate descent algorithm to find the best fit. You should only use the class in the fit() method of this exercise (ie. do not re-use the sklearn for other methods in your class).\n",
    "\n",
    "#### $R^2$ score\n",
    "\n",
    "The $R^2$ score is defined as:\n",
    "$${R^{2} = {1-{SS_E \\over SS_T}}}$$\n",
    "\n",
    "Where:\n",
    "\n",
    "$$SS_T=\\sum_i (y_i-\\bar{y})^2, SS_R=\\sum_i (\\hat{y_i}-\\bar{y})^2, SS_E=\\sum_i (y_i - \\hat{y_i})^2$$\n",
    "\n",
    "where  ${y_i}$ are the original data values, $\\hat{y_i}$ are the predicted values, and $\\bar{y_i}$ is the mean of the original data values."
   ]
  },
  {
   "cell_type": "markdown",
   "metadata": {},
   "source": [
    "### Part 1:  Base Class\n",
    "Write a class called `Regression` with the following methods:\n",
    "\n",
    "$fit(X, y)$: Fits linear model to $X$ and $y$.\n",
    "\n",
    "$get\\_params()$: Returns $\\hat{\\beta}$ for the fitted model. The parameters should be stored in a dictionary.\n",
    "\n",
    "$predict(X)$: Predict new values with the fitted model given $X$.\n",
    "\n",
    "$score(X, y)$: Returns $R^2$ value of the fitted model.\n",
    "\n",
    "$set\\_params()$: Manually set the parameters of the linear model.\n",
    "\n",
    "This parent class should throw a `NotImplementedError` for methods that are intended to be implemented by subclasses."
   ]
  },
  {
   "cell_type": "code",
   "execution_count": 472,
   "metadata": {},
   "outputs": [],
   "source": [
    "class Regression:\n",
    "    \n",
    "    def __init__(self):\n",
    "        self.X = 0\n",
    "        self.y = 0\n",
    "        self.betas = 0\n",
    "        self.alpha=0.1\n",
    "        \n",
    "    def fit(self,X,y):\n",
    "        #reshape x and y arrays to get the right matrices for regre\n",
    "\n",
    "        raise NotImplementedError(\"Subclasses should implement this!\")\n",
    "        \n",
    "    def get_params(self):\n",
    "        self_betas=self.betas.reshape(-1,1)\n",
    "        print(self.betas.shape)\n",
    "        betas_dict={}\n",
    "        for index,value in enumerate(self.betas):\n",
    "            betas_dict[index]=value\n",
    "        return betas_dict\n",
    "    \n",
    "    def predict(self,X):\n",
    "        #print(self.betas.shape)\n",
    "        #print(sm.add_constant(X).T.shape)\n",
    "        #print(self.betas)\n",
    "        #print(sm.add_constant(X).T)\n",
    "        ypred = np.dot(self.betas,(sm.add_constant(X).T))\n",
    "        \n",
    "        #raise NotImplementedError(\"Subclasses should implement this!\")\n",
    "        return ypred\n",
    "        \n",
    "    def score(self,X,y):\n",
    "        ypred = self.predict(X)\n",
    "        ypred = ypred.reshape(-1,1)\n",
    "        #print(ypred)\n",
    "        y_mean=np.mean(y)\n",
    "        y=y.reshape(-1,1)\n",
    "        #print(\"y_mean\")\n",
    "        #print(y_mean)\n",
    "        #print(\"y-y_pred\")\n",
    "        #print((y - ypred)*(y - ypred))\n",
    "        #print(((y - ypred)).shape)\n",
    "        #print((y - y_mean)*(y-y_mean))\n",
    "        #print(np.sum((y - y_mean**2)))\n",
    "        score = 1- (np.sum((y - ypred)*(y - ypred))/np.sum((y - y_mean)*(y - y_mean)))\n",
    "        #raise NotImplementedError(\"Subclasses should implement this!\")\n",
    "        return score\n",
    "        \n",
    "    def set_params(self):\n",
    "        beta0 = float(input(\"Please input zero coefficient\"))\n",
    "        beta1 = float(input(\"Please input first coefficient\"))\n",
    "        self.betas = [beta0,beta1]\n",
    "        return None\n",
    "        "
   ]
  },
  {
   "cell_type": "code",
   "execution_count": 401,
   "metadata": {},
   "outputs": [
    {
     "ename": "TypeError",
     "evalue": "__init__() takes 1 positional argument but 3 were given",
     "output_type": "error",
     "traceback": [
      "\u001b[0;31m---------------------------------------------------------------------------\u001b[0m",
      "\u001b[0;31mTypeError\u001b[0m                                 Traceback (most recent call last)",
      "\u001b[0;32m<ipython-input-401-2bc874e24b56>\u001b[0m in \u001b[0;36m<module>\u001b[0;34m()\u001b[0m\n\u001b[1;32m      4\u001b[0m \u001b[0my_train\u001b[0m \u001b[0;34m=\u001b[0m \u001b[0mnp\u001b[0m\u001b[0;34m.\u001b[0m\u001b[0marray\u001b[0m\u001b[0;34m(\u001b[0m\u001b[0;34m[\u001b[0m\u001b[0;36m2\u001b[0m\u001b[0;34m,\u001b[0m \u001b[0;36m2\u001b[0m\u001b[0;34m,\u001b[0m \u001b[0;36m4\u001b[0m\u001b[0;34m,\u001b[0m \u001b[0;36m5\u001b[0m\u001b[0;34m]\u001b[0m\u001b[0;34m)\u001b[0m\u001b[0;34m\u001b[0m\u001b[0m\n\u001b[1;32m      5\u001b[0m \u001b[0;31m#print(y_train.reshape(-1,1))\u001b[0m\u001b[0;34m\u001b[0m\u001b[0;34m\u001b[0m\u001b[0m\n\u001b[0;32m----> 6\u001b[0;31m \u001b[0mtest_regr\u001b[0m \u001b[0;34m=\u001b[0m \u001b[0mRegression\u001b[0m\u001b[0;34m(\u001b[0m\u001b[0mx_train\u001b[0m\u001b[0;34m,\u001b[0m\u001b[0my_train\u001b[0m\u001b[0;34m)\u001b[0m\u001b[0;34m\u001b[0m\u001b[0m\n\u001b[0m\u001b[1;32m      7\u001b[0m \u001b[0;34m\u001b[0m\u001b[0m\n\u001b[1;32m      8\u001b[0m \u001b[0;31m#test_regr.fit(x_train,y_train)\u001b[0m\u001b[0;34m\u001b[0m\u001b[0;34m\u001b[0m\u001b[0m\n",
      "\u001b[0;31mTypeError\u001b[0m: __init__() takes 1 positional argument but 3 were given"
     ]
    }
   ],
   "source": [
    "#import statsmodels.api as sm\n",
    "\n",
    "x_train = np.array([1, 2, 3, 4])\n",
    "y_train = np.array([2, 2, 4, 5])\n",
    "#print(y_train.reshape(-1,1))\n",
    "test_regr = Regression(x_train,y_train)\n",
    "\n",
    "#test_regr.fit(x_train,y_train)\n",
    "#test_regr.set_params()\n",
    "#test_regr.get_params()\n"
   ]
  },
  {
   "cell_type": "markdown",
   "metadata": {},
   "source": [
    "### Part 2: OLS Linear Regression\n",
    "\n",
    "Write a class called `OLSRegression` that implements the OLS Regression model described above and inherits the `Regression` class."
   ]
  },
  {
   "cell_type": "code",
   "execution_count": 473,
   "metadata": {
    "collapsed": true
   },
   "outputs": [],
   "source": [
    "class OLSRegression(Regression):\n",
    "    \n",
    "    \n",
    "    def fit(self,X,y):\n",
    "        #reshape x and y arrays to get the right matrices for regre\n",
    "        self.X = X\n",
    "        self.y= y\n",
    "        #x_train = self.X.reshape(len(self.X),1)\n",
    "        #y_train = self.y.reshape(len(self.y),1)\n",
    "\n",
    "        #build matrix X by concatenating predictors and a column of ones\n",
    "        n = x_train.shape[0]\n",
    "        ones_col = np.ones((n, 1))\n",
    "        X = np.concatenate((ones_col, x_train), axis=1)\n",
    "\n",
    "        #matrix X^T X\n",
    "        LHS = np.dot(np.transpose(X), X)\n",
    "        #print(LHS)\n",
    "        #matrix X^T Y\n",
    "        RHS = np.dot(np.transpose(X), y_train)\n",
    "\n",
    "        #solution beta to normal equations, since LHS is invertible by construction\n",
    "        self.betas = np.dot(np.linalg.inv(LHS), RHS)\n",
    "        print(self.betas)\n",
    "        print(self.betas.shape)\n",
    "        #return None\n",
    "\n",
    "        "
   ]
  },
  {
   "cell_type": "code",
   "execution_count": 361,
   "metadata": {},
   "outputs": [],
   "source": [
    "x_train = np.array([1, 2, 3, 4])\n",
    "y_train = np.array([2, 2, 4, 5])\n",
    "#print(y_train.reshape(-1,1))\n",
    "\n",
    "#gamma = 3*np.eye(x_train.shape[0])\n",
    "#print(gamma)"
   ]
  },
  {
   "cell_type": "code",
   "execution_count": 474,
   "metadata": {
    "collapsed": true
   },
   "outputs": [],
   "source": [
    "test_regr1 = OLSRegression()"
   ]
  },
  {
   "cell_type": "code",
   "execution_count": 475,
   "metadata": {},
   "outputs": [
    {
     "name": "stdout",
     "output_type": "stream",
     "text": [
      "[  4.29470971e+01  -9.06047314e-02   6.23944402e-02   4.87219012e-02\n",
      "   3.02566349e+00  -1.94220512e+01   3.07062003e+00   3.90425727e-04\n",
      "  -1.59531728e+00   3.32480192e-01  -1.36229857e-02  -9.49914931e-01\n",
      "   8.03221946e-03  -5.60407340e-01]\n",
      "(14,)\n"
     ]
    }
   ],
   "source": [
    "test_regr1.fit(x_train,y_train)\n",
    "#test_regr1.score(x_train,y_train)\n"
   ]
  },
  {
   "cell_type": "code",
   "execution_count": 476,
   "metadata": {},
   "outputs": [
    {
     "data": {
      "text/plain": [
       "array([ 35.28691834,  20.86440781,  31.69258264,  24.08042214,\n",
       "        19.07410992,  23.58568232,  20.00777491,  22.73975108,\n",
       "        25.31674009,  25.66921741,  31.79148551,  23.89359026,\n",
       "        14.09319378,  19.22765438,  30.02321728,  18.91845289,\n",
       "        28.21273851,  14.91658568,  17.6032567 ,  16.78947006,\n",
       "        22.49555607,  17.36951807,  16.93449289,  19.61369075,\n",
       "        25.03160001,  18.08552103,  23.13808439,  13.598605  ,\n",
       "        25.12722249,  27.37215957,  22.26222262,  34.44102058,\n",
       "        20.39072654,  25.41938045,  36.32384178,  28.84907662,\n",
       "        27.9543056 ,   7.06425424,  22.38950431,  11.93856651,\n",
       "        20.68169996,  17.47345908,   8.19750395,   8.31735199,\n",
       "        16.40419572,  21.41693944,  32.37893031,  36.15022045,\n",
       "        12.85441371,  27.5110801 ,  28.39479002,  11.04559551,\n",
       "        24.78828849,  26.49804222,  19.04093281,  20.32042386,\n",
       "        18.16370036,  18.24657967,  28.00363912,  21.97246331,\n",
       "        19.70284106,  26.69954367,  10.86045027,  20.98884452,\n",
       "        22.71772745,  17.71300043,  18.59899027,  16.18977187,\n",
       "        17.11227205,  34.66156909,   8.55230272,  18.40327495,\n",
       "        13.1060419 ,  27.47914603,  14.54007802,  23.17394037,\n",
       "        17.02875403,  18.75340662,  24.37374981,  21.91361568,\n",
       "        18.97224744,  22.82345265,  14.96159805,  23.59468733,\n",
       "        23.5112957 ,  18.11711465,  20.44752046,  36.00691032,\n",
       "        20.67457678,  12.72022713,  21.34942083,  28.25604671,\n",
       "        20.24270086,  21.26772297,  24.48672493,  29.88557464,\n",
       "        12.97465948,  29.69887302,  40.81094329,   9.49920106,\n",
       "        20.84841881,  13.32209502,  17.26008062,  29.3573275 ,\n",
       "        22.82987249,  32.57384384,  14.0895736 ,  27.29145207,\n",
       "        18.99499186,  19.42705555,   8.40871581,  26.55631075,\n",
       "        26.08995525,  18.44339748,  36.89565287,  13.31602248,\n",
       "        16.9768102 ,  28.69403148,  23.33280989,  27.08481478,\n",
       "        16.50239078,  30.10002025,  20.16358153,  18.48826512,\n",
       "        11.89260937,  20.64653803,  34.87875765,  33.5390467 ,\n",
       "        12.99466226,  26.53039538,  25.13609002,  29.79881525,\n",
       "        22.74117909,  30.69245267,  19.49989835,  33.70500576,\n",
       "        20.7774024 ,  33.44672616,  -2.80203663,  27.42047282,\n",
       "        19.34959566,  13.91642606,  23.76618598,  19.81629435,\n",
       "         6.97677516,  21.74135039,  32.862255  ,  24.39530074,\n",
       "        39.45950059,  18.15730109,  25.21177676,  34.93392477,\n",
       "        36.94850267,  13.23354828,  15.73746008,  32.24964196,\n",
       "        17.61042407,  32.95779005,  31.06004176,  31.15956063,\n",
       "        24.27655413,   1.73805708,  20.73794064,  24.33452216,\n",
       "         9.63078647,  31.82437089,  30.43241184,  20.17658246,\n",
       "        14.28267883,  10.37737924,  22.33294509,  14.65476098,\n",
       "        18.84072251,  19.53559993,  18.57907511,  10.96884684,\n",
       "        25.00467155,  20.1617166 ,  27.00794038,  20.31806447,\n",
       "        32.47088371,  24.70684381,  17.01103834,  23.87256815,\n",
       "        35.67318362,  28.91121455,  24.19420101,   8.92768079,\n",
       "        30.41901178,  17.392872  ,  35.72577353,  19.18196828,\n",
       "        27.66641342,   9.36328449,  20.25842824,  14.36816682,\n",
       "        15.81523373,  27.39494388,  21.06321818,  22.36930732,\n",
       "        23.58871463,  17.13677235,  18.95312953,  25.06035579,\n",
       "        20.0078507 ,  13.1431343 ,  31.57127957,  20.10851686,\n",
       "        22.74434674,  15.99150923,  22.866377  ,  32.86193433,\n",
       "        13.00795941,  21.20722988,  28.17871721,  25.55661929,\n",
       "        23.55593119,  28.40014926,   6.13072858,  26.78712392,\n",
       "        32.59559988,  18.38107639,  23.35461039,  42.21652092,\n",
       "        23.90260608,  29.32801234,  18.47962779,  17.00597769,\n",
       "        22.39206145,  19.61582395,  23.72965335,  19.64390866,\n",
       "        23.53260031,  16.46652164,  26.96196161,  24.77528664,\n",
       "        20.54511739,  23.54134192,  24.54349628,  21.04923448,\n",
       "        15.75592529,  23.25252458,  33.48640906,  28.49240525,\n",
       "        16.89627846,   8.08004532,  20.00735031,  23.04913208,\n",
       "        11.78075965,  18.85980124,  21.15490343,  20.28130359,\n",
       "        17.15247942,  24.97682158,  26.99750861,  19.37733521,\n",
       "        26.94591763,  16.96633779,  19.70206123,  19.51157397,\n",
       "        30.88158165,  18.40307433,  20.18613988,  36.19062347,\n",
       "        18.45264278,  13.97919707,  31.25216787,  20.95970797,\n",
       "        43.27642255,  24.9540118 ,  29.71365568,  19.8105665 ,\n",
       "        13.42755138,  21.44654135,  30.33517327,  14.54915809,\n",
       "        22.29349719,  18.17338184,  27.81067006,  23.04602562,\n",
       "        21.07737697,  22.69081549,  23.42794907,  13.05616105,\n",
       "        25.65419814,  38.04148244,  13.19517351,  28.71517353,\n",
       "        37.81537208,  29.99058353,  35.15997556,  27.72191226,\n",
       "        15.290985  ,  16.51138879,   2.98892371,  18.22650941,\n",
       "         4.77845703,  36.25421208,  40.62576022,  22.16535645,\n",
       "        18.6769631 ,  19.83732912,  24.49326384,  21.21115866,\n",
       "        15.70129752,  21.18373255,  25.0948322 ,   6.49982897,\n",
       "        38.629204  ,  33.12271365,  24.47145186,  10.71612702,\n",
       "        31.84121362,  25.86640761,  35.14939158,  23.61758446,\n",
       "        15.11962866,  17.36270195,  26.94061508,  19.74095039,\n",
       "        22.11775048,  33.85518785,  24.30905229,  20.86928033,\n",
       "        17.23264332,  31.88232062,  17.42076875,  24.97021842,\n",
       "        17.90897654,  20.44586426,  34.2999158 ,  16.37267336,\n",
       "        28.28632762,  22.18018491,  20.19123449,  11.38502969,\n",
       "        21.66840924,  29.58658052,  24.96911108,  23.81039908,\n",
       "        31.7403839 ,  28.87541019,  17.30426898,  24.40891221,\n",
       "        32.0358828 ,  19.80332251,  12.30839173,  27.01959458,\n",
       "        26.73197129,  23.10586457,  33.2681506 ,  14.5969085 ,\n",
       "        15.7760991 ,  32.60197068])"
      ]
     },
     "execution_count": 476,
     "metadata": {},
     "output_type": "execute_result"
    }
   ],
   "source": [
    "test_regr1.predict(x_train)"
   ]
  },
  {
   "cell_type": "code",
   "execution_count": 478,
   "metadata": {},
   "outputs": [
    {
     "data": {
      "text/plain": [
       "0.70586054902262596"
      ]
     },
     "execution_count": 478,
     "metadata": {},
     "output_type": "execute_result"
    }
   ],
   "source": [
    "test_regr1.score(x_train,y_train)"
   ]
  },
  {
   "cell_type": "markdown",
   "metadata": {},
   "source": [
    "### Part 3: Ridge Regression\n",
    "\n",
    "Write a class called `RidgeRegression` that implements Ridge Regression and inherits the `OLSRegression` class."
   ]
  },
  {
   "cell_type": "markdown",
   "metadata": {},
   "source": [
    "$$\\hat{\\beta} = (X^T X+\\Gamma^T\\Gamma)^{-1}X^Ty$$"
   ]
  },
  {
   "cell_type": "code",
   "execution_count": 479,
   "metadata": {
    "collapsed": true
   },
   "outputs": [],
   "source": [
    "class RidgeRegression(OLSRegression):\n",
    "    \n",
    "    def fit(self,X,y,alpha):\n",
    "        self.X = X\n",
    "        self.y= y\n",
    "        #x_train = self.X.reshape(len(self.X),1)\n",
    "        #y_train = self.y.reshape(len(self.y),1)\n",
    "        \n",
    "        \n",
    "        #build matrix X by concatenating predictors and a column of ones\n",
    "        n = x_train.shape[0]\n",
    "        ones_col = np.ones((n, 1))\n",
    "        X = np.concatenate((ones_col, x_train), axis=1)\n",
    "        \n",
    "        \n",
    "        #matrix X^T X\n",
    "        LHS = np.dot(np.transpose(X), X)\n",
    "        #print(LHS)\n",
    "        gamma = alpha*np.eye(LHS.shape[0])\n",
    "        #print(gamma)\n",
    "        gammas = np.dot(np.transpose(gamma), gamma)\n",
    "        \n",
    "        \n",
    "        #matrix X^T Y\n",
    "        RHS = np.dot(np.transpose(X), y_train)\n",
    "\n",
    "        #solution beta to normal equations, since LHS is invertible by construction\n",
    "        self.betas = np.dot(np.linalg.inv(LHS+gammas), RHS)\n",
    "        #print(self.betas)\n",
    "        print(self.betas)\n",
    "        print(self.betas.shape)\n",
    "        return None"
   ]
  },
  {
   "cell_type": "code",
   "execution_count": 480,
   "metadata": {},
   "outputs": [],
   "source": [
    "test_ridge = RidgeRegression()"
   ]
  },
  {
   "cell_type": "code",
   "execution_count": 481,
   "metadata": {},
   "outputs": [
    {
     "name": "stdout",
     "output_type": "stream",
     "text": [
      "[  2.84218856e+01  -7.63768815e-02   6.31552225e-02   2.68199475e-02\n",
      "   3.06341561e+00  -1.20231448e+01   3.85526356e+00  -4.39073826e-03\n",
      "  -1.37850799e+00   2.71551864e-01  -1.26884998e-02  -7.30987301e-01\n",
      "   1.02348576e-02  -5.18831212e-01]\n",
      "(14,)\n"
     ]
    }
   ],
   "source": [
    "test_ridge.fit(x_train,y_train,0.5)"
   ]
  },
  {
   "cell_type": "code",
   "execution_count": 440,
   "metadata": {},
   "outputs": [
    {
     "name": "stdout",
     "output_type": "stream",
     "text": [
      "(14,)\n",
      "(14, 354)\n"
     ]
    },
    {
     "data": {
      "text/plain": [
       "array([ 35.16235558,  20.57664803,  31.39485852,  23.66401876,\n",
       "        18.52396686,  22.91710939,  20.18902686,  22.236222  ,\n",
       "        24.63301084,  26.47340201,  31.88404989,  24.00432615,\n",
       "        13.83853034,  19.66072356,  29.19594076,  19.39998329,\n",
       "        27.96506342,  14.62206258,  18.15324942,  17.14716449,\n",
       "        22.14482439,  17.8628353 ,  16.40443362,  19.20680295,\n",
       "        24.76076141,  18.23500401,  22.81858942,  13.63307936,\n",
       "        24.41684687,  26.99352544,  23.16577547,  34.79784953,\n",
       "        21.29142928,  24.7411688 ,  36.58167356,  28.26122169,\n",
       "        27.55343837,   6.79149697,  22.05430469,  11.98715193,\n",
       "        21.06448794,  17.27145311,   8.30748292,   8.53248233,\n",
       "        16.1102473 ,  22.85225951,  32.35326044,  38.11725937,\n",
       "        13.61349014,  26.96257997,  27.9402829 ,  11.66291626,\n",
       "        25.68115756,  25.62665402,  19.79796626,  20.69671699,\n",
       "        18.75672127,  18.83688204,  27.45624452,  22.31702255,\n",
       "        20.57354521,  26.36532285,  10.72094275,  21.13227051,\n",
       "        21.47457837,  18.21341806,  18.08502671,  16.97749285,\n",
       "        16.42599914,  34.91562736,   8.35632931,  18.87871277,\n",
       "        13.56134274,  26.70455267,  15.29507414,  22.79757275,\n",
       "        17.496879  ,  18.62948075,  23.31968205,  20.86373104,\n",
       "        19.50927423,  21.80875747,  16.20825426,  23.42650342,\n",
       "        23.22748861,  17.94638718,  20.64738284,  35.62625321,\n",
       "        20.58089483,  13.00335974,  22.85628747,  27.83806727,\n",
       "        19.66157306,  21.47402714,  23.26548006,  29.86204931,\n",
       "        12.61900553,  29.9457531 ,  41.26761429,  10.22902955,\n",
       "        21.35260527,  13.55584487,  15.85033383,  28.77119682,\n",
       "        22.68683335,  32.13462068,  14.44646848,  27.12070494,\n",
       "        19.8874879 ,  19.14315021,   9.0378544 ,  25.4447001 ,\n",
       "        25.92368744,  18.41590738,  37.13682957,  12.95719016,\n",
       "        17.01025798,  27.47497374,  23.67111001,  27.94765535,\n",
       "        16.48329031,  29.7617063 ,  20.2258803 ,  18.32306116,\n",
       "        12.58842376,  20.27990998,  34.62523788,  33.61131572,\n",
       "        12.92274892,  25.63397849,  24.39509189,  29.21361588,\n",
       "        22.3884994 ,  30.04010702,  19.91267647,  33.49753959,\n",
       "        20.31205847,  32.60146534,  -3.20382383,  27.27711504,\n",
       "        18.45283908,  13.95528052,  24.05383793,  20.41312099,\n",
       "         6.81076768,  21.26306142,  32.52199014,  24.11031815,\n",
       "        40.19112421,  18.11745315,  23.28410006,  35.19965991,\n",
       "        37.38911779,  13.26337269,  16.55923697,  31.98744807,\n",
       "        18.56297496,  32.16812791,  30.50767209,  30.51474545,\n",
       "        24.72295243,   1.07262857,  20.18925612,  24.18956716,\n",
       "         8.2722109 ,  31.57826516,  30.44417232,  20.33355204,\n",
       "        14.8930401 ,  10.1954778 ,  22.76132005,  14.86459891,\n",
       "        19.76689696,  19.65743316,  19.21936371,  10.89565164,\n",
       "        25.56003394,  21.19152115,  26.28385769,  20.89406693,\n",
       "        32.42484243,  24.80528774,  17.05348979,  23.38410241,\n",
       "        35.84588654,  28.29357099,  25.16536819,   9.16384362,\n",
       "        30.28236245,  18.02216705,  35.56805026,  19.98999597,\n",
       "        27.97576421,  10.2113044 ,  20.50255735,  14.17095545,\n",
       "        16.23823044,  27.1922736 ,  21.36411075,  21.89440248,\n",
       "        23.15496245,  15.71375044,  19.04738054,  25.98368607,\n",
       "        20.47447299,  10.38917928,  31.1938567 ,  21.11451296,\n",
       "        22.68408616,  15.58064474,  22.5249912 ,  33.12481576,\n",
       "        13.72192254,  21.21808897,  27.70590322,  26.45084641,\n",
       "        23.19161954,  29.01701158,   6.32101438,  26.7050526 ,\n",
       "        32.2201459 ,  18.17839635,  23.28865618,  42.10417681,\n",
       "        23.55813122,  28.72399844,  19.09377867,  16.56778666,\n",
       "        23.20912219,  19.34345687,  23.06612795,  20.31935125,\n",
       "        22.99481327,  16.44858825,  26.25477179,  24.98950487,\n",
       "        20.21183093,  24.1839933 ,  24.6489562 ,  21.85395502,\n",
       "        16.13383238,  22.60701448,  33.88775645,  28.25238713,\n",
       "        17.45126371,   8.60323449,  20.30594265,  22.746905  ,\n",
       "        12.71071912,  18.70838189,  20.80116962,  19.98337396,\n",
       "        17.50464521,  24.86978037,  26.77760807,  19.91471179,\n",
       "        26.55520268,  15.92244249,  20.65794381,  20.1509455 ,\n",
       "        30.51778693,  18.64575248,  20.40721475,  36.2040298 ,\n",
       "        18.66624339,  13.20778175,  32.11675786,  20.755771  ,\n",
       "        43.26852318,  23.83212974,  28.96812896,  20.04342032,\n",
       "        13.71344419,  20.59931656,  30.86977507,  14.37729235,\n",
       "        22.24745881,  18.2584871 ,  28.24405492,  21.81043777,\n",
       "        21.21918783,  22.0504377 ,  22.03075835,  13.29652139,\n",
       "        26.23988963,  38.83644234,  13.22975585,  27.93508312,\n",
       "        37.75727696,  30.13932858,  34.17222357,  28.23449213,\n",
       "        15.68694132,  16.38541279,   1.31699925,  18.32052978,\n",
       "         5.30665658,  36.33437224,  40.6635332 ,  22.45542177,\n",
       "        19.41874878,  20.61221022,  24.4512985 ,  20.80998357,\n",
       "        15.8053888 ,  21.26132114,  25.37748856,   6.20688316,\n",
       "        38.30598506,  32.6275327 ,  24.00779722,  11.18139011,\n",
       "        31.74011394,  25.85863418,  34.96128382,  23.43296271,\n",
       "        15.35415126,  16.83268073,  26.2609969 ,  19.4577486 ,\n",
       "        22.01020026,  34.36962698,  24.20052343,  21.21799789,\n",
       "        17.63778787,  31.35993535,  17.05725438,  25.10083334,\n",
       "        18.64493921,  20.93893822,  34.85737359,  16.48685536,\n",
       "        28.23885607,  23.29823495,  19.88948385,  12.37556772,\n",
       "        22.43613783,  29.38576896,  24.78330654,  23.34155265,\n",
       "        31.97547203,  28.09810358,  17.87266871,  23.78662693,\n",
       "        32.02186738,  19.37490845,  12.67220434,  26.61617078,\n",
       "        26.69963805,  23.99710698,  31.96288325,  15.49964672,\n",
       "        16.32758837,  31.69368649])"
      ]
     },
     "execution_count": 440,
     "metadata": {},
     "output_type": "execute_result"
    }
   ],
   "source": [
    "test_ridge.predict(x_train)"
   ]
  },
  {
   "cell_type": "code",
   "execution_count": 482,
   "metadata": {},
   "outputs": [
    {
     "name": "stdout",
     "output_type": "stream",
     "text": [
      "(14,)\n"
     ]
    },
    {
     "data": {
      "text/plain": [
       "{0: 28.421885588941223,\n",
       " 1: -0.076376881527908225,\n",
       " 2: 0.063155222462128346,\n",
       " 3: 0.026819947509031827,\n",
       " 4: 3.0634156083061015,\n",
       " 5: -12.023144796188433,\n",
       " 6: 3.8552635611625874,\n",
       " 7: -0.0043907382628978198,\n",
       " 8: -1.3785079856567499,\n",
       " 9: 0.27155186426055877,\n",
       " 10: -0.012688499810971976,\n",
       " 11: -0.73098730100423381,\n",
       " 12: 0.010234857627858224,\n",
       " 13: -0.5188312115192133}"
      ]
     },
     "execution_count": 482,
     "metadata": {},
     "output_type": "execute_result"
    }
   ],
   "source": [
    "test_ridge.get_params()"
   ]
  },
  {
   "cell_type": "code",
   "execution_count": 483,
   "metadata": {},
   "outputs": [
    {
     "data": {
      "text/plain": [
       "0.7014177530696426"
      ]
     },
     "execution_count": 483,
     "metadata": {},
     "output_type": "execute_result"
    }
   ],
   "source": [
    "test_ridge.score(x_train,y_train)"
   ]
  },
  {
   "cell_type": "code",
   "execution_count": 484,
   "metadata": {},
   "outputs": [
    {
     "name": "stdout",
     "output_type": "stream",
     "text": [
      "(14,)\n"
     ]
    },
    {
     "data": {
      "text/plain": [
       "{0: 28.421885588941223,\n",
       " 1: -0.076376881527908225,\n",
       " 2: 0.063155222462128346,\n",
       " 3: 0.026819947509031827,\n",
       " 4: 3.0634156083061015,\n",
       " 5: -12.023144796188433,\n",
       " 6: 3.8552635611625874,\n",
       " 7: -0.0043907382628978198,\n",
       " 8: -1.3785079856567499,\n",
       " 9: 0.27155186426055877,\n",
       " 10: -0.012688499810971976,\n",
       " 11: -0.73098730100423381,\n",
       " 12: 0.010234857627858224,\n",
       " 13: -0.5188312115192133}"
      ]
     },
     "execution_count": 484,
     "metadata": {},
     "output_type": "execute_result"
    }
   ],
   "source": [
    "test_ridge.get_params()"
   ]
  },
  {
   "cell_type": "markdown",
   "metadata": {},
   "source": [
    "### Part 3: Lasso Regression\n",
    "\n",
    "Write a class called `LassoRegression` that implements Lasso Regression and inherits the `OLSRegression` class. You should only use Lasso(), Lasso.fit(), Lasso.coef_, and Lasso._intercept from the `sklearn.linear_model.Lasso` class."
   ]
  },
  {
   "cell_type": "code",
   "execution_count": 338,
   "metadata": {
    "collapsed": true
   },
   "outputs": [],
   "source": [
    "from sklearn.linear_model import Lasso"
   ]
  },
  {
   "cell_type": "code",
   "execution_count": 462,
   "metadata": {},
   "outputs": [],
   "source": [
    "class LassoRegression(OLSRegression):\n",
    "    \n",
    "    def fit(self,X,y):\n",
    "        #X=X.reshape(len(X),1)\n",
    "        #y=y.reshape(len(y),1)\n",
    "        \n",
    "        model = Lasso(alpha=self.alpha,fit_intercept=True)\n",
    "        fitted_model= model.fit(X,y)\n",
    "        intercept = fitted_model.intercept_\n",
    "        coeffs = np.array(fitted_model.coef_)\n",
    "        self.betas=np.insert(coeffs,0,intercept)\n",
    "        #self.betas = self.betas.reshape(-1,1)\n",
    "        #=np.array([fitted_model.intercept_[0],fitted_model.coef_[i]]).reshape(-1,1)\n",
    "        print(self.betas)\n",
    "        "
   ]
  },
  {
   "cell_type": "code",
   "execution_count": 459,
   "metadata": {},
   "outputs": [
    {
     "name": "stdout",
     "output_type": "stream",
     "text": [
      "(354, 13)\n",
      "(354,)\n"
     ]
    }
   ],
   "source": [
    "print(x_train.shape)\n",
    "print(y_train.shape)"
   ]
  },
  {
   "cell_type": "code",
   "execution_count": 463,
   "metadata": {},
   "outputs": [
    {
     "name": "stdout",
     "output_type": "stream",
     "text": [
      "[  3.11520812e+01  -7.39116894e-02   6.56890339e-02  -2.18463416e-02\n",
      "   1.34374462e+00  -0.00000000e+00   2.91332913e+00  -9.89484561e-03\n",
      "  -1.23514400e+00   3.01427281e-01  -1.61487463e-02  -7.46486997e-01\n",
      "   8.98172571e-03  -6.12541889e-01]\n"
     ]
    }
   ],
   "source": [
    "lasso_test= LassoRegression()\n",
    "lasso_test.fit(x_train,y_train)\n",
    "#lasso_test.get_params()"
   ]
  },
  {
   "cell_type": "code",
   "execution_count": 464,
   "metadata": {},
   "outputs": [
    {
     "name": "stdout",
     "output_type": "stream",
     "text": [
      "(14,)\n",
      "(14, 354)\n"
     ]
    },
    {
     "data": {
      "text/plain": [
       "0.68852389858286167"
      ]
     },
     "execution_count": 464,
     "metadata": {},
     "output_type": "execute_result"
    }
   ],
   "source": [
    "lasso_test.score(x_train,y_train)"
   ]
  },
  {
   "cell_type": "code",
   "execution_count": null,
   "metadata": {},
   "outputs": [],
   "source": []
  },
  {
   "cell_type": "code",
   "execution_count": null,
   "metadata": {
    "collapsed": true
   },
   "outputs": [],
   "source": []
  },
  {
   "cell_type": "markdown",
   "metadata": {},
   "source": [
    "### Part 4: Model Scoring\n",
    "You will use the [Boston dataset](http://scikit-learn.org/stable/modules/generated/sklearn.datasets.load_boston.html) for this part.\n",
    "\n",
    "Instantiate each of the three models above.  Using a for loop, fit (on the training data) and score (on the testing data) each model on the Boston dataset.  \n",
    "\n",
    "Print out the $R^2$ value for each model and the parameters for the best model using the `get_params()` method. Use an $\\alpha$ value of 0.1.\n",
    "\n",
    "**Hint:**  You can consider using the `sklearn.model_selection.train_test_split` method to create the training and test datasets."
   ]
  },
  {
   "cell_type": "code",
   "execution_count": 402,
   "metadata": {},
   "outputs": [
    {
     "name": "stdout",
     "output_type": "stream",
     "text": [
      "(354, 13)\n"
     ]
    },
    {
     "data": {
      "text/plain": [
       "'\\nmodelOLS = OLSRegression()\\nmodelRidge = RidgeRegression()\\nmodelLasso = LassoRegression()\\n\\nmodels = [modelOLS, modelRidge, modelLasso]\\n\\nfor model in models:\\n    model.fit(x_train,y_train)\\n    model.score\\n'"
      ]
     },
     "execution_count": 402,
     "metadata": {},
     "output_type": "execute_result"
    }
   ],
   "source": [
    "from sklearn.datasets import load_boston \n",
    "from sklearn.model_selection import train_test_split\n",
    "\n",
    "boston = load_boston()\n",
    "#print(boston.target)\n",
    "#print(boston.data)\n",
    "\n",
    "x_train, x_test, y_train,y_test = train_test_split(boston.data,boston.target, test_size=0.3)\n",
    "\n",
    "\n",
    "print(x_train.shape)\n",
    "\"\"\"\n",
    "modelOLS = OLSRegression()\n",
    "modelRidge = RidgeRegression()\n",
    "modelLasso = LassoRegression()\n",
    "\n",
    "models = [modelOLS, modelRidge, modelLasso]\n",
    "\n",
    "for model in models:\n",
    "    model.fit(x_train,y_train)\n",
    "    model.score\n",
    "\"\"\"\n"
   ]
  },
  {
   "cell_type": "markdown",
   "metadata": {},
   "source": [
    "### Part 5: Visualize Model Performance\n",
    "\n",
    "We can evaluate how the models perform for various values of $\\alpha$. Calculate the $R^2$ scores for each model for  $\\alpha \\in [0.05, 1]$ and plot the three lines on the same graph. To change the parameters, use the `set_params()` method. Be sure to label each line and add axis labels."
   ]
  },
  {
   "cell_type": "code",
   "execution_count": null,
   "metadata": {
    "collapsed": true
   },
   "outputs": [],
   "source": []
  }
 ],
 "metadata": {
  "kernelspec": {
   "display_name": "Python 3",
   "language": "python",
   "name": "python3"
  },
  "language_info": {
   "codemirror_mode": {
    "name": "ipython",
    "version": 3
   },
   "file_extension": ".py",
   "mimetype": "text/x-python",
   "name": "python",
   "nbconvert_exporter": "python",
   "pygments_lexer": "ipython3",
   "version": "3.6.1"
  }
 },
 "nbformat": 4,
 "nbformat_minor": 2
}
