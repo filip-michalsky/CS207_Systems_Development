{
 "cells": [
  {
   "cell_type": "markdown",
   "metadata": {},
   "source": [
    "# Homework 6\n",
    "## Due:  Tuesday, October 10 at 11:59 PM"
   ]
  },
  {
   "cell_type": "markdown",
   "metadata": {},
   "source": [
    "# Problem 1: Bank Account Revisited\n",
    "\n",
    "We are going to rewrite the bank account closure problem we had a few assignments ago, only this time developing a formal class for a Bank User and Bank Account to use in our closure (recall previously we just had a nonlocal variable amount that we changed). "
   ]
  },
  {
   "cell_type": "markdown",
   "metadata": {},
   "source": [
    "### Some Preliminaries:\n",
    "First we are going to define two types of bank accounts.  Use the code below to do this:"
   ]
  },
  {
   "cell_type": "code",
   "execution_count": 1,
   "metadata": {
    "collapsed": true
   },
   "outputs": [],
   "source": [
    "from enum import Enum\n",
    "class AccountType(Enum):\n",
    "    SAVINGS = 1\n",
    "    CHECKING = 2"
   ]
  },
  {
   "cell_type": "markdown",
   "metadata": {},
   "source": [
    "An Enum stands for an enumeration, it's a convenient way for you to define lists of things. Typing:"
   ]
  },
  {
   "cell_type": "code",
   "execution_count": 2,
   "metadata": {},
   "outputs": [
    {
     "data": {
      "text/plain": [
       "<AccountType.SAVINGS: 1>"
      ]
     },
     "execution_count": 2,
     "metadata": {},
     "output_type": "execute_result"
    }
   ],
   "source": [
    "AccountType.SAVINGS"
   ]
  },
  {
   "cell_type": "code",
   "execution_count": 6,
   "metadata": {},
   "outputs": [
    {
     "data": {
      "text/plain": [
       "2"
      ]
     },
     "execution_count": 6,
     "metadata": {},
     "output_type": "execute_result"
    }
   ],
   "source": [
    "AccountType.CHECKING.value"
   ]
  },
  {
   "cell_type": "markdown",
   "metadata": {},
   "source": [
    "returns a Python representation of an enumeration. You can compare these account types:"
   ]
  },
  {
   "cell_type": "code",
   "execution_count": 3,
   "metadata": {},
   "outputs": [
    {
     "data": {
      "text/plain": [
       "True"
      ]
     },
     "execution_count": 3,
     "metadata": {},
     "output_type": "execute_result"
    }
   ],
   "source": [
    "AccountType.SAVINGS == AccountType.SAVINGS"
   ]
  },
  {
   "cell_type": "code",
   "execution_count": 4,
   "metadata": {},
   "outputs": [
    {
     "data": {
      "text/plain": [
       "False"
      ]
     },
     "execution_count": 4,
     "metadata": {},
     "output_type": "execute_result"
    }
   ],
   "source": [
    "AccountType.SAVINGS == AccountType.CHECKING"
   ]
  },
  {
   "cell_type": "markdown",
   "metadata": {},
   "source": [
    "To get a string representation of an Enum, you can use:"
   ]
  },
  {
   "cell_type": "code",
   "execution_count": 5,
   "metadata": {},
   "outputs": [
    {
     "data": {
      "text/plain": [
       "'SAVINGS'"
      ]
     },
     "execution_count": 5,
     "metadata": {},
     "output_type": "execute_result"
    }
   ],
   "source": [
    "AccountType.SAVINGS.name"
   ]
  },
  {
   "cell_type": "code",
   "execution_count": 6,
   "metadata": {},
   "outputs": [
    {
     "ename": "ValueError",
     "evalue": "ba",
     "output_type": "error",
     "traceback": [
      "\u001b[0;31m---------------------------------------------------------------------------\u001b[0m",
      "\u001b[0;31mValueError\u001b[0m                                Traceback (most recent call last)",
      "\u001b[0;32m<ipython-input-6-d1f8cf5a2dab>\u001b[0m in \u001b[0;36m<module>\u001b[0;34m()\u001b[0m\n\u001b[0;32m----> 1\u001b[0;31m \u001b[0;32mraise\u001b[0m \u001b[0mValueError\u001b[0m\u001b[0;34m(\u001b[0m\u001b[0;34m\"ba\"\u001b[0m\u001b[0;34m)\u001b[0m\u001b[0;34m\u001b[0m\u001b[0m\n\u001b[0m",
      "\u001b[0;31mValueError\u001b[0m: ba"
     ]
    }
   ],
   "source": [
    "raise ValueError(\"ba\")"
   ]
  },
  {
   "cell_type": "markdown",
   "metadata": {},
   "source": [
    "### Part 1: Create a BankAccount class with the following specification:\n",
    "\n",
    "Constructor is `BankAccount(self, owner, accountType)` where `owner` is a string representing the name of the account owner and `accountType` is one of the AccountType enums\n",
    "\n",
    "Methods `withdraw(self, amount)` and `deposit(self, amount)` to modify the account balance of the account\n",
    "\n",
    "Override methods `__str__` to write an informative string of the account owner and the type of account, and `__len__` to return the balance of the account"
   ]
  },
  {
   "cell_type": "code",
   "execution_count": 7,
   "metadata": {},
   "outputs": [
    {
     "name": "stdout",
     "output_type": "stream",
     "text": [
      "Owner of account Filip M and account type is SAVINGS\n",
      "Deposit of  100  and new balance is  100\n",
      "100\n"
     ]
    },
    {
     "ename": "AttributeError",
     "evalue": "Insufficient funds",
     "output_type": "error",
     "traceback": [
      "\u001b[0;31m---------------------------------------------------------------------------\u001b[0m",
      "\u001b[0;31mAttributeError\u001b[0m                            Traceback (most recent call last)",
      "\u001b[0;32m<ipython-input-7-b16a6235dced>\u001b[0m in \u001b[0;36m<module>\u001b[0;34m()\u001b[0m\n\u001b[1;32m     35\u001b[0m \u001b[0mBankacc1\u001b[0m\u001b[0;34m.\u001b[0m\u001b[0mdeposit\u001b[0m\u001b[0;34m(\u001b[0m\u001b[0;36m100\u001b[0m\u001b[0;34m)\u001b[0m\u001b[0;34m\u001b[0m\u001b[0m\n\u001b[1;32m     36\u001b[0m \u001b[0mprint\u001b[0m\u001b[0;34m(\u001b[0m\u001b[0mlen\u001b[0m\u001b[0;34m(\u001b[0m\u001b[0mBankacc1\u001b[0m\u001b[0;34m)\u001b[0m\u001b[0;34m)\u001b[0m\u001b[0;34m\u001b[0m\u001b[0m\n\u001b[0;32m---> 37\u001b[0;31m \u001b[0mBankacc1\u001b[0m\u001b[0;34m.\u001b[0m\u001b[0mwithdraw\u001b[0m\u001b[0;34m(\u001b[0m\u001b[0;36m200\u001b[0m\u001b[0;34m)\u001b[0m\u001b[0;34m\u001b[0m\u001b[0m\n\u001b[0m\u001b[1;32m     38\u001b[0m \u001b[0;34m\u001b[0m\u001b[0m\n\u001b[1;32m     39\u001b[0m \u001b[0;34m\u001b[0m\u001b[0m\n",
      "\u001b[0;32m<ipython-input-7-b16a6235dced>\u001b[0m in \u001b[0;36mwithdraw\u001b[0;34m(self, amount)\u001b[0m\n\u001b[1;32m     10\u001b[0m             \u001b[0;32mraise\u001b[0m \u001b[0mValueError\u001b[0m\u001b[0;34m(\u001b[0m\u001b[0;34m\"Cannot withdraw a negative value\"\u001b[0m\u001b[0;34m)\u001b[0m\u001b[0;34m\u001b[0m\u001b[0m\n\u001b[1;32m     11\u001b[0m         \u001b[0;32mif\u001b[0m \u001b[0mamount\u001b[0m \u001b[0;34m>\u001b[0m \u001b[0mself\u001b[0m\u001b[0;34m.\u001b[0m\u001b[0mbalance\u001b[0m\u001b[0;34m:\u001b[0m\u001b[0;34m\u001b[0m\u001b[0m\n\u001b[0;32m---> 12\u001b[0;31m             \u001b[0;32mraise\u001b[0m \u001b[0mAttributeError\u001b[0m\u001b[0;34m(\u001b[0m\u001b[0;34m\"Insufficient funds\"\u001b[0m\u001b[0;34m)\u001b[0m\u001b[0;34m\u001b[0m\u001b[0m\n\u001b[0m\u001b[1;32m     13\u001b[0m \u001b[0;34m\u001b[0m\u001b[0m\n\u001b[1;32m     14\u001b[0m         \u001b[0mself\u001b[0m\u001b[0;34m.\u001b[0m\u001b[0mbalance\u001b[0m \u001b[0;34m=\u001b[0m \u001b[0mself\u001b[0m\u001b[0;34m.\u001b[0m\u001b[0mbalance\u001b[0m \u001b[0;34m-\u001b[0m \u001b[0mamount\u001b[0m\u001b[0;34m\u001b[0m\u001b[0m\n",
      "\u001b[0;31mAttributeError\u001b[0m: Insufficient funds"
     ]
    }
   ],
   "source": [
    "class BankAccount():\n",
    "    \"Class Bank Account specifying owner and Account type\"\n",
    "    def __init__(self, owner, accountType):\n",
    "        self.owner = owner\n",
    "        self.balance = 0\n",
    "        self.AccountType = accountType\n",
    "        \n",
    "    def withdraw(self,amount):\n",
    "        if amount <= 0:\n",
    "            raise ValueError(\"Cannot withdraw a negative value\")\n",
    "        if amount > self.balance:\n",
    "            raise AttributeError(\"Insufficient funds\")\n",
    "        \n",
    "        self.balance = self.balance - amount\n",
    "        print(\"Withdrawal of \",amount,\" from account \",self.AccountType.name,\". Remaining balance \", self.balance)\n",
    "    \n",
    "    def deposit(self,deposit):\n",
    "        if deposit <=0:\n",
    "            raise ValueError\n",
    "        else:\n",
    "            self.balance +=deposit\n",
    "            print(\"Deposit of \", deposit, \" and new balance is \", self.balance)\n",
    "        \n",
    "    def __str__(self):\n",
    "        \n",
    "        return \"Owner of account \"+ self.owner + \" and account type is \" + self.AccountType.name\n",
    "    \n",
    "    def __len__(self):\n",
    "        #return the balance of acc\n",
    "        return self.balance\n",
    "    \n",
    "Bankacc1 = BankAccount(\"Filip M\", AccountType.SAVINGS) \n",
    "print(Bankacc1)\n",
    "\n",
    "Bankacc1.deposit(100)\n",
    "print(len(Bankacc1))\n",
    "Bankacc1.withdraw(200)\n",
    "        \n",
    "        \n",
    "        \n",
    "        "
   ]
  },
  {
   "cell_type": "markdown",
   "metadata": {},
   "source": [
    "### Part 2:  Write a class BankUser with the following specification:\n",
    "\n",
    "Constructor `BankUser(self, owner)` where `owner` is the name of the account.\n",
    "\n",
    "Method `addAccount(self, accountType)` - to start, a user will have no accounts when the BankUser object is created. `addAccount` will add a new account to the user of the `accountType` specified. **Only one savings/checking account per user, return appropriate error otherwise**\n",
    "\n",
    "Methods `getBalance(self, accountType)`, `deposit(self, accountType, amount)`, and `withdraw(self, accountType, amount)` for a specific AccountType.\n",
    "\n",
    "Override `__str__` to have an informative summary of user's accounts."
   ]
  },
  {
   "cell_type": "code",
   "execution_count": 8,
   "metadata": {
    "collapsed": true
   },
   "outputs": [],
   "source": [
    "class BankUser():\n",
    "    \n",
    "    def __init__(self,owner):\n",
    "        self.owner = owner\n",
    "        self.savings = 0\n",
    "        self.checking = 0\n",
    "        self.myCaccount = 0\n",
    "        self.mySaccount = 0\n",
    "        \n",
    "    def addAccount(self, accountType):\n",
    "        #Check what account type and then whether the account is there\n",
    "        if accountType == AccountType.SAVINGS:\n",
    "            if self.savings == 0:\n",
    "                self.savings = 1\n",
    "                self.mySaccount = BankAccount(self.owner,accountType)\n",
    "            \n",
    "            else:\n",
    "                raise ValueError(\"You already have a savings account\")\n",
    "                \n",
    "        elif accountType == AccountType.CHECKING:\n",
    "            if self.checking == 0:\n",
    "                self.checking = 1\n",
    "                self.myCaccount = BankAccount(self.owner,accountType)\n",
    "            \n",
    "            else:\n",
    "                raise ValueError(\"You already have a checking account\")\n",
    "        else:\n",
    "            raise ValueError(\"Account type is not valid\")\n",
    "    \n",
    "    def getBalance(self,accountType):\n",
    "        if accountType == AccountType.SAVINGS:\n",
    "            if self.mySaccount == 0:\n",
    "                raise ValueError(\"No savings account\")\n",
    "            else:\n",
    "                return self.mySaccount.balance\n",
    "            \n",
    "        elif accountType == AccountType.CHECKING:\n",
    "            if self.myCaccount == 0:\n",
    "                raise ValueError(\"No checking account\")\n",
    "            else:\n",
    "                return self.myCaccount.balance\n",
    "        else:\n",
    "            raise ValueError(\"Invalid account type inserted\")\n",
    "    \n",
    "    def deposit(self,accountType,amount):\n",
    "        if accountType == AccountType.SAVINGS:\n",
    "            if self.mySaccount == 0:\n",
    "                raise ValueError(\"No savings account\")\n",
    "            else:\n",
    "                return self.mySaccount.deposit(amount)\n",
    "            \n",
    "        elif accountType == AccountType.CHECKING:\n",
    "            if self.myCaccount == 0:\n",
    "                raise ValueError(\"No checking account\")\n",
    "            else:\n",
    "                return self.myCaccount.deposit(amount)\n",
    "        \n",
    "        else:\n",
    "            raise ValueError(\"Invalid account type inserted\")\n",
    "            \n",
    "    def withdraw(self,accountType,amount):\n",
    "        #analogous to deposit\n",
    "        if accountType == AccountType.SAVINGS:\n",
    "            if self.mySaccount == 0:\n",
    "                raise ValueError(\"No savings account\")\n",
    "            else:\n",
    "                return self.mySaccount.withdraw(amount)\n",
    "            \n",
    "        elif accountType == AccountType.CHECKING:\n",
    "            if self.myCaccount == 0:\n",
    "                raise ValueError(\"No checking account\")\n",
    "            else:\n",
    "                return self.myCaccount.withdraw(amount)\n",
    "        \n",
    "        else:\n",
    "            raise ValueError(\"Invalid account type inserted\")\n",
    "        "
   ]
  },
  {
   "cell_type": "code",
   "execution_count": 9,
   "metadata": {},
   "outputs": [
    {
     "name": "stdout",
     "output_type": "stream",
     "text": [
      "Deposit of  7500  and new balance is  7500\n",
      "Withdrawal of  2500  from account  CHECKING . Remaining balance  5000\n"
     ]
    }
   ],
   "source": [
    "user1 = BankUser(\"Filip\")\n",
    "user1.addAccount(AccountType.CHECKING)\n",
    "#user1.addAccount(AccountType.SAVINGS)\n",
    "user1.addAccount(AccountType.SAVINGS)\n",
    "#user1.getBalance(AccountType.CHECKING)\n",
    "user1.deposit(AccountType.CHECKING,7500)\n",
    "user1.withdraw(AccountType.CHECKING,2500)"
   ]
  },
  {
   "cell_type": "markdown",
   "metadata": {},
   "source": [
    "Write some simple tests to make sure this is working. Think of edge scenarios a user might try to do."
   ]
  },
  {
   "cell_type": "code",
   "execution_count": 10,
   "metadata": {
    "collapsed": true
   },
   "outputs": [],
   "source": [
    "def test_withdraw_negative():\n",
    "    try:\n",
    "        user1 = BankUser(\"Filip\")\n",
    "        user1.addAccount(AccountType.CHECKING)\n",
    "        #user1.addAccount(AccountType.CHECKING)\n",
    "        user1.withdraw(AccountType.CHECKING,-2500)\n",
    "    except ValueError as Valer:\n",
    "        assert(type(Valer)==ValueError)"
   ]
  },
  {
   "cell_type": "code",
   "execution_count": 11,
   "metadata": {
    "collapsed": true
   },
   "outputs": [],
   "source": [
    "test_withdraw_negative()"
   ]
  },
  {
   "cell_type": "markdown",
   "metadata": {},
   "source": [
    "### Part 3:  ATM Closure\n",
    "\n",
    "Finally, we are going to rewrite a closure to use our bank account. We will make use of the [input function](http://anh.cs.luc.edu/python/hands-on/3.1/handsonHtml/io.html) which takes user input to decide what actions to take.\n",
    "\n",
    "Write a closure called ATMSession(bankUser) which takes in a BankUser object. Return a method called Interface that when called, would provide the following interface:\n",
    "\n",
    "First screen for user will look like:\n",
    "\n",
    "\n",
    "**Enter Option:**\n",
    "\n",
    "**1)Exit**\n",
    "\n",
    "**2)Create Account**\n",
    "\n",
    "**3)Check Balance**\n",
    "\n",
    "**4)Deposit**\n",
    "\n",
    "**5)Withdraw**\n",
    "\n",
    "\n",
    "Pressing 1 will exit, any other option will show the options:\n",
    "\n",
    "\n",
    "\n",
    "**Enter Option:**\n",
    "\n",
    "**1)Checking**\n",
    "\n",
    "**2)Savings**\n",
    "\n",
    "\n",
    "If a deposit or withdraw was chosen, then there must be a third screen:\n",
    "\n",
    "\n",
    "\n",
    "**Enter Integer Amount, Cannot Be Negative:**\n",
    "\n",
    "This is to keep the code relatively simple, if you'd like you can also curate the options depending on the BankUser object (for example, if user has no accounts then only show the Create Account option), but this is up to you. In any case, you must handle any input from the user in a reasonable way that an actual bank would be okay with, and give the user a proper response to the action specified.\n",
    "\n",
    "Upon finishing a transaction or viewing balance, it should go back to the original screen"
   ]
  },
  {
   "cell_type": "code",
   "execution_count": 12,
   "metadata": {
    "collapsed": true
   },
   "outputs": [],
   "source": [
    "\n",
    "def ATMSession(bankUser):\n",
    "    def interface():\n",
    "        while True:\n",
    "            user_input = int(input('Enter Option: \\n 1)Exit \\n 2)Create Account \\n 3)Check Balance \\n 4)Deposit \\n 5)Withdraw \\n'))\n",
    "            \n",
    "            #Exit\n",
    "            if user_input == 1:\n",
    "                print(\"Exiting...\")\n",
    "                break\n",
    "            \n",
    "            #Create Account\n",
    "            elif user_input == 2:\n",
    "                try:\n",
    "                    choice = int(input(\"\\nEnter Option :\\n1.Checking Account\\n2.Savings Account\\n\\n\"))\n",
    "                    if (choice >2) or (choice<1):\n",
    "                        raise ValueError\n",
    "                except ValueError:\n",
    "                    print(\"\\n Invalid choice, retry\")\n",
    "                if choice ==1:\n",
    "                    try:\n",
    "                        bankUser.addAccount(AccountType.CHECKING)\n",
    "                        print(\"Checking account created!\")\n",
    "                    except ValueError:\n",
    "                        print(\"Checking already exists!\")\n",
    "                if choice ==2:\n",
    "                    try:\n",
    "                        bankUser.addAccount(AccountType.SAVINGS)\n",
    "                        print(\"Savings account created!\")\n",
    "                    except ValueError:\n",
    "                        print(\"Savings already exists!\")\n",
    "                \n",
    "            #Check balance\n",
    "            elif user_input == 3:   \n",
    "                try:\n",
    "                    choice = int(input(\"\\nEnter Option :\\n1.Checking Account\\n2.Savings Account\\n\\n\"))\n",
    "                    if (choice >2) or (choice<1):\n",
    "                        raise ValueError\n",
    "                except ValueError:\n",
    "                    print(\"\\n Invalid choice, retry\")\n",
    "                if choice ==1:\n",
    "                    try:\n",
    "                        balance = bankUser.getBalance(AccountType.CHECKING)\n",
    "                        print(\"Checking balance: \", balance)\n",
    "                    except ValueError:\n",
    "                        print(\"No checking account!\")\n",
    "                if choice ==2:\n",
    "                    try:\n",
    "                        balance = bankUser.getBalance(AccountType.SAVINGS)\n",
    "                        print(\"Savings balance: \", balance)\n",
    "                    except ValueError:\n",
    "                        print(\"No savings account!\")\n",
    "            \n",
    "            #Deposit\n",
    "            elif user_input == 4:\n",
    "                try:\n",
    "                    choice = int(input(\"\\nEnter Option :\\n1.Checking Account\\n2.Savings Account\\n\\n\"))\n",
    "                    if (choice >2) or (choice<1):\n",
    "                        raise ValueError\n",
    "                except ValueError:\n",
    "                    print(\"\\n Invalid choice, retry\")\n",
    "                    \n",
    "                if choice ==1:\n",
    "                    try:\n",
    "                        deposit_amt = int(input(\"\\nEnter Integer Amount, Cannot be Negative :\\n\"))\n",
    "                        if deposit_amt < 0:\n",
    "                            raise ValueError\n",
    "                    except ValueError:\n",
    "                        print(\"Amount invalid!\")\n",
    "                    if deposit_amt >= 0:\n",
    "                        try:\n",
    "                            bankUser.deposit(AccountType.CHECKING,deposit_amt)\n",
    "                        except ValueError:\n",
    "                            print(\"No checking account\")\n",
    "                        \n",
    "                if choice ==2:\n",
    "                    try:\n",
    "                        deposit_amt = int(input(\"\\nEnter Integer Amount, Cannot be Negative :\\n\"))\n",
    "                        if deposit_amt < 0:\n",
    "                            raise ValueError\n",
    "                    except ValueError:\n",
    "                        print(\"Amount invalid!\")\n",
    "                    if deposit_amt >= 0:\n",
    "                        try:\n",
    "                            bankUser.deposit(AccountType.SAVINGS,deposit_amt)\n",
    "                        except ValueError:\n",
    "                            print(\"No savings account\")\n",
    "            #Withdraw\n",
    "            elif user_input == 5:\n",
    "                try:\n",
    "                    choice = int(input(\"\\nEnter Option :\\n1.Checking Account\\n2.Savings Account\\n\\n\"))\n",
    "                    if (choice >2) or (choice<1):\n",
    "                        raise ValueError\n",
    "                except ValueError:\n",
    "                    print(\"\\n Invalid choice, retry\")\n",
    "                \n",
    "                if choice ==1:\n",
    "                    try:\n",
    "                        withdraw_amt = int(input(\"\\nEnter Integer Amount, Cannot be Negative :\\n\"))\n",
    "                        if withdraw_amt < 0:\n",
    "                            raise ValueError\n",
    "                    except ValueError:\n",
    "                        print(\"Amount invalid!\")\n",
    "                    \n",
    "                    if withdraw_amt >= 0:\n",
    "                        try:\n",
    "                            bankUser.withdraw(AccountType.CHECKING,withdraw_amt)\n",
    "                    \n",
    "                        except ValueError:\n",
    "                            print(\"No checking account!\")\n",
    "                    \n",
    "                        except AttributeError:\n",
    "                            print(\"not enough funds!\")\n",
    "                        \n",
    "                if choice ==2:\n",
    "                    try:\n",
    "                        withdraw_amt = int(input(\"\\nEnter Integer Amount, Cannot be Negative :\\n\"))\n",
    "                        if withdraw_amt < 0:\n",
    "                            raise ValueError\n",
    "                    except ValueError:\n",
    "                        print(\"Amount invalid!\")\n",
    "                    if withdraw_amt >= 0:\n",
    "                        try:\n",
    "                            bankUser.withdraw(AccountType.SAVINGS,withdraw_amt)\n",
    "                    \n",
    "                        except ValueError:\n",
    "                            print(\"No savings account!\")\n",
    "                    \n",
    "                        except AttributeError:\n",
    "                            print(\"not enough funds!\")\n",
    "            else:\n",
    "                print(\"Not a valid choice, try again\")\n",
    "                \n",
    "                \n",
    "    return interface"
   ]
  },
  {
   "cell_type": "code",
   "execution_count": 14,
   "metadata": {},
   "outputs": [
    {
     "name": "stdout",
     "output_type": "stream",
     "text": [
      "Enter Option: \n",
      " 1)Exit \n",
      " 2)Create Account \n",
      " 3)Check Balance \n",
      " 4)Deposit \n",
      " 5)Withdraw \n",
      "2\n",
      "\n",
      "Enter Option :\n",
      "1.Checking Account\n",
      "2.Savings Account\n",
      "\n",
      "2\n",
      "Savings account created!\n",
      "Enter Option: \n",
      " 1)Exit \n",
      " 2)Create Account \n",
      " 3)Check Balance \n",
      " 4)Deposit \n",
      " 5)Withdraw \n",
      "2\n",
      "\n",
      "Enter Option :\n",
      "1.Checking Account\n",
      "2.Savings Account\n",
      "\n",
      "1\n",
      "Checking account created!\n",
      "Enter Option: \n",
      " 1)Exit \n",
      " 2)Create Account \n",
      " 3)Check Balance \n",
      " 4)Deposit \n",
      " 5)Withdraw \n",
      "4\n",
      "\n",
      "Enter Option :\n",
      "1.Checking Account\n",
      "2.Savings Account\n",
      "\n",
      "1\n",
      "\n",
      "Enter Integer Amount, Cannot be Negative :\n",
      "100\n",
      "Deposit of  100  and new balance is  100\n",
      "Enter Option: \n",
      " 1)Exit \n",
      " 2)Create Account \n",
      " 3)Check Balance \n",
      " 4)Deposit \n",
      " 5)Withdraw \n",
      "3\n",
      "\n",
      "Enter Option :\n",
      "1.Checking Account\n",
      "2.Savings Account\n",
      "\n",
      "1\n",
      "Checking balance:  100\n",
      "Enter Option: \n",
      " 1)Exit \n",
      " 2)Create Account \n",
      " 3)Check Balance \n",
      " 4)Deposit \n",
      " 5)Withdraw \n",
      "1\n",
      "Exiting...\n"
     ]
    }
   ],
   "source": [
    "user = BankUser(\"Tomas\")\n",
    "sesh = ATMSession(user)\n",
    "sesh()"
   ]
  },
  {
   "cell_type": "markdown",
   "metadata": {},
   "source": [
    "\n",
    "### Part 4:  Put everything in a module Bank.py\n",
    "\n",
    "We will be grading this problem with a test suite. Put the enum, classes, and closure in a single file named Bank.py. It is very important that the class and method specifications we provided are used (with the same capitalization), otherwise you will receive no credit."
   ]
  },
  {
   "cell_type": "code",
   "execution_count": 15,
   "metadata": {},
   "outputs": [
    {
     "name": "stdout",
     "output_type": "stream",
     "text": [
      "Overwriting Bank.py\n"
     ]
    }
   ],
   "source": [
    "%%file Bank.py\n",
    "\n",
    "from enum import Enum\n",
    "class AccountType(Enum):\n",
    "    SAVINGS = 1\n",
    "    CHECKING = 2\n",
    "######################\n",
    "\n",
    "class BankAccount():\n",
    "    \"Class Bank Account specifying owner and Account type\"\n",
    "    def __init__(self, owner, accountType):\n",
    "        self.owner = owner\n",
    "        self.balance = 0\n",
    "        self.AccountType = accountType\n",
    "        \n",
    "    def withdraw(self,amount):\n",
    "        if amount <= 0:\n",
    "            raise ValueError(\"Cannot withdraw a negative value\")\n",
    "        if amount > self.balance:\n",
    "            raise AttributeError(\"Insufficient funds\")\n",
    "        \n",
    "        self.balance = self.balance - amount\n",
    "        print(\"Withdrawal of \",amount,\" from account \",self.AccountType.name,\". Remaining balance \", self.balance)\n",
    "    \n",
    "    def deposit(self,deposit):\n",
    "        if deposit <=0:\n",
    "            raise ValueError\n",
    "        else:\n",
    "            self.balance +=deposit\n",
    "            print(\"Deposit of \", deposit, \" and new balance is \", self.balance)\n",
    "        \n",
    "    def __str__(self):\n",
    "        \n",
    "        return \"Owner of account \"+ self.owner + \" and account type is \" + self.AccountType.name\n",
    "    \n",
    "    def __len__(self):\n",
    "        #return the balance of acc\n",
    "        return self.balance\n",
    "\n",
    "######################\n",
    "\n",
    "class BankUser():\n",
    "    \n",
    "    def __init__(self,owner):\n",
    "        self.owner = owner\n",
    "        self.savings = 0\n",
    "        self.checking = 0\n",
    "        self.myCaccount = 0\n",
    "        self.mySaccount = 0\n",
    "        \n",
    "    def addAccount(self, accountType):\n",
    "        #Check what account type and then whether the account is there\n",
    "        if accountType == AccountType.SAVINGS:\n",
    "            if self.savings == 0:\n",
    "                self.savings = 1\n",
    "                self.mySaccount = BankAccount(self.owner,accountType)\n",
    "            \n",
    "            else:\n",
    "                raise ValueError(\"You already have a savings account\")\n",
    "                \n",
    "        elif accountType == AccountType.CHECKING:\n",
    "            if self.checking == 0:\n",
    "                self.checking = 1\n",
    "                self.myCaccount = BankAccount(self.owner,accountType)\n",
    "            \n",
    "            else:\n",
    "                raise ValueError(\"You already have a checking account\")\n",
    "        else:\n",
    "            raise ValueError(\"Account type is not valid\")\n",
    "    \n",
    "    def getBalance(self,accountType):\n",
    "        if accountType == AccountType.SAVINGS:\n",
    "            if self.mySaccount == 0:\n",
    "                raise ValueError(\"No savings account\")\n",
    "            else:\n",
    "                return self.mySaccount.balance\n",
    "            \n",
    "        elif accountType == AccountType.CHECKING:\n",
    "            if self.myCaccount == 0:\n",
    "                raise ValueError(\"No checking account\")\n",
    "            else:\n",
    "                return self.myCaccount.balance\n",
    "        else:\n",
    "            raise ValueError(\"Invalid account type inserted\")\n",
    "    \n",
    "    def deposit(self,accountType,amount):\n",
    "        if accountType == AccountType.SAVINGS:\n",
    "            if self.mySaccount == 0:\n",
    "                raise ValueError(\"No savings account\")\n",
    "            else:\n",
    "                return self.mySaccount.deposit(amount)\n",
    "            \n",
    "        elif accountType == AccountType.CHECKING:\n",
    "            if self.myCaccount == 0:\n",
    "                raise ValueError(\"No checking account\")\n",
    "            else:\n",
    "                return self.myCaccount.deposit(amount)\n",
    "        \n",
    "        else:\n",
    "            raise ValueError(\"Invalid account type inserted\")\n",
    "            \n",
    "    def withdraw(self,accountType,amount):\n",
    "        #analogous to deposit\n",
    "        if accountType == AccountType.SAVINGS:\n",
    "            if self.mySaccount == 0:\n",
    "                raise ValueError(\"No savings account\")\n",
    "            else:\n",
    "                return self.mySaccount.withdraw(amount)\n",
    "            \n",
    "        elif accountType == AccountType.CHECKING:\n",
    "            if self.myCaccount == 0:\n",
    "                raise ValueError(\"No checking account\")\n",
    "            else:\n",
    "                return self.myCaccount.withdraw(amount)\n",
    "        \n",
    "        else:\n",
    "            raise ValueError(\"Invalid account type inserted\")\n",
    "        \n",
    "######################\n",
    "\n",
    "def ATMSession(bankUser):\n",
    "    def interface():\n",
    "        while True:\n",
    "            user_input = int(input('Enter Option: \\n 1)Exit \\n 2)Create Account \\n 3)Check Balance \\n 4)Deposit \\n 5)Withdraw \\n'))\n",
    "            \n",
    "            #Exit\n",
    "            if user_input == 1:\n",
    "                print(\"Exiting...\")\n",
    "                break\n",
    "            \n",
    "            #Create Account\n",
    "            elif user_input == 2:\n",
    "                try:\n",
    "                    choice = int(input(\"\\nEnter Option :\\n1.Checking Account\\n2.Savings Account\\n\\n\"))\n",
    "                    if (choice >2) or (choice<1):\n",
    "                        raise ValueError\n",
    "                except ValueError:\n",
    "                    print(\"\\n Invalid choice, retry\")\n",
    "                if choice ==1:\n",
    "                    try:\n",
    "                        bankUser.addAccount(AccountType.CHECKING)\n",
    "                        print(\"Checking account created!\")\n",
    "                    except ValueError:\n",
    "                        print(\"Checking already exists!\")\n",
    "                if choice ==2:\n",
    "                    try:\n",
    "                        bankUser.addAccount(AccountType.SAVINGS)\n",
    "                        print(\"Savings account created!\")\n",
    "                    except ValueError:\n",
    "                        print(\"Savings already exists!\")\n",
    "                \n",
    "            #Check balance\n",
    "            elif user_input == 3:   \n",
    "                try:\n",
    "                    choice = int(input(\"\\nEnter Option :\\n1.Checking Account\\n2.Savings Account\\n\\n\"))\n",
    "                    if (choice >2) or (choice<1):\n",
    "                        raise ValueError\n",
    "                except ValueError:\n",
    "                    print(\"\\n Invalid choice, retry\")\n",
    "                if choice ==1:\n",
    "                    try:\n",
    "                        balance = bankUser.getBalance(AccountType.CHECKING)\n",
    "                        print(\"Checking balance: \", balance)\n",
    "                    except ValueError:\n",
    "                        print(\"No checking account!\")\n",
    "                if choice ==2:\n",
    "                    try:\n",
    "                        balance = bankUser.getBalance(AccountType.SAVINGS)\n",
    "                        print(\"Savings balance: \", balance)\n",
    "                    except ValueError:\n",
    "                        print(\"No savings account!\")\n",
    "            \n",
    "            #Deposit\n",
    "            elif user_input == 4:\n",
    "                try:\n",
    "                    choice = int(input(\"\\nEnter Option :\\n1.Checking Account\\n2.Savings Account\\n\\n\"))\n",
    "                    if (choice >2) or (choice<1):\n",
    "                        raise ValueError\n",
    "                except ValueError:\n",
    "                    print(\"\\n Invalid choice, retry\")\n",
    "                    \n",
    "                if choice ==1:\n",
    "                    try:\n",
    "                        deposit_amt = int(input(\"\\nEnter Integer Amount, Cannot be Negative :\\n\"))\n",
    "                        if deposit_amt < 0:\n",
    "                            raise ValueError\n",
    "                    except ValueError:\n",
    "                        print(\"Amount invalid!\")\n",
    "                    if deposit_amt >= 0:\n",
    "                        try:\n",
    "                            bankUser.deposit(AccountType.CHECKING,deposit_amt)\n",
    "                        except ValueError:\n",
    "                            print(\"No checking account\")\n",
    "                        \n",
    "                if choice ==2:\n",
    "                    try:\n",
    "                        deposit_amt = int(input(\"\\nEnter Integer Amount, Cannot be Negative :\\n\"))\n",
    "                        if deposit_amt < 0:\n",
    "                            raise ValueError\n",
    "                    except ValueError:\n",
    "                        print(\"Amount invalid!\")\n",
    "                    if deposit_amt >= 0:\n",
    "                        try:\n",
    "                            bankUser.deposit(AccountType.SAVINGS,deposit_amt)\n",
    "                        except ValueError:\n",
    "                            print(\"No savings account\")\n",
    "            #Withdraw\n",
    "            elif user_input == 5:\n",
    "                try:\n",
    "                    choice = int(input(\"\\nEnter Option :\\n1.Checking Account\\n2.Savings Account\\n\\n\"))\n",
    "                    if (choice >2) or (choice<1):\n",
    "                        raise ValueError\n",
    "                except ValueError:\n",
    "                    print(\"\\n Invalid choice, retry\")\n",
    "                \n",
    "                if choice ==1:\n",
    "                    try:\n",
    "                        withdraw_amt = int(input(\"\\nEnter Integer Amount, Cannot be Negative :\\n\"))\n",
    "                        if withdraw_amt < 0:\n",
    "                            raise ValueError\n",
    "                    except ValueError:\n",
    "                        print(\"Amount invalid!\")\n",
    "                    \n",
    "                    if withdraw_amt >= 0:\n",
    "                        try:\n",
    "                            bankUser.withdraw(AccountType.CHECKING,withdraw_amt)\n",
    "                    \n",
    "                        except ValueError:\n",
    "                            print(\"No checking account!\")\n",
    "                    \n",
    "                        except AttributeError:\n",
    "                            print(\"not enough funds!\")\n",
    "                        \n",
    "                if choice ==2:\n",
    "                    try:\n",
    "                        withdraw_amt = int(input(\"\\nEnter Integer Amount, Cannot be Negative :\\n\"))\n",
    "                        if withdraw_amt < 0:\n",
    "                            raise ValueError\n",
    "                    except ValueError:\n",
    "                        print(\"Amount invalid!\")\n",
    "                    if withdraw_amt >= 0:\n",
    "                        try:\n",
    "                            bankUser.withdraw(AccountType.SAVINGS,withdraw_amt)\n",
    "                    \n",
    "                        except ValueError:\n",
    "                            print(\"No savings account!\")\n",
    "                    \n",
    "                        except AttributeError:\n",
    "                            print(\"not enough funds!\")\n",
    "            else:\n",
    "                print(\"Not a valid choice, try again\")\n",
    "                \n",
    "                \n",
    "    return interface"
   ]
  },
  {
   "cell_type": "markdown",
   "metadata": {},
   "source": [
    "---"
   ]
  },
  {
   "cell_type": "markdown",
   "metadata": {},
   "source": [
    "## Problem 2:  Linear Regression Class\n",
    "\n",
    "Let's say you want to create Python classes for three related types of linear regression: Ordinary Least Squares Linear Regression, Ridge Regression, and Lasso Regression. "
   ]
  },
  {
   "cell_type": "markdown",
   "metadata": {},
   "source": [
    "Consider the multivariate linear model:\n",
    "\n",
    "$$y = X\\beta + \\epsilon$$\n",
    "\n",
    "where $y$ is a length $n$ vector, $X$ is an $m \\times p$ matrix, and $\\beta$\n",
    "is a $p$ length vector of coefficients.\n",
    "\n",
    "#### Ordinary Least Squares Linear Regression\n",
    "\n",
    "[OLS Regression](https://en.wikipedia.org/wiki/Ordinary_least_squares) seeks to minimize the following cost function:\n",
    "\n",
    "$$\\|y - \\beta\\mathbf {X}\\|^{2}$$\n",
    "\n",
    "The best fit coefficients can be obtained by:\n",
    "\n",
    "$$\\hat{\\beta} = (X^T X)^{-1}X^Ty$$\n",
    "\n",
    "where $X^T$ is the transpose of the matrix $X$ and $X^{-1}$ is the inverse of the matrix $X$.\n",
    "\n",
    "#### Ridge Regression\n",
    "\n",
    "[Ridge Regression](https://en.wikipedia.org/wiki/Tikhonov_regularization) introduces an L2 regularization term to the cost function:\n",
    "\n",
    "$$\\|y - \\beta\\mathbf {X}\\|^{2}+\\|\\Gamma \\mathbf {x} \\|^{2}$$\n",
    "\n",
    "Where $\\Gamma = \\alpha I$ for some constant $\\alpha$ and the identity matrix $I$.\n",
    "\n",
    "The best fit coefficients can be obtained by:\n",
    "$$\\hat{\\beta} = (X^T X+\\Gamma^T\\Gamma)^{-1}X^Ty$$\n",
    "\n",
    "#### Lasso Regression\n",
    "\n",
    "[Lasso Regression](https://en.wikipedia.org/wiki/Lasso_%28statistics%29) introduces an L1 regularization term and restricts the total number of predictor variables in the model.\n",
    "The following cost function:\n",
    "$${\\displaystyle \\min _{\\beta _{0},\\beta }\\left\\{{\\frac {1}{m}}\\left\\|y-\\beta _{0}-X\\beta \\right\\|_{2}^{2}\\right\\}{\\text{ subject to }}\\|\\beta \\|_{1}\\leq \\alpha.}$$\n",
    "\n",
    "does not have a nice closed form solution. For the sake of this exercise, you may use the [sklearn.linear_model.Lasso](http://scikit-learn.org/stable/modules/generated/sklearn.linear_model.Lasso.html) class, which uses a coordinate descent algorithm to find the best fit. You should only use the class in the fit() method of this exercise (ie. do not re-use the sklearn for other methods in your class).\n",
    "\n",
    "#### $R^2$ score\n",
    "\n",
    "The $R^2$ score is defined as:\n",
    "$${R^{2} = {1-{SS_E \\over SS_T}}}$$\n",
    "\n",
    "Where:\n",
    "\n",
    "$$SS_T=\\sum_i (y_i-\\bar{y})^2, SS_R=\\sum_i (\\hat{y_i}-\\bar{y})^2, SS_E=\\sum_i (y_i - \\hat{y_i})^2$$\n",
    "\n",
    "where  ${y_i}$ are the original data values, $\\hat{y_i}$ are the predicted values, and $\\bar{y_i}$ is the mean of the original data values."
   ]
  },
  {
   "cell_type": "markdown",
   "metadata": {},
   "source": [
    "### Part 1:  Base Class\n",
    "Write a class called `Regression` with the following methods:\n",
    "\n",
    "$fit(X, y)$: Fits linear model to $X$ and $y$.\n",
    "\n",
    "$get\\_params()$: Returns $\\hat{\\beta}$ for the fitted model. The parameters should be stored in a dictionary.\n",
    "\n",
    "$predict(X)$: Predict new values with the fitted model given $X$.\n",
    "\n",
    "$score(X, y)$: Returns $R^2$ value of the fitted model.\n",
    "\n",
    "$set\\_params()$: Manually set the parameters of the linear model.\n",
    "\n",
    "This parent class should throw a `NotImplementedError` for methods that are intended to be implemented by subclasses."
   ]
  },
  {
   "cell_type": "code",
   "execution_count": 22,
   "metadata": {
    "collapsed": true
   },
   "outputs": [],
   "source": [
    "import numpy as np\n",
    "import statsmodels.api as sm\n",
    "from sklearn.datasets import load_boston \n",
    "from sklearn.model_selection import train_test_split\n",
    "\n",
    "boston = load_boston()\n",
    "x_train, x_test, y_train,y_test = train_test_split(boston.data,boston.target, test_size=0.3)"
   ]
  },
  {
   "cell_type": "code",
   "execution_count": 23,
   "metadata": {
    "collapsed": true
   },
   "outputs": [],
   "source": [
    "class Regression:\n",
    "    \n",
    "    def __init__(self):\n",
    "        self.X = 0\n",
    "        self.y = 0\n",
    "        self.betas = 0\n",
    "        self.alpha=0.1\n",
    "        \n",
    "    def fit(self,X,y):\n",
    "        #reshape x and y arrays to get the right matrices for regre\n",
    "\n",
    "        raise NotImplementedError(\"Subclasses should implement this!\")\n",
    "        \n",
    "    def get_params(self):\n",
    "        self_betas=self.betas.reshape(-1,1)\n",
    "        #print(self.betas.shape)\n",
    "        betas_dict={}\n",
    "        for index,value in enumerate(self.betas):\n",
    "            betas_dict[index]=value\n",
    "        return betas_dict\n",
    "    \n",
    "    def predict(self,X):\n",
    "        #print(self.betas.shape)\n",
    "        #print(sm.add_constant(X).T.shape)\n",
    "        #print(self.betas)\n",
    "        #print(sm.add_constant(X).T)\n",
    "        ypred = np.dot(self.betas,(sm.add_constant(X).T))\n",
    "        \n",
    "        #raise NotImplementedError(\"Subclasses should implement this!\")\n",
    "        return ypred\n",
    "        \n",
    "    def score(self,X,y):\n",
    "        ypred = self.predict(X)\n",
    "        ypred = ypred.reshape(-1,1)\n",
    "        #print(ypred)\n",
    "        y_mean=np.mean(y)\n",
    "        y=y.reshape(-1,1)\n",
    "        #print(\"y_mean\")\n",
    "        #print(y_mean)\n",
    "        #print(\"y-y_pred\")\n",
    "        #print((y - ypred)*(y - ypred))\n",
    "        #print(((y - ypred)).shape)\n",
    "        #print((y - y_mean)*(y-y_mean))\n",
    "        #print(np.sum((y - y_mean**2)))\n",
    "        score = 1- (np.sum((y - ypred)*(y - ypred))/np.sum((y - y_mean)*(y - y_mean)))\n",
    "        #raise NotImplementedError(\"Subclasses should implement this!\")\n",
    "        return score\n",
    "        \n",
    "    def set_params(self,alpha):\n",
    "        self.alpha = alpha\n",
    "\n",
    "        "
   ]
  },
  {
   "cell_type": "markdown",
   "metadata": {},
   "source": [
    "### Part 2: OLS Linear Regression\n",
    "\n",
    "Write a class called `OLSRegression` that implements the OLS Regression model described above and inherits the `Regression` class."
   ]
  },
  {
   "cell_type": "code",
   "execution_count": 24,
   "metadata": {
    "collapsed": true
   },
   "outputs": [],
   "source": [
    "class OLSRegression(Regression):\n",
    "    \n",
    "    \n",
    "    def fit(self,X,y,alpha):\n",
    "        #reshape x and y arrays to get the right matrices for regre\n",
    "        self.X = X\n",
    "        self.y= y\n",
    "        #x_train = self.X.reshape(len(self.X),1)\n",
    "        #y_train = self.y.reshape(len(self.y),1)\n",
    "\n",
    "        #build matrix X by concatenating predictors and a column of ones\n",
    "        n = x_train.shape[0]\n",
    "        ones_col = np.ones((n, 1))\n",
    "        X = np.concatenate((ones_col, x_train), axis=1)\n",
    "\n",
    "        #matrix X^T X\n",
    "        LHS = np.dot(np.transpose(X), X)\n",
    "        #print(LHS)\n",
    "        #matrix X^T Y\n",
    "        RHS = np.dot(np.transpose(X), y_train)\n",
    "\n",
    "        #solution beta to normal equations, since LHS is invertible by construction\n",
    "        self.betas = np.dot(np.linalg.inv(LHS), RHS)\n",
    "        #print(self.betas)\n",
    "        #print(self.betas.shape)\n",
    "        #return None\n",
    "\n",
    "        "
   ]
  },
  {
   "cell_type": "code",
   "execution_count": 25,
   "metadata": {
    "collapsed": true
   },
   "outputs": [],
   "source": [
    "test_regr1 = OLSRegression()"
   ]
  },
  {
   "cell_type": "code",
   "execution_count": 26,
   "metadata": {
    "collapsed": true
   },
   "outputs": [],
   "source": [
    "test_regr1.fit(x_train,y_train,0.1)\n",
    "#test_regr1.score(x_train,y_train)\n"
   ]
  },
  {
   "cell_type": "code",
   "execution_count": 27,
   "metadata": {},
   "outputs": [
    {
     "data": {
      "text/plain": [
       "array([ 20.52974455,  19.98928239,  13.65420587,  24.70642783,\n",
       "        15.47305919,  30.69513499,  25.69178005,  19.34999862,\n",
       "        36.21549819,  24.82885967,  20.51146241,  16.77180548,\n",
       "        28.41810409,  22.31375017,  23.87153054,  13.06183752,\n",
       "        19.95705772,  13.85072981,  30.74553806,  16.75459321,\n",
       "        29.53204314,  41.22325448,  14.12796562,  15.99693206,\n",
       "        22.14404271,  16.07044265,  27.24429376,  18.35328171,\n",
       "        37.20518602,  22.52228393,  16.7408396 ,  21.04223439,\n",
       "        15.23774152,  31.81855958,  13.89086766,  38.251358  ,\n",
       "        29.44560671,  21.46294566,  19.84310944,  30.25371925,\n",
       "        20.17459937,  23.70940128,  18.02175722,  20.03296175,\n",
       "        26.2070192 ,  17.84613348,  26.8104971 ,  16.00910917,\n",
       "        31.47979871,  33.4998116 ,  19.80866886,  34.83941401,\n",
       "        25.5397588 ,  35.84692659,  22.87667782,  23.85937147,\n",
       "        11.45346057,  24.02392024,   2.50280306,  17.99923919,\n",
       "        25.07564157,  22.22173205,  26.96913449,  23.39165447,\n",
       "        22.53925106,  21.88690806,  17.60099974,  22.31634469,\n",
       "        21.06552762,  19.6559913 ,  16.94063453,  41.78157346,\n",
       "        25.15863523,  16.63962711,  25.14980119,  20.58571003,\n",
       "        24.4714955 ,  19.82955474,  33.03177075,  23.18204151,\n",
       "        25.16988194,  29.64287737,  37.58276648,  32.74483463,\n",
       "        25.70116082,  27.57337127,   5.53351808,  19.89141729,\n",
       "        25.58573596,  24.79439943,  13.3303686 ,  41.0258452 ,\n",
       "        13.44211868,  27.20454546,  28.49460331,  29.97594178,\n",
       "        17.20605587,  20.77997684,  26.43121536,  16.94447597,\n",
       "        36.20317845,  25.24137142,  22.02581094,  31.94310134,\n",
       "        20.35493373,  15.2081019 ,  15.85122589,  20.78784001,\n",
       "        27.22205622,  21.39763217,  19.81844722,  35.09922729,\n",
       "        34.24655913,  20.92397671,  36.81097084,  23.06689998,\n",
       "        18.56777261,  30.41896242,  38.87605983,  19.04482435,\n",
       "        32.63699457,  21.20672171,  16.51325121,  24.83814623,\n",
       "        28.08571575,  28.82030269,  30.21782036,  31.69699569,\n",
       "        23.81980548,  22.52259928,  25.516538  ,  20.94023266,\n",
       "        24.78166162,  11.51759126,  43.14615313,  30.58146107,\n",
       "        11.30157989,  28.47844424,  26.85141367,  22.74573867,\n",
       "        11.075031  ,  30.96634913,  28.509038  ,  40.46378324,\n",
       "        25.76069656,  27.72600329,  24.29076887,  13.58480096,\n",
       "        23.09006596,  20.33799602,  25.10735321,  13.67320371,\n",
       "        17.77493967,   4.71203975,  34.34015697,   7.01080838,\n",
       "        32.27582051,  13.80504716,  15.17356411,  20.11990634,\n",
       "        16.73702779,  14.01405231,  44.06120828,  20.16192356,\n",
       "        19.58930944,  18.47425126,  22.68791603,  17.46518333,\n",
       "        39.04410544,   4.74578242,  13.31502531,  32.32629581,\n",
       "        24.83527813,  20.67307035,  32.54981215,  30.0562038 ,\n",
       "        19.33418671,  21.06341751,  19.22008096,  26.84819502,\n",
       "        22.73472392,  15.68368007,  18.6167742 ,  18.11629508,\n",
       "        25.96895007,  27.04447818,  23.71700262,  23.55789411,\n",
       "        16.52504715,  33.03869548,  23.40870152,   6.96481194,\n",
       "        20.13135078,  31.57623266,  16.7972246 ,  20.00954703,\n",
       "        15.50084328,  15.08877585,  19.45006612,  20.93129647,\n",
       "        30.52701577,  24.72721332,   7.39241241,  26.78287188,\n",
       "         8.64890521,  27.53799078,  22.01542303,  35.40908142,\n",
       "        23.64672671,  32.4975587 ,  22.84681461,  31.16149517,\n",
       "        22.19120342,  33.57429689,   3.43673128,  28.90063352,\n",
       "        19.14749943,  18.66721032,  25.03416197,  16.69114968,\n",
       "        13.92864943,  19.6566562 ,  34.26031213,  21.41727942,\n",
       "        19.78370217,   8.63878453,  28.82405108,  26.78698157,\n",
       "         6.14122614,  12.28715645,  25.9003834 ,  15.30822469,\n",
       "        17.1201362 ,  29.03175327,  36.25365784,  31.03710065,\n",
       "        23.14605077,   9.24285357,  13.53609824,  20.4870771 ,\n",
       "        19.42039415,  22.80392082,  34.20411626,  24.36418952,\n",
       "        24.37560763,  15.91840454,  19.94304482,  10.17388576,\n",
       "        23.01693717,  19.87169613,  12.64282361,  20.12211301,\n",
       "         5.33970798,  19.83603916,  35.21125728,  24.1287786 ,\n",
       "        31.97622491,  24.43739107,  34.12124441,  14.30812155,\n",
       "         7.19297381,  24.8961569 ,  22.2126507 ,  22.27787298,\n",
       "        18.87944683,  42.82479102,  34.34878882,  27.20094983,\n",
       "        10.92373885,  20.2219353 ,  25.34490338,  23.49983141,\n",
       "        15.14255166,  23.75866086,  20.0765259 ,  21.97963325,\n",
       "        32.28055012,  25.31984791,  35.49891826,  -4.2639981 ,\n",
       "        33.48398877,  17.1521011 ,  15.60986201,  23.94505213,\n",
       "        27.78189206,  20.2099043 ,  18.26740968,   9.0445555 ,\n",
       "        16.9674136 ,  24.12774051,  22.72006717,  13.73082608,\n",
       "        21.90556881,  41.18702342,  29.71296102,  17.6647088 ,\n",
       "        20.38504177,  17.43052359,  23.96486679,   1.71009772,\n",
       "        22.48215686,  40.77173536,  25.50469538,  26.93283274,\n",
       "         2.85414334,  23.22299981,  33.51216757,  17.76735225,\n",
       "        12.35892248,  17.99524625,  26.76093697,  20.58935262,\n",
       "        18.54070047,  25.02765294,  28.62077145,   8.0734649 ,\n",
       "        20.72415924,  27.19047741,  17.54974874,  35.47324445,\n",
       "         7.7517534 ,  34.62554091,  30.49336103,  15.96997567,\n",
       "        19.09540869,  22.07255943,  18.33667548,  28.83795966,\n",
       "        38.52899591,  33.15674729,  17.85052873,  13.28600014,\n",
       "        23.90690458,  12.11327874,  12.77697988,  17.20638904,\n",
       "        22.91791799,  23.28937842,  19.17421662,  19.89304029,\n",
       "        20.06589797,  28.24456206,  19.97273694,  18.94982656,\n",
       "        17.58353279,  18.13338065,  23.08694335,  16.65835208,\n",
       "        11.30857262,  19.72989291,  19.2465567 ,  17.2630976 ,\n",
       "        13.88958377,  10.09414123])"
      ]
     },
     "execution_count": 27,
     "metadata": {},
     "output_type": "execute_result"
    }
   ],
   "source": [
    "test_regr1.predict(x_train)"
   ]
  },
  {
   "cell_type": "code",
   "execution_count": 28,
   "metadata": {},
   "outputs": [
    {
     "data": {
      "text/plain": [
       "0.76111530635683899"
      ]
     },
     "execution_count": 28,
     "metadata": {},
     "output_type": "execute_result"
    }
   ],
   "source": [
    "test_regr1.score(x_train,y_train)"
   ]
  },
  {
   "cell_type": "markdown",
   "metadata": {},
   "source": [
    "### Part 3: Ridge Regression\n",
    "\n",
    "Write a class called `RidgeRegression` that implements Ridge Regression and inherits the `OLSRegression` class."
   ]
  },
  {
   "cell_type": "markdown",
   "metadata": {},
   "source": [
    "$$\\hat{\\beta} = (X^T X+\\Gamma^T\\Gamma)^{-1}X^Ty$$"
   ]
  },
  {
   "cell_type": "code",
   "execution_count": 29,
   "metadata": {
    "collapsed": true
   },
   "outputs": [],
   "source": [
    "class RidgeRegression(OLSRegression):\n",
    "    \n",
    "    def fit(self,X,y,alpha):\n",
    "        self.X = X\n",
    "        self.y= y\n",
    "        #x_train = self.X.reshape(len(self.X),1)\n",
    "        #y_train = self.y.reshape(len(self.y),1)\n",
    "        \n",
    "        \n",
    "        #build matrix X by concatenating predictors and a column of ones\n",
    "        n = x_train.shape[0]\n",
    "        ones_col = np.ones((n, 1))\n",
    "        X = np.concatenate((ones_col, x_train), axis=1)\n",
    "        \n",
    "        \n",
    "        #matrix X^T X\n",
    "        LHS = np.dot(np.transpose(X), X)\n",
    "        #print(LHS)\n",
    "        gamma = alpha*np.eye(LHS.shape[0])\n",
    "        #print(gamma)\n",
    "        gammas = np.dot(np.transpose(gamma), gamma)\n",
    "        \n",
    "        \n",
    "        #matrix X^T Y\n",
    "        RHS = np.dot(np.transpose(X), y_train)\n",
    "\n",
    "        #solution beta to normal equations, since LHS is invertible by construction\n",
    "        self.betas = np.dot(np.linalg.inv(LHS+gammas), RHS)\n",
    "        #print(self.betas)\n",
    "        #print(self.betas)\n",
    "        #print(self.betas.shape)\n",
    "        return None"
   ]
  },
  {
   "cell_type": "code",
   "execution_count": 30,
   "metadata": {
    "collapsed": true
   },
   "outputs": [],
   "source": [
    "test_ridge = RidgeRegression()"
   ]
  },
  {
   "cell_type": "code",
   "execution_count": 31,
   "metadata": {
    "collapsed": true
   },
   "outputs": [],
   "source": [
    "test_ridge.fit(x_train,y_train,0.5)"
   ]
  },
  {
   "cell_type": "code",
   "execution_count": 32,
   "metadata": {},
   "outputs": [
    {
     "data": {
      "text/plain": [
       "array([ 21.24781879,  20.21693602,  14.30589808,  25.61353342,\n",
       "        15.787484  ,  30.64617385,  26.45585716,  20.06304248,\n",
       "        36.15717854,  24.94345697,  20.36135742,  17.24172292,\n",
       "        29.02741756,  21.33842152,  23.40716414,  12.93963528,\n",
       "        20.27908911,  14.18229015,  30.86111404,  16.80033824,\n",
       "        28.95759998,  41.24011083,  14.4967435 ,  16.31514269,\n",
       "        21.79942874,  15.25067328,  26.93455387,  18.20055614,\n",
       "        36.9585019 ,  23.71526543,  17.96929015,  21.30542904,\n",
       "        15.21757511,  31.8421332 ,  14.3687417 ,  38.18562526,\n",
       "        29.35584909,  21.10747036,  19.58179916,  29.8079199 ,\n",
       "        19.91822921,  23.74697316,  18.43782733,  20.16733095,\n",
       "        26.21699098,  17.73779297,  27.46029243,  16.73483976,\n",
       "        31.11005419,  32.58973215,  20.52170859,  35.09438706,\n",
       "        25.37460049,  35.81748451,  22.23657318,  23.67727221,\n",
       "        12.3153113 ,  23.07424805,   1.98173518,  17.78880785,\n",
       "        24.98356504,  22.09289423,  26.78576337,  23.02704459,\n",
       "        22.26865345,  21.93336433,  17.56351256,  22.06729626,\n",
       "        21.36381755,  20.35521286,  15.94234351,  41.81149955,\n",
       "        24.69402587,  16.90981872,  24.89031844,  20.04060401,\n",
       "        24.36069489,  19.55270996,  32.85787298,  22.78987584,\n",
       "        24.48629152,  29.14310024,  38.0590368 ,  32.54391128,\n",
       "        26.4470732 ,  27.97805597,   5.36975647,  19.41199973,\n",
       "        25.8953448 ,  24.65954858,  13.24145639,  41.59777919,\n",
       "        13.42902439,  27.08346495,  28.10694589,  30.32818358,\n",
       "        16.58896104,  20.44599616,  25.59331057,  17.76572274,\n",
       "        36.6081959 ,  26.20627225,  21.47399176,  31.29765354,\n",
       "        20.92279607,  15.53097975,  15.8774907 ,  21.48083978,\n",
       "        26.31729253,  21.02741823,  20.40947898,  34.2984957 ,\n",
       "        33.96898763,  20.6519492 ,  36.96874188,  24.0753084 ,\n",
       "        17.88498855,  29.95654106,  39.17524304,  19.34664688,\n",
       "        32.57989957,  21.23888238,  16.58030208,  25.00028437,\n",
       "        27.7755001 ,  28.5846883 ,  29.89157677,  32.40143362,\n",
       "        24.41164391,  23.32123851,  24.48778654,  20.61423295,\n",
       "        24.42236954,  12.03303108,  43.58844426,  30.38972398,\n",
       "        11.67392494,  28.01324073,  26.40854183,  22.92592907,\n",
       "        10.54082403,  30.61646006,  28.61357348,  41.02031585,\n",
       "        26.2288631 ,  27.57375789,  23.72948889,  12.13906824,\n",
       "        22.58484901,  20.86696856,  25.04222985,  12.99420947,\n",
       "        18.60080049,   4.82264664,  34.09531745,   6.68242088,\n",
       "        32.38295872,  14.53152294,  13.93764476,  19.67466548,\n",
       "        17.25144548,  14.84619072,  44.00680015,  21.05459887,\n",
       "        19.82836229,  18.35768454,  22.34952238,  17.12502962,\n",
       "        38.83907754,   5.17778267,  12.6250081 ,  32.07055173,\n",
       "        25.13023915,  20.68127689,  32.27817861,  30.58342972,\n",
       "        19.77599819,  21.83685128,  19.92165546,  26.56158766,\n",
       "        22.51965659,  16.18110903,  19.37420382,  18.12575978,\n",
       "        25.86100053,  26.95925131,  23.41682738,  23.48788243,\n",
       "        16.09939741,  32.38617561,  23.12399388,   7.52240057,\n",
       "        20.5062307 ,  31.5806637 ,  17.1582474 ,  19.60943997,\n",
       "        15.94330509,  14.57370137,  19.94734115,  21.05627238,\n",
       "        30.13954751,  25.14408394,   6.33766839,  26.43663031,\n",
       "         9.11353626,  26.90751341,  22.71456715,  35.61138322,\n",
       "        23.22936331,  32.56529936,  22.2877644 ,  30.56654233,\n",
       "        21.79692595,  33.74350904,   3.69233583,  28.27829427,\n",
       "        19.56771347,  18.44734733,  25.13388998,  17.28956606,\n",
       "        14.14695817,  20.08810876,  33.96449562,  21.4471471 ,\n",
       "        19.38320353,   9.31872637,  28.68961848,  26.5416992 ,\n",
       "         6.55951195,  12.95428957,  25.00589393,  15.69440855,\n",
       "        17.12015092,  27.92853608,  36.11543602,  30.67458932,\n",
       "        22.81055521,   9.50667995,  13.91160072,  20.23622181,\n",
       "        20.06199165,  22.59110397,  33.9223344 ,  24.04017597,\n",
       "        23.50839103,  15.66660248,  20.20879054,  10.52007814,\n",
       "        21.97503435,  20.55062702,  12.65576066,  20.54099421,\n",
       "         5.11378403,  19.5850827 ,  35.62451216,  24.07476328,\n",
       "        31.81000409,  24.9060912 ,  33.58564411,  15.42952991,\n",
       "         7.71173047,  24.67574605,  21.49245816,  22.91256208,\n",
       "        18.09387175,  42.68144364,  34.32324172,  27.09371817,\n",
       "         8.89660205,  20.03398991,  24.64190913,  23.20920746,\n",
       "        14.6811842 ,  23.38457151,  19.78562345,  22.29857425,\n",
       "        31.93269496,  24.68852186,  35.34837784,  -4.61769888,\n",
       "        33.44189812,  17.67231311,  16.0598938 ,  24.66793089,\n",
       "        28.0035389 ,  20.31960994,  18.48504698,   8.91408754,\n",
       "        15.9743987 ,  24.35968564,  23.08083648,  13.98836345,\n",
       "        21.71134325,  41.00641881,  29.53765688,  17.81044113,\n",
       "        20.33532728,  17.61713395,  23.83091869,   0.3089787 ,\n",
       "        23.43429011,  40.9903931 ,  25.59523674,  26.39123226,\n",
       "         2.90576024,  24.09217589,  32.93634579,  17.88676764,\n",
       "        12.77971218,  17.22579455,  26.58883151,  21.25446037,\n",
       "        18.6524862 ,  25.25683614,  28.13592747,   7.65478573,\n",
       "        21.24594712,  26.62088288,  17.92768467,  35.81725207,\n",
       "         8.006492  ,  34.21007088,  30.26449683,  16.44052377,\n",
       "        19.71854975,  21.67699323,  18.79382801,  28.83354894,\n",
       "        39.05771774,  32.80752968,  17.29987297,  13.60469756,\n",
       "        24.29259343,  11.0938371 ,  12.8173017 ,  16.66203775,\n",
       "        22.563881  ,  22.70096069,  18.92796152,  20.1620628 ,\n",
       "        20.57804301,  27.83546419,  20.90515471,  19.36283113,\n",
       "        18.03605997,  18.4949175 ,  22.76597838,  16.20587593,\n",
       "        11.45013014,  19.27858434,  19.03880186,  17.49843564,\n",
       "        14.1765879 ,  10.22731217])"
      ]
     },
     "execution_count": 32,
     "metadata": {},
     "output_type": "execute_result"
    }
   ],
   "source": [
    "test_ridge.predict(x_train)"
   ]
  },
  {
   "cell_type": "code",
   "execution_count": 33,
   "metadata": {},
   "outputs": [
    {
     "data": {
      "text/plain": [
       "{0: 23.04886805877868,\n",
       " 1: -0.080325779169895029,\n",
       " 2: 0.057484822463801599,\n",
       " 3: 0.050796561531679885,\n",
       " 4: 3.4842043348288314,\n",
       " 5: -12.605073123663615,\n",
       " 6: 4.6752870556551329,\n",
       " 7: 0.00076775107373583396,\n",
       " 8: -1.3637888764617543,\n",
       " 9: 0.27006512486006784,\n",
       " 10: -0.013904570952351314,\n",
       " 11: -0.65808046492648486,\n",
       " 12: 0.0083220527162465308,\n",
       " 13: -0.53492486330512534}"
      ]
     },
     "execution_count": 33,
     "metadata": {},
     "output_type": "execute_result"
    }
   ],
   "source": [
    "test_ridge.get_params()"
   ]
  },
  {
   "cell_type": "code",
   "execution_count": 34,
   "metadata": {},
   "outputs": [
    {
     "data": {
      "text/plain": [
       "0.75822136979031962"
      ]
     },
     "execution_count": 34,
     "metadata": {},
     "output_type": "execute_result"
    }
   ],
   "source": [
    "test_ridge.score(x_train,y_train)"
   ]
  },
  {
   "cell_type": "code",
   "execution_count": 35,
   "metadata": {},
   "outputs": [
    {
     "data": {
      "text/plain": [
       "{0: 23.04886805877868,\n",
       " 1: -0.080325779169895029,\n",
       " 2: 0.057484822463801599,\n",
       " 3: 0.050796561531679885,\n",
       " 4: 3.4842043348288314,\n",
       " 5: -12.605073123663615,\n",
       " 6: 4.6752870556551329,\n",
       " 7: 0.00076775107373583396,\n",
       " 8: -1.3637888764617543,\n",
       " 9: 0.27006512486006784,\n",
       " 10: -0.013904570952351314,\n",
       " 11: -0.65808046492648486,\n",
       " 12: 0.0083220527162465308,\n",
       " 13: -0.53492486330512534}"
      ]
     },
     "execution_count": 35,
     "metadata": {},
     "output_type": "execute_result"
    }
   ],
   "source": [
    "test_ridge.get_params()"
   ]
  },
  {
   "cell_type": "markdown",
   "metadata": {},
   "source": [
    "### Part 3: Lasso Regression\n",
    "\n",
    "Write a class called `LassoRegression` that implements Lasso Regression and inherits the `OLSRegression` class. You should only use Lasso(), Lasso.fit(), Lasso.coef_, and Lasso._intercept from the `sklearn.linear_model.Lasso` class."
   ]
  },
  {
   "cell_type": "code",
   "execution_count": 36,
   "metadata": {
    "collapsed": true
   },
   "outputs": [],
   "source": [
    "from sklearn.linear_model import Lasso"
   ]
  },
  {
   "cell_type": "code",
   "execution_count": 37,
   "metadata": {
    "collapsed": true
   },
   "outputs": [],
   "source": [
    "class LassoRegression(OLSRegression):\n",
    "    \n",
    "    def fit(self,X,y,alpha):\n",
    "        #X=X.reshape(len(X),1)\n",
    "        #y=y.reshape(len(y),1)\n",
    "        \n",
    "        model = Lasso(alpha=self.alpha,fit_intercept=True)\n",
    "        fitted_model= model.fit(X,y)\n",
    "        intercept = fitted_model.intercept_\n",
    "        coeffs = np.array(fitted_model.coef_)\n",
    "        self.betas=np.insert(coeffs,0,intercept)\n",
    "        #self.betas = self.betas.reshape(-1,1)\n",
    "        #=np.array([fitted_model.intercept_[0],fitted_model.coef_[i]]).reshape(-1,1)\n",
    "        #print(self.betas)\n",
    "        "
   ]
  },
  {
   "cell_type": "code",
   "execution_count": 38,
   "metadata": {},
   "outputs": [
    {
     "name": "stdout",
     "output_type": "stream",
     "text": [
      "(354, 13)\n",
      "(354,)\n"
     ]
    }
   ],
   "source": [
    "print(x_train.shape)\n",
    "print(y_train.shape)"
   ]
  },
  {
   "cell_type": "code",
   "execution_count": 39,
   "metadata": {
    "collapsed": true
   },
   "outputs": [],
   "source": [
    "lasso_test= LassoRegression()\n",
    "lasso_test.fit(x_train,y_train,0.1)\n",
    "#lasso_test.get_params()"
   ]
  },
  {
   "cell_type": "code",
   "execution_count": 40,
   "metadata": {},
   "outputs": [
    {
     "data": {
      "text/plain": [
       "0.74488469527233603"
      ]
     },
     "execution_count": 40,
     "metadata": {},
     "output_type": "execute_result"
    }
   ],
   "source": [
    "lasso_test.score(x_train,y_train)"
   ]
  },
  {
   "cell_type": "code",
   "execution_count": 41,
   "metadata": {},
   "outputs": [
    {
     "data": {
      "text/plain": [
       "{0: 22.444381986603894,\n",
       " 1: -0.077320489892015107,\n",
       " 2: 0.05629400045735157,\n",
       " 3: -0.003103444914825611,\n",
       " 4: 1.7197784836162342,\n",
       " 5: -0.0,\n",
       " 6: 4.0296388906570311,\n",
       " 7: -0.0066875567361921514,\n",
       " 8: -1.1810529020277321,\n",
       " 9: 0.27792654896255442,\n",
       " 10: -0.016688113586456728,\n",
       " 11: -0.64290457943134893,\n",
       " 12: 0.0077682311857501319,\n",
       " 13: -0.59858632757872432}"
      ]
     },
     "execution_count": 41,
     "metadata": {},
     "output_type": "execute_result"
    }
   ],
   "source": [
    "lasso_test.get_params()"
   ]
  },
  {
   "cell_type": "code",
   "execution_count": null,
   "metadata": {
    "collapsed": true
   },
   "outputs": [],
   "source": []
  },
  {
   "cell_type": "markdown",
   "metadata": {},
   "source": [
    "### Part 4: Model Scoring\n",
    "You will use the [Boston dataset](http://scikit-learn.org/stable/modules/generated/sklearn.datasets.load_boston.html) for this part.\n",
    "\n",
    "Instantiate each of the three models above.  Using a for loop, fit (on the training data) and score (on the testing data) each model on the Boston dataset.  \n",
    "\n",
    "Print out the $R^2$ value for each model and the parameters for the best model using the `get_params()` method. Use an $\\alpha$ value of 0.1.\n",
    "\n",
    "**Hint:**  You can consider using the `sklearn.model_selection.train_test_split` method to create the training and test datasets."
   ]
  },
  {
   "cell_type": "code",
   "execution_count": 42,
   "metadata": {},
   "outputs": [
    {
     "name": "stdout",
     "output_type": "stream",
     "text": [
      "model OLS\n",
      "R^2\n",
      "0.770341472215\n",
      "Best params\n",
      "{0: 39.59702135855332, 1: -0.12426044832553829, 2: 0.053004254326277866, 3: 0.085065019639487538, 4: 1.8158907200986931, 5: -17.905637822656331, 6: 3.3350027050515791, 7: 0.0076304412432537383, 8: -1.5333664556416089, 9: 0.32411746449902523, 10: -0.01494561187436938, 11: -0.88508266348486586, 12: 0.0080411520010114368, 13: -0.61566993516816382}\n",
      "model Ridge\n",
      "R^2\n",
      "0.770510162073\n",
      "Best params\n",
      "{0: 38.892235375335076, 1: -0.12393955668081835, 2: 0.053106643673784593, 3: 0.083839407025728008, 4: 1.8123771274652398, 5: -17.495230655982141, 6: 3.3691034487289926, 7: 0.007405832848828009, 8: -1.5230545619794782, 9: 0.32106972353163599, 10: -0.014898080570346472, 11: -0.87345433618065726, 12: 0.0081235443760571957, 13: -0.61439869640398825}\n",
      "model Lasso\n",
      "R^2\n",
      "0.744830310794\n",
      "Best params\n",
      "{0: 29.103854823582274, 1: -0.11491301266484528, 2: 0.055647592913986736, 3: 0.015951792731530648, 4: 0.0, 5: -0.0, 6: 3.1908388867900466, 7: -0.0026044569998016883, 8: -1.2454387240991009, 9: 0.28348145698451455, 10: -0.016795689758291293, 11: -0.7006790368920659, 12: 0.0088360013079474449, 13: -0.66540697534289928}\n"
     ]
    }
   ],
   "source": [
    "from sklearn.datasets import load_boston \n",
    "from sklearn.model_selection import train_test_split\n",
    "\n",
    "boston = load_boston()\n",
    "#print(boston.target)\n",
    "#print(boston.data)\n",
    "\n",
    "x_train, x_test, y_train,y_test = train_test_split(boston.data,boston.target, test_size=0.3)\n",
    "\n",
    "\n",
    "#print(x_train.shape)\n",
    "\n",
    "modelOLS = OLSRegression()\n",
    "modelRidge = RidgeRegression()\n",
    "modelLasso = LassoRegression()\n",
    "\n",
    "models = [modelOLS, modelRidge, modelLasso]\n",
    "names =[\"model OLS\", \"model Ridge\", \"model Lasso\"]\n",
    "for i,model in enumerate(models):\n",
    "    print(names[i])\n",
    "    model.fit(x_train,y_train,alpha=0.1)\n",
    "    print(\"R^2\")\n",
    "    score=model.score(x_test,y_test)\n",
    "    print(score)\n",
    "    print(\"Best params\")\n",
    "    params = model.get_params()\n",
    "    print(params)\n",
    "\n"
   ]
  },
  {
   "cell_type": "markdown",
   "metadata": {},
   "source": [
    "### Part 5: Visualize Model Performance\n",
    "\n",
    "We can evaluate how the models perform for various values of $\\alpha$. Calculate the $R^2$ scores for each model for  $\\alpha \\in [0.05, 1]$ and plot the three lines on the same graph. To change the parameters, use the `set_params()` method. Be sure to label each line and add axis labels."
   ]
  },
  {
   "cell_type": "code",
   "execution_count": 43,
   "metadata": {},
   "outputs": [
    {
     "data": {
      "image/png": "[encoded data removed]",
      "text/plain": [
       "<matplotlib.figure.Figure at 0x118d63a90>"
      ]
     },
     "metadata": {},
     "output_type": "display_data"
    }
   ],
   "source": [
    "import matplotlib.pyplot as plt\n",
    "alphas = np.linspace(0.05,1,num=50)\n",
    "\n",
    "modelOLS1 = OLSRegression()\n",
    "modelRidge1 = RidgeRegression()\n",
    "modelLasso1 = LassoRegression()\n",
    "\n",
    "scoreOLS =[]\n",
    "scoreRidge = []\n",
    "scoreLasso =[]\n",
    "\n",
    "for alpha in alphas:\n",
    "    \n",
    "    modelOLS1.fit(x_train,y_train,alpha=alphas)\n",
    "    scoreOLS.append(modelOLS1.score(x_test,y_test))\n",
    "    \n",
    "    modelRidge1.set_params(alpha)\n",
    "    modelRidge1.fit(x_train,y_train,alpha=alpha)\n",
    "    scoreRidge.append(modelRidge1.score(x_test,y_test))\n",
    "    \n",
    "    modelLasso1.set_params(alpha)\n",
    "    modelLasso1.fit(x_train,y_train,alpha=alpha)\n",
    "    scoreLasso.append(modelLasso1.score(x_test,y_test))\n",
    "    \n",
    "    #score=model.score(x_test,y_test)\n",
    "#print(scoreLasso)\n",
    "\n",
    "plt.plot(alphas,scoreRidge,label=\"Ridge\")\n",
    "plt.plot(alphas,scoreOLS,label=\"OLS\")\n",
    "plt.plot(alphas,scoreLasso,label=\"Lasso\")\n",
    "plt.xlabel(\"Alphas\")\n",
    "plt.ylabel(\"R^2\")\n",
    "plt.legend()\n",
    "plt.show()"
   ]
  },
  {
   "cell_type": "code",
   "execution_count": null,
   "metadata": {
    "collapsed": true
   },
   "outputs": [],
   "source": []
  }
 ],
 "metadata": {
  "kernelspec": {
   "display_name": "Python 3",
   "language": "python",
   "name": "python3"
  },
  "language_info": {
   "codemirror_mode": {
    "name": "ipython",
    "version": 3
   },
   "file_extension": ".py",
   "mimetype": "text/x-python",
   "name": "python",
   "nbconvert_exporter": "python",
   "pygments_lexer": "ipython3",
   "version": "3.6.1"
  }
 },
 "nbformat": 4,
 "nbformat_minor": 2
}
