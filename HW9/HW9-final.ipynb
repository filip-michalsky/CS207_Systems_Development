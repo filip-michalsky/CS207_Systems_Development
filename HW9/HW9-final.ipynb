{
 "cells": [
  {
   "cell_type": "markdown",
   "metadata": {},
   "source": [
    "# Homework 9: Getting Familiar with NASA Polynomials\n",
    "## Due Date:  Tuesday, November 7th at 11:59 PM"
   ]
  },
  {
   "cell_type": "markdown",
   "metadata": {},
   "source": [
    "Read the NASA Polynomial dataset in raw format and parse and store the data into an .xml file."
   ]
  },
  {
   "cell_type": "markdown",
   "metadata": {},
   "source": [
    "### Review of the NASA Polynomials\n",
    "You can find the NASA Polynomial file in `thermo.txt`.\n",
    "\n",
    "You can find some details on the NASA Polynomials [at this site](http://combustion.berkeley.edu/gri_mech/data/nasa_plnm.html) in addition to the Lecture 16 notes.\n",
    "\n",
    "\n",
    "The NASA polynomials for specie $i$ have the form:\n",
    "$$\n",
    "    \\frac{C_{p,i}}{R}= a_{i1} + a_{i2} T + a_{i3} T^2 + a_{i4} T^3 + a_{i5} T^4\n",
    "$$\n",
    "\n",
    "$$\n",
    "    \\frac{H_{i}}{RT} = a_{i1} + a_{i2} \\frac{T}{2} + a_{i3} \\frac{T^2}{3} + a_{i4} \\frac{T^3}{4} + a_{i5} \\frac{T^4}{5} + \\frac{a_{i6}}{T}\n",
    "$$\n",
    "\n",
    "$$\n",
    "    \\frac{S_{i}}{R}  = a_{i1} \\ln(T) + a_{i2} T + a_{i3} \\frac{T^2}{2} + a_{i4} \\frac{T^3}{3} + a_{i5} \\frac{T^4}{4} + a_{i7}\n",
    "$$\n",
    "\n",
    "where $a_{i1}$, $a_{i2}$, $a_{i3}$, $a_{i4}$, $a_{i5}$, $a_{i6}$, and $a_{i7}$ are the numerical coefficients supplied in NASA thermodynamic files. "
   ]
  },
  {
   "cell_type": "markdown",
   "metadata": {},
   "source": [
    "### Some Notes on `thermo.txt`\n",
    "The first 7 numbers starting on the second line of each species entry (five of the second line and the first two of the third line) are the seven coefficients ($a_{i1}$ through $a_{i7}$, respectively) for the high-temperature range (above 1000 K, the upper boundary is specified on the first line of the species entry). \n",
    "\n",
    "The next seven numbers are the coefficients ($a_{i1}$ through $a_{i7}$, respectively) for the low-temperature range (below 1000 K, the lower boundary is specified on the first line of the species entry)."
   ]
  },
  {
   "cell_type": "markdown",
   "metadata": {},
   "source": [
    "### Additional Specifications\n",
    "Your final .xml file should contain the following specifications:\n",
    "\n",
    "1. A `speciesArray` field that contains a space-separated list of all of the species present in the file.\n",
    "2. Each species contains a `species` field with a `name` attribute as the species name.\n",
    "\n",
    "    1. For each temperature range, use a sub-field with the minimum and maximum temperature as attributes.\n",
    "    2. `floatArray` field that contains comma-separated string of each coefficient.\n",
    "    \n",
    "You can reference the `example_thermo.xml` file for an example .xml output."
   ]
  },
  {
   "cell_type": "markdown",
   "metadata": {},
   "source": [
    "**Hint**: First parse the file into a Python dictionary. "
   ]
  },
  {
   "cell_type": "code",
   "execution_count": 2,
   "metadata": {
    "collapsed": true
   },
   "outputs": [],
   "source": [
    "def species_txt_to_dict(xml_file):\n",
    "    file = open(xml_file,'r')\n",
    "    lines = file.readlines()\n",
    "    file.close()\n",
    "    species_dict ={}\n",
    "    Low = {}\n",
    "    High = {}\n",
    "\n",
    "    for i in lines:\n",
    "        chars = i.split()\n",
    "        #print(chars)\n",
    "        if chars[-1]=='1':\n",
    "            current_specie = chars[0]\n",
    "            species_dict[current_specie]={'low':{},'high':{}}\n",
    "            #Low Tmax Tmin\n",
    "            Ltmin = chars[-4]\n",
    "            Ltmax = chars[-2]\n",
    "            Htmin = chars[-2]\n",
    "            Htmax = chars[-3]\n",
    "            #print(Ltmin,Ltmax,Htmin,Htmax)\n",
    "        elif chars[-1] =='2':\n",
    "            a1= i[0:15]\n",
    "            a2= i[15:30]\n",
    "            a3 = i[30:45]\n",
    "            a4 = i[45:60]\n",
    "            a5 = i[60:75]\n",
    "            #print(i)\n",
    "            #print(a1,a2,a3,a4,a5)\n",
    "        elif chars[-1] == '3':\n",
    "            a6 = i[0:15]\n",
    "            a7 = i[15:30]\n",
    "\n",
    "            coefs_highT = [a1,a2,a3,a4,a5,a6,a7]\n",
    "            #for index,j in enumerate(coefs_highT):\n",
    "            #    coefs_highT[index]=float(j)\n",
    "\n",
    "            #print(\"coefs\",coefs_highT)\n",
    "            l1 = i[30:45]\n",
    "            l2 = i[45:60]\n",
    "\n",
    "        elif chars[-1] == '4':\n",
    "            l3= i[0:15]\n",
    "            l4= i[15:30]\n",
    "            l5 = i[30:45]\n",
    "            coefs_lowT = [l1,l2,l3,l4,l5]\n",
    "            #for index,j in enumerate(coefs_lowT):\n",
    "            #    coefs_lowT[index]=float(j)\n",
    "\n",
    "            #print(\"low coef\",coefs_lowT)\n",
    "            species_dict[current_specie]['low']['coefs'] = coefs_lowT\n",
    "            species_dict[current_specie]['low']['tmax'] = Ltmax\n",
    "            species_dict[current_specie]['low']['tmin'] = Ltmin\n",
    "\n",
    "            species_dict[current_specie]['high']['coefs'] = coefs_highT\n",
    "            species_dict[current_specie]['high']['tmax'] = Htmax\n",
    "            species_dict[current_specie]['high']['tmin'] = Htmin\n",
    "\n",
    "            #print(\"current coefs\",species_dict[current_specie]['high']['coefs'])\n",
    "        if chars[0]==\"END\":\n",
    "            #print(\"END\")\n",
    "            break\n",
    "    \n",
    "    return species_dict\n",
    "\n",
    "\n",
    "def parse_dict_to_xml(species_dict):\n",
    "    from copy import deepcopy\n",
    "    import xml.etree.ElementTree as ET\n",
    "    #use the template file\n",
    "    tree = ET.parse('example_thermo.xml')\n",
    "    root = tree.getroot()\n",
    "\n",
    "    #get a node of species\n",
    "    specie = deepcopy(root.find('speciesData').find('species'))\n",
    "\n",
    "    #remove all the species from the parent\n",
    "    old_species = root.find('speciesData').findall('species')\n",
    "\n",
    "    for item in old_species:\n",
    "        root.find('speciesData').remove(item)\n",
    "\n",
    "    for index,key in enumerate(species_dict):\n",
    "\n",
    "        temp = deepcopy(specie)\n",
    "        temp.set('name',str(key))\n",
    "\n",
    "        #species_dict[key]['low']['coefs']\n",
    "\n",
    "        NASA = temp.find('thermo').findall('NASA')\n",
    "\n",
    "        NASA[0].find('floatArray').text = ', '.join(species_dict[key]['low']['coefs'])\n",
    "        NASA[0].set(\"Tmax\",species_dict[key]['low']['tmax'])\n",
    "        NASA[0].set(\"Tmin\",species_dict[key]['low']['tmin'])\n",
    "\n",
    "        NASA[1].find('floatArray').text = ', '.join(species_dict[key]['high']['coefs'])\n",
    "        NASA[1].set(\"Tmax\",species_dict[key]['high']['tmax'])\n",
    "        NASA[1].set(\"Tmin\",species_dict[key]['high']['tmin'])\n",
    "\n",
    "        root.find('speciesData').append(temp)\n",
    "\n",
    "    #creating my SpeciesArray\n",
    "    for item in root.find('phase'):\n",
    "        specie_names = [value for value in species_dict]\n",
    "        item.text = \" \".join(specie_names)\n",
    "\n",
    "    return tree\n",
    "\n"
   ]
  },
  {
   "cell_type": "code",
   "execution_count": 3,
   "metadata": {},
   "outputs": [],
   "source": [
    "my_species_dict = species_txt_to_dict('thermo_all.txt')\n",
    "xml_tree = parse_dict_to_xml(my_species_dict)\n",
    "\n",
    "xml_tree.write(\"NASAcoeffs.xml\")\n",
    "\n",
    "#pretify the resulting xml\n",
    "import xml.dom.minidom\n",
    "xml = xml.dom.minidom.parse(\"NASAcoeffs.xml\")\n",
    "pretty_xml_as_string = xml.toprettyxml()"
   ]
  },
  {
   "cell_type": "code",
   "execution_count": null,
   "metadata": {
    "collapsed": true
   },
   "outputs": [],
   "source": []
  }
 ],
 "metadata": {
  "kernelspec": {
   "display_name": "Python 3",
   "language": "python",
   "name": "python3"
  },
  "language_info": {
   "codemirror_mode": {
    "name": "ipython",
    "version": 3
   },
   "file_extension": ".py",
   "mimetype": "text/x-python",
   "name": "python",
   "nbconvert_exporter": "python",
   "pygments_lexer": "ipython3",
   "version": "3.6.1"
  }
 },
 "nbformat": 4,
 "nbformat_minor": 1
}
