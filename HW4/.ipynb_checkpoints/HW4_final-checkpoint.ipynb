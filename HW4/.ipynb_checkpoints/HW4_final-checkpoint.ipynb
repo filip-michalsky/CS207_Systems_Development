{
 "cells": [
  {
   "cell_type": "markdown",
   "metadata": {},
   "source": [
    "# Homework 4\n",
    "### Due Date:  Tuesday, September 26th at 11:59 PM"
   ]
  },
  {
   "cell_type": "markdown",
   "metadata": {},
   "source": [
    "## Problem 1\n",
    "The file `circles.txt` contains measurements of circle radii.  Your task is to write a script that reports the average area of the circles.  You will **not** use the `numpy` `mean` function.  Here are the requirements:\n",
    "1. Open `circles.txt`, read in the data, and convert the data to floats.\n",
    "2. Write a function that computes the area of a circle.\n",
    "3. Write a function, called `myave`, that computes the average of the areas of the circles.  At the very least, `myave` should accept the list of radii as one argument and the circle function that you wrote in step 2 as another argument.  There are other ways of doing this task, but I want you to do it this way.\n",
    "4. Print out the result."
   ]
  },
  {
   "cell_type": "code",
   "execution_count": 43,
   "metadata": {},
   "outputs": [
    {
     "name": "stdout",
     "output_type": "stream",
     "text": [
      "The average radius of the circles is  3.1629528231246784\n"
     ]
    }
   ],
   "source": [
    "import math as mth\n",
    "import numpy as np\n",
    "\n",
    "file=open('circles.txt','r')\n",
    "\n",
    "circles_rad=file.readlines()\n",
    "\n",
    "circles_rad=[float(number) for number in circles_rad]\n",
    "\n",
    "def circle_area(radius):\n",
    "    #calculate an area of a circle\n",
    "    area=mth.pi*radius**2\n",
    "    \n",
    "    return area\n",
    "\n",
    "def myave(list_of_radii,function_to_calc_radius):\n",
    "    total=0\n",
    "    for radius in list_of_radii:\n",
    "        total=total+radius #sum up all the radii\n",
    "    \n",
    "    average_radius=total/len(list_of_radii)\n",
    "    \n",
    "    avg_area=function_to_calc_radius(average_radius)\n",
    "    \n",
    "    return avg_area\n",
    "    \n",
    "print(\"The average radius of the circles is \",myave(circles_rad,circle_area))        \n",
    "\n",
    "        "
   ]
  },
  {
   "cell_type": "markdown",
   "metadata": {},
   "source": [
    "## Problem 2\n",
    "The goal of this problem is to write a simple bank account withdraw system.  The problem is based off of one in _Structure and Interpretation of Computer Programs_.\n",
    "\n",
    "**Instructions:** Do each part in a different cell block and clearly label each part.\n",
    "\n",
    "### Part 1\n",
    "Write a closure to make withdraws from a bank account.  The outer function should be accept the initial balance as an argument (I'll refer to this argument as `balance` in this problem statement, but you can call it whatever you want).  The inner function should accept the withdraw amount as an argument and return the new balance.\n",
    "\n",
    "**NOTE1:** For this part, do not try to reassign `balance` in the inner function.  Just see what happens when you return a new balance.  You can store the new balance in a new name (call it `new_bal` if you want) or just return the new balance directly.\n",
    "\n",
    "**NOTE2:** You may want to check for basic exceptions (e.g. attempting to withdraw more than the current balance).\n",
    "\n",
    "Once you write your functions, demo them in your notebook as follows:\n",
    "```python\n",
    "wd = make_withdraw(init_balance)\n",
    "wd(withdraw_amount)\n",
    "wd(new_withdraw_amount)\n",
    "```\n",
    "You should observe that this does not behave correctly.  Why not?\n",
    "\n",
    "### Part 2\n",
    "You can fix things up by updating `balance` within the inner function.  But this won't work.  Try it out and explain why it doesn't work.  Try to use the language that we used in lecture.  **Hint:** [Python Execution Model](https://docs.python.org/3/reference/executionmodel.html).\n",
    "\n",
    "### Part 3\n",
    "Now, make just one small change to your code from Part 2.  Declare `balance` as a nonlocal variable using the nonlocal keyword.  That is, before you get to the inner function, say `nonlocal balance`.  Here's some information on the `nonlocal` statement:  [`nonlocal`](https://docs.python.org/3/reference/simple_stmts.html#nonlocal).\n",
    "\n",
    "Now test things out like you did in Part 1.  It should be behaving correctly now.\n",
    "\n",
    "### Part 4\n",
    "Finally, visualize your code with [Python Tutor](http://pythontutor.com/) and embed your visualization in your notebook.  Pay attention to the variable `balance`."
   ]
  },
  {
   "cell_type": "markdown",
   "metadata": {},
   "source": [
    "#Part 1"
   ]
  },
  {
   "cell_type": "code",
   "execution_count": 33,
   "metadata": {},
   "outputs": [
    {
     "name": "stdout",
     "output_type": "stream",
     "text": [
      "Your balance is 1000\n",
      "Withdraw 200\n",
      "800\n",
      "Your balance is 1000\n",
      "Withdraw 300\n",
      "700\n",
      "Not working correctly - Variable balance is not updated after a withdrawal - the amount 1000 is stored locally in function wd\n",
      "and passed to the inner function every time we call it\n"
     ]
    }
   ],
   "source": [
    "def make_withdraw(balance):\n",
    "    def withdraw_amount(withdrawal):\n",
    "        print(\"Your balance is\",balance)\n",
    "        print(\"Withdraw\",withdrawal)\n",
    "        if balance>withdrawal:\n",
    "            new_bal=balance-withdrawal\n",
    "        else:\n",
    "            print(\"Insufficient funds\")\n",
    "        #attempt to update the balance inside the inner function        \n",
    "        return new_bal\n",
    "    return withdraw_amount\n",
    "      \n",
    "wd = make_withdraw(1000)\n",
    "\n",
    "print(wd(200))\n",
    "print(wd(300))\n",
    "\n",
    "print(\"Not working correctly - Variable balance is not updated after a withdrawal - the amount 1000 is stored locally in function wd\") \n",
    "print(\"and passed to the inner function every time we call it\")"
   ]
  },
  {
   "cell_type": "code",
   "execution_count": 32,
   "metadata": {},
   "outputs": [
    {
     "name": "stdout",
     "output_type": "stream",
     "text": [
      "This won't work either because the variable balance has been captured by the inner function, cannot now be changed: we have lost direct access to its manipulation\n"
     ]
    },
    {
     "ename": "UnboundLocalError",
     "evalue": "local variable 'balance' referenced before assignment",
     "output_type": "error",
     "traceback": [
      "\u001b[0;31m---------------------------------------------------------------------------\u001b[0m",
      "\u001b[0;31mUnboundLocalError\u001b[0m                         Traceback (most recent call last)",
      "\u001b[0;32m<ipython-input-32-7c7c55878301>\u001b[0m in \u001b[0;36m<module>\u001b[0;34m()\u001b[0m\n\u001b[1;32m     16\u001b[0m \u001b[0mwd\u001b[0m \u001b[0;34m=\u001b[0m \u001b[0mmake_withdraw\u001b[0m\u001b[0;34m(\u001b[0m\u001b[0;36m1000\u001b[0m\u001b[0;34m)\u001b[0m\u001b[0;34m\u001b[0m\u001b[0m\n\u001b[1;32m     17\u001b[0m \u001b[0mprint\u001b[0m\u001b[0;34m(\u001b[0m\u001b[0;34m\"This won't work either because the variable balance has been captured by the inner function, cannot now be changed: we have lost direct access to its manipulation\"\u001b[0m\u001b[0;34m)\u001b[0m\u001b[0;34m\u001b[0m\u001b[0m\n\u001b[0;32m---> 18\u001b[0;31m \u001b[0mprint\u001b[0m\u001b[0;34m(\u001b[0m\u001b[0mwd\u001b[0m\u001b[0;34m(\u001b[0m\u001b[0;36m200\u001b[0m\u001b[0;34m)\u001b[0m\u001b[0;34m)\u001b[0m\u001b[0;34m\u001b[0m\u001b[0m\n\u001b[0m\u001b[1;32m     19\u001b[0m \u001b[0mprint\u001b[0m\u001b[0;34m(\u001b[0m\u001b[0mwd\u001b[0m\u001b[0;34m(\u001b[0m\u001b[0;36m300\u001b[0m\u001b[0;34m)\u001b[0m\u001b[0;34m)\u001b[0m\u001b[0;34m\u001b[0m\u001b[0m\n",
      "\u001b[0;32m<ipython-input-32-7c7c55878301>\u001b[0m in \u001b[0;36mwithdraw_amount\u001b[0;34m(withdrawal)\u001b[0m\n\u001b[1;32m      2\u001b[0m \u001b[0;32mdef\u001b[0m \u001b[0mmake_withdraw\u001b[0m\u001b[0;34m(\u001b[0m\u001b[0mbalance\u001b[0m\u001b[0;34m)\u001b[0m\u001b[0;34m:\u001b[0m\u001b[0;34m\u001b[0m\u001b[0m\n\u001b[1;32m      3\u001b[0m     \u001b[0;32mdef\u001b[0m \u001b[0mwithdraw_amount\u001b[0m\u001b[0;34m(\u001b[0m\u001b[0mwithdrawal\u001b[0m\u001b[0;34m)\u001b[0m\u001b[0;34m:\u001b[0m\u001b[0;34m\u001b[0m\u001b[0m\n\u001b[0;32m----> 4\u001b[0;31m         \u001b[0mprint\u001b[0m\u001b[0;34m(\u001b[0m\u001b[0;34m\"Your balance is\"\u001b[0m\u001b[0;34m,\u001b[0m\u001b[0mbalance\u001b[0m\u001b[0;34m)\u001b[0m\u001b[0;34m\u001b[0m\u001b[0m\n\u001b[0m\u001b[1;32m      5\u001b[0m         \u001b[0mprint\u001b[0m\u001b[0;34m(\u001b[0m\u001b[0;34m\"Withdraw\"\u001b[0m\u001b[0;34m,\u001b[0m\u001b[0mwithdrawal\u001b[0m\u001b[0;34m)\u001b[0m\u001b[0;34m\u001b[0m\u001b[0m\n\u001b[1;32m      6\u001b[0m         \u001b[0;32mif\u001b[0m \u001b[0mbalance\u001b[0m\u001b[0;34m>\u001b[0m\u001b[0mwithdrawal\u001b[0m\u001b[0;34m:\u001b[0m\u001b[0;34m\u001b[0m\u001b[0m\n",
      "\u001b[0;31mUnboundLocalError\u001b[0m: local variable 'balance' referenced before assignment"
     ]
    }
   ],
   "source": [
    "#Part 2\n",
    "def make_withdraw(balance):\n",
    "    def withdraw_amount(withdrawal):\n",
    "        print(\"Your balance is\",balance)\n",
    "        print(\"Withdraw\",withdrawal)\n",
    "        if balance>withdrawal:\n",
    "            new_bal=balance-withdrawal\n",
    "            balance=new_bal\n",
    "        else:\n",
    "            print(\"Insufficient funds\")\n",
    "        #assigning new variable \"balance\" inside the inner function\n",
    "        \n",
    "        return new_bal\n",
    "    return withdraw_amount\n",
    "      \n",
    "wd = make_withdraw(1000)\n",
    "###EXPLAIN BETTER\n",
    "print(\"This won't work either because the variable balance has been captured by the inner function, cannot now be changed: we have lost direct access to its manipulation.\")\n",
    "print(wd(200))\n",
    "print(wd(300))\n"
   ]
  },
  {
   "cell_type": "markdown",
   "metadata": {},
   "source": [
    "## Problem 3\n",
    "Let's return to the data from Problem 1.  Write two functions: 1.) The first function should return the average circle area (you can re-use the one you already wrote if you'd like, but you might need to update it slightly for this problem) and 2.) The second function should just use `numpy` to compute the average.\n",
    "\n",
    "Write a decorator to time the evaluation of each function.  You can use the timing decorator from lecture.\n",
    "\n",
    "#### Notes and Hints\n",
    "1. Be fair!\n",
    "2. To be as fair as possible, do the following:\n",
    "  1. Create an areas list/array _outside_ of your averaging functions.  This means that you should do a loop over the radii you read in from `circles.txt`, compute the area from each point, and store that area in an array.  Do you know why this is more fair?  Also, try to not use `append`.  Instead, preallocate space for your `area` list/array.\n",
    "  2. Your `my_ave` function should accept your areas data as a list.  Remember, to allocate a list you should do `[0.0]*N`: if you use such a construct your list will will be filled in with zeros.\n",
    "  3. Your `np_ave` function should accept your areas data as a `numpy` array.  To allocate a `numpy` array do `areas_np = np.zeros(len(radii))`.\n",
    "  4. Now both functions are using the best data types possible for their tasks."
   ]
  },
  {
   "cell_type": "code",
   "execution_count": 45,
   "metadata": {},
   "outputs": [
    {
     "name": "stdout",
     "output_type": "stream",
     "text": [
      "Time Elapsed 8.106231689453125e-06\n",
      "Time Elapsed 0.0010371208190917969\n"
     ]
    }
   ],
   "source": [
    "###### import time\n",
    "\n",
    "def timer(f):\n",
    "    def inner(*args):\n",
    "        t0 = time.time()\n",
    "        output = f(*args)\n",
    "        elapsed = time.time() - t0\n",
    "        print(\"Time Elapsed\", elapsed)\n",
    "        return output\n",
    "    return inner\n",
    "\n",
    "\n",
    "\n",
    "N=len(circles_rad)\n",
    "my_areas=[0.0]*N\n",
    "areas_np=np.zeros(N)\n",
    "\n",
    "for index,radius in enumerate(circles_rad):\n",
    "        a=mth.pi*radius**2\n",
    "        my_areas[index]=a\n",
    "        areas_np[index]=a\n",
    "        \n",
    "\n",
    "def my_ave2_function(areas):\n",
    "    #calculate an area of a circle\n",
    "    avg=sum(my_areas)/len(my_areas)\n",
    "    \n",
    "    return avg\n",
    "    \n",
    "    \n",
    "def np_ave_function(areas):\n",
    "    \n",
    "    avg_area=np.mean(areas)\n",
    "    \n",
    "    return avg_area\n",
    "\n",
    "\n",
    "#Time allocation list\n",
    "my_avg_area=timer(my_ave2_function)\n",
    "l1=my_avg_area(my_areas)\n",
    "\n",
    "\n",
    "#Time allocation np array\n",
    "np_avg_area=timer(np_ave_function)\n",
    "l2=np_avg_area(areas_np)\n",
    "    \n",
    "    \n",
    "#print(areas[0:5])"
   ]
  },
  {
   "cell_type": "markdown",
   "metadata": {},
   "source": [
    "## Problem 4\n",
    "Write a decorator to check if a quantity returned from a function is positive.  An exception should be raised if the quantity is not positive.\n",
    "\n",
    "Write three functions and decorate them with your decorator:\n",
    "1. A function that returns the discriminant $\\displaystyle d = b^{2} - 4ac$\n",
    "2. A function that computes the absolute value (you must write this yourself...do not use built-ins)\n",
    "3. A function of your own choosing.\n",
    "\n",
    "Show that your decorator behaves correctly.  That is, for each function, show two cases (where applicable):\n",
    "1. A case where positivity is not violated\n",
    "2. A case where positivity is violated"
   ]
  }
 ],
 "metadata": {
  "kernelspec": {
   "display_name": "Python 3",
   "language": "python",
   "name": "python3"
  },
  "language_info": {
   "codemirror_mode": {
    "name": "ipython",
    "version": 3
   },
   "file_extension": ".py",
   "mimetype": "text/x-python",
   "name": "python",
   "nbconvert_exporter": "python",
   "pygments_lexer": "ipython3",
   "version": "3.6.1"
  }
 },
 "nbformat": 4,
 "nbformat_minor": 2
}
