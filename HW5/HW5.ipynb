{
 "cells": [
  {
   "cell_type": "markdown",
   "metadata": {},
   "source": [
    "# Homework 5\n",
    "## Due Date:  Tuesday, October 3rd at 11:59 PM"
   ]
  },
  {
   "cell_type": "markdown",
   "metadata": {},
   "source": [
    "# Problem 1\n",
    "We discussed documentation and testing in lecture and also briefly touched on code coverage.  You must write tests for your code for your final project (and in life).  There is a nice way to automate the testing process called continuous integration (CI).\n",
    "\n",
    "This problem will walk you through the basics of CI and show you how to get up and running with some CI software."
   ]
  },
  {
   "cell_type": "markdown",
   "metadata": {},
   "source": [
    "### Continuous Integration\n",
    "The idea behind continuous integration is to automate away the testing of your code.\n",
    "\n",
    "We will be using it for our projects.\n",
    "\n",
    "The basic workflow goes something like this:\n",
    "\n",
    "1. You work on your part of the code in your own branch or fork\n",
    "2. On every commit you make and push to GitHub, your code is automatically tested on a fresh machine on Travis CI. This ensures that there are no specific dependencies on the structure of your machine that your code needs to run and also ensures that your changes are sane\n",
    "3. Now you submit a pull request to `master` in the main repo (the one you're hoping to contribute to). The repo manager creates a branch off `master`. \n",
    "4. This branch is also set to run tests on Travis. If all tests pass, then the pull request is accepted and your code becomes part of master.\n",
    "\n",
    "We use GitHub to integrate our roots library with Travis CI and Coveralls. Note that this is not the only workflow people use. Google git..github..workflow and feel free to choose another one for your group."
   ]
  },
  {
   "cell_type": "markdown",
   "metadata": {},
   "source": [
    "### Part 1:  Create a repo\n",
    "Create a public GitHub repo called `cs207test` and clone it to your local machine.\n",
    "\n",
    "**Note:** No need to do this in Jupyter."
   ]
  },
  {
   "cell_type": "markdown",
   "metadata": {},
   "source": [
    "### Part 2:  Create a roots library\n",
    "Use the example from lecture 7 to create a file called `roots.py`, which contains the `quad_roots` and `linear_roots` functions (along with their documentation).\n",
    "\n",
    "Also create a file called `test_roots.py`, which contains the tests from lecture.\n",
    "\n",
    "All of these files should be in your newly created `cs207test` repo.  **Don't push yet!!!**"
   ]
  },
  {
   "cell_type": "code",
   "execution_count": 20,
   "metadata": {},
   "outputs": [
    {
     "name": "stdout",
     "output_type": "stream",
     "text": [
      "Overwriting cs207test/roots.py\n"
     ]
    }
   ],
   "source": [
    "%%file cs207test/roots.py\n",
    "def linear_roots(a=1.0, b=0.0):\n",
    "    \"\"\"Returns the roots of a linear equation: ax+ b = 0.\n",
    "    \n",
    "    INPUTS\n",
    "    =======\n",
    "    a: float, optional, default value is 1\n",
    "       Coefficient of linear term\n",
    "    b: float, optional, default value is 0\n",
    "       Coefficient of constant term\n",
    "    \n",
    "    RETURNS\n",
    "    ========\n",
    "    roots: 1-tuple of real floats\n",
    "       Has the form (root) unless a = 0 \n",
    "       in which case a ValueError exception is raised\n",
    "    \n",
    "    EXAMPLES\n",
    "    =========\n",
    "    >>> linear_roots(1.0, 2.0)\n",
    "    -2.0\n",
    "    \"\"\"\n",
    "    if a == 0:\n",
    "        raise ValueError(\"The linear coefficient is zero.  This is not a linear equation.\")\n",
    "    else:\n",
    "        return ((-b / a))\n",
    "\n",
    "def quad_roots(a=1.0, b=2.0, c=0.0):\n",
    "    \"\"\"Returns the roots of a quadratic equation: ax^2 + bx + c = 0.\n",
    "    \n",
    "    INPUTS\n",
    "    =======\n",
    "    a: float, optional, default value is 1\n",
    "       Coefficient of quadratic term\n",
    "    b: float, optional, default value is 2\n",
    "       Coefficient of linear term\n",
    "    c: float, optional, default value is 0\n",
    "       Constant term\n",
    "    \n",
    "    RETURNS\n",
    "    ========\n",
    "    roots: 2-tuple of complex floats\n",
    "       Has the form (root1, root2) unless a = 0 \n",
    "       in which case a ValueError exception is raised\n",
    "    \n",
    "    EXAMPLES\n",
    "    =========\n",
    "    >>> quad_roots(1.0, 1.0, -12.0)\n",
    "    ((3+0j), (-4+0j))\n",
    "    \"\"\"\n",
    "    import cmath # Can return complex numbers from square roots\n",
    "    if a == 0:\n",
    "        raise ValueError(\"The quadratic coefficient is zero.  This is not a quadratic equation.\")\n",
    "    else:\n",
    "        sqrtdisc = cmath.sqrt(b * b - 4.0 * a * c)\n",
    "        r1 = -b + sqrtdisc\n",
    "        r2 = -b - sqrtdisc\n",
    "        return (r1 / 2.0 / a, r2 / 2.0 / a)"
   ]
  },
  {
   "cell_type": "code",
   "execution_count": 21,
   "metadata": {},
   "outputs": [
    {
     "name": "stdout",
     "output_type": "stream",
     "text": [
      "Overwriting cs207test/test_roots.py\n"
     ]
    }
   ],
   "source": [
    "%%file cs207test/test_roots.py\n",
    "import roots\n",
    "\n",
    "def test_quadroots_result():\n",
    "    assert roots.quad_roots(1.0, 1.0, -12.0) == ((3+0j), (-4+0j))\n",
    "\n",
    "def test_quadroots_types():\n",
    "    try:\n",
    "        roots.quad_roots(\"\", \"green\", \"hi\")\n",
    "    except TypeError as err:\n",
    "        assert(type(err) == TypeError)\n",
    "\n",
    "def test_quadroots_zerocoeff():\n",
    "    try:\n",
    "        roots.quad_roots(a=0.0)\n",
    "    except ValueError as err:\n",
    "        assert(type(err) == ValueError)\n",
    "\n",
    "def test_linearoots_result():\n",
    "    assert roots.linear_roots(2.0, -3.0) == 1.5\n",
    "\n",
    "def test_linearroots_types():\n",
    "    try:\n",
    "        roots.linear_roots(\"ocean\", 6.0)\n",
    "    except TypeError as err:\n",
    "        assert(type(err) == TypeError)\n",
    "\n",
    "def test_linearroots_zerocoeff():\n",
    "    try:\n",
    "        roots.linear_roots(a=0.0)\n",
    "    except ValueError as err:\n",
    "        assert(type(err) == ValueError)"
   ]
  },
  {
   "cell_type": "markdown",
   "metadata": {},
   "source": [
    "### Part 3:  Create an account on Travis CI and Start Building\n",
    "\n",
    "#### Part A:\n",
    "Create an account on Travis CI and set your `cs207test` repo up for continuous integration once this repo can be seen on Travis.\n",
    "\n",
    "#### Part B:\n",
    "Create an instruction to Travis to make sure that\n",
    "\n",
    "1. python is installed\n",
    "2. its python 3.5\n",
    "3. pytest is installed\n",
    "\n",
    "The file should be called `.travis.yml` and should have the contents:\n",
    "```yml\n",
    "language: python\n",
    "python:\n",
    "    - \"3.5\"\n",
    "before_install:\n",
    "    - pip install pytest pytest-cov\n",
    "script:\n",
    "    - pytest\n",
    "```\n",
    "\n",
    "You should also create a configuration file called `setup.cfg`:\n",
    "```cfg\n",
    "[tool:pytest]\n",
    "addopts = --doctest-modules --cov-report term-missing --cov roots\n",
    "```\n",
    "\n",
    "#### Part C:\n",
    "Push the new changes to your `cs207test` repo.\n",
    "\n",
    "At this point you should be able to see your build on Travis and if and how your tests pass."
   ]
  },
  {
   "cell_type": "code",
   "execution_count": 22,
   "metadata": {},
   "outputs": [
    {
     "name": "stdout",
     "output_type": "stream",
     "text": [
      "Overwriting cs207test/.travis.yml\n"
     ]
    }
   ],
   "source": [
    "%%file cs207test/.travis.yml\n",
    "\n",
    "language: python\n",
    "python:\n",
    "    - \"3.5\"\n",
    "before_install:\n",
    "    - pip install pytest pytest-cov\n",
    "script:\n",
    "    - pytest"
   ]
  },
  {
   "cell_type": "code",
   "execution_count": 23,
   "metadata": {},
   "outputs": [
    {
     "name": "stdout",
     "output_type": "stream",
     "text": [
      "Overwriting cs207test/setup.cfg\n"
     ]
    }
   ],
   "source": [
    "%%file cs207test/setup.cfg\n",
    "\n",
    "[tool:pytest]\n",
    "addopts = --doctest-modules --cov-report term-missing --cov roots\n"
   ]
  },
  {
   "cell_type": "markdown",
   "metadata": {},
   "source": [
    "### Part 4:  Coveralls Integration\n",
    "In class, we also discussed code coverage.  Just like Travis CI runs tests automatically for you, Coveralls automatically checks your code coverage.  One minor drawback of Coveralls is that it can only work with public GitHub accounts.  However, this isn't too big of a problem since your projects will be public.\n",
    "\n",
    "#### Part A:\n",
    "Create an account on [`Coveralls`](https://coveralls.zendesk.com/hc/en-us), connect your GitHub, and turn Coveralls integration on.\n",
    "\n",
    "#### Part B:\n",
    "Update your the `.travis.yml` file as follows:\n",
    "```yml\n",
    "language: python\n",
    "python:\n",
    "    - \"3.5\"\n",
    "before_install:\n",
    "    - pip install pytest pytest-cov\n",
    "    - pip install coveralls\n",
    "script:\n",
    "    - py.test\n",
    "after_success:\n",
    "    - coveralls\n",
    "```\n",
    "\n",
    "Be sure to push the latest changes to your new repo."
   ]
  },
  {
   "cell_type": "code",
   "execution_count": 24,
   "metadata": {},
   "outputs": [
    {
     "name": "stdout",
     "output_type": "stream",
     "text": [
      "Overwriting cs207test/.travis.yml\n"
     ]
    }
   ],
   "source": [
    "%%file cs207test/.travis.yml\n",
    "\n",
    "language: python\n",
    "python:\n",
    "    - \"3.5\"\n",
    "before_install:\n",
    "    - pip install pytest pytest-cov\n",
    "    - pip install coveralls\n",
    "script:\n",
    "    - py.test\n",
    "after_success:\n",
    "    - coveralls"
   ]
  },
  {
   "cell_type": "markdown",
   "metadata": {},
   "source": [
    "### Part 5:  Update README.md in repo\n",
    "You can have your GitHub repo reflect the build status on Travis CI and the code coverage status from Coveralls.  To do this, you should modify the `README.md` file in your repo to include some badges.  Put the following at the top of your `README.md` file:\n",
    "\n",
    "```\n",
    "[![Build Status](https://travis-ci.org/dsondak/cs207testing.svg?branch=master)](https://travis-ci.org/dsondak/cs207testing.svg?branch=master)\n",
    "\n",
    "[![Coverage Status](https://coveralls.io/repos/github/dsondak/cs207testing/badge.svg?branch=master)](https://coveralls.io/github/dsondak/cs207testing?branch=master)\n",
    "```\n",
    "\n",
    "Of course, you need to make sure that the links are to your repo and not mine.  You can find embed code on the Coveralls and Travis CI sites."
   ]
  },
  {
   "cell_type": "code",
   "execution_count": null,
   "metadata": {
    "collapsed": true
   },
   "outputs": [],
   "source": []
  },
  {
   "cell_type": "markdown",
   "metadata": {},
   "source": [
    "---\n",
    "\n",
    "# Problem 2\n",
    "Write a Python module for reaction rate coefficients.  Your module should include functions for constant reaction rate coefficients, Arrhenius reaction rate coefficients, and modified Arrhenius reaction rate coefficients.  Here are their mathematical forms:\n",
    "\\begin{align}\n",
    "  &k_{\\textrm{const}}   = k \\tag{constant} \\\\\n",
    "  &k_{\\textrm{arr}}     = A \\exp\\left(-\\frac{E}{RT}\\right) \\tag{Arrhenius} \\\\\n",
    "  &k_{\\textrm{mod arr}} = A T^{b} \\exp\\left(-\\frac{E}{RT}\\right) \\tag{Modified Arrhenius}\n",
    "\\end{align}\n",
    "\n",
    "Test your functions with the following paramters:  $A = 10^7$, $b=0.5$, $E=10^3$.  Use $T=10^2$.\n",
    "\n",
    "A few additional comments / suggestions:\n",
    "* The Arrhenius prefactor $A$ is strictly positive\n",
    "* The modified Arrhenius parameter $b$ must be real \n",
    "* $R = 8.314$ is the ideal gas constant.  It should never be changed (except to convert units)\n",
    "* The temperature $T$ must be positive (assuming a Kelvin scale)\n",
    "* You may assume that units are consistent\n",
    "* Document each function!\n",
    "* You might want to check for overflows and underflows\n",
    "\n",
    "**Recall:** A Python module is a `.py` file which is not part of the main execution script.  The module contains several functions which may be related to each other (like in this problem).  Your module will be importable via the execution script.  For example, suppose you have called your module `reaction_coeffs.py` and your execution script `kinetics.py`.  Inside of `kinetics.py` you will write something like:\n",
    "```python\n",
    "import reaction_coeffs\n",
    "# Some code to do some things\n",
    "# :\n",
    "# :\n",
    "# :\n",
    "# Time to use a reaction rate coefficient:\n",
    "reaction_coeffs.const() # Need appropriate arguments, etc\n",
    "# Continue on...\n",
    "# :\n",
    "# :\n",
    "# :\n",
    "```\n",
    "Be sure to include your module in the same directory as your execution script."
   ]
  },
  {
   "cell_type": "code",
   "execution_count": null,
   "metadata": {
    "collapsed": true
   },
   "outputs": [],
   "source": []
  },
  {
   "cell_type": "code",
   "execution_count": 25,
   "metadata": {},
   "outputs": [],
   "source": [
    "#%%file cs207test/reaction_coeffs.py\n",
    "\n",
    "def const(k=1.0):\n",
    "    \"\"\"Returns the constant coefficient k.\n",
    "    \n",
    "    INPUTS\n",
    "    =======\n",
    "    a: float, optional, default value is 1.0\n",
    "       Constant reaction coefficient\n",
    "    \n",
    "    RETURNS\n",
    "    ========\n",
    "    Constant k\n",
    "       unless k is not an int or float \n",
    "       in which case a TypeError exception is raised\n",
    "    \n",
    "    EXAMPLES\n",
    "    =========\n",
    "    >>> const(1.0)\n",
    "    1.0\n",
    "    \"\"\"\n",
    "    if type(k) != int and type(k) != float:\n",
    "        raise TypeError(\"Input needs to be a number!\")\n",
    "    \n",
    "    else:   \n",
    "        return k\n",
    "\n",
    "\n",
    "def arr(A=10^7,T=10^2,E=10^3,R=8.314):\n",
    "    \"\"\"Returns the constant coefficient k.\n",
    "    \n",
    "    INPUTS\n",
    "    =======\n",
    "    A: float, optional, default value is 10^7\n",
    "       Arhenieus constant, needs to be positive\n",
    "    T: float, optional, default value is 10^2\n",
    "        temperature, must be positive\n",
    "    R: float, fixed value 8.314, should not change\n",
    "        \n",
    "    \n",
    "    RETURNS\n",
    "    ========\n",
    "    Constant k\n",
    "       unless any of A,T, and E are not numbers\n",
    "       in which case a TypeError exception is raised\n",
    "    \n",
    "    EXAMPLES\n",
    "    =========\n",
    "    >>> arr(10^7,10^2,10^2)\n",
    "    11.526748719357375\n",
    "    \"\"\"\n",
    "    if A < 0:\n",
    "        raise ValueError(\"The Arrhenius constant must be strictly positive\")\n",
    "        \n",
    "    elif T < 0:\n",
    "        raise ValueError(\"Temperature must be positive\")\n",
    "        \n",
    "    elif R != 8.314:\n",
    "        raise ValueError(\"Unless in a stargate, the universal gas constant is 8.314\")\n",
    "     \n",
    "    elif type(A) != int and type(A) != float:\n",
    "        raise TypeError(\"parameters need to be either type int or type float\")\n",
    "    \n",
    "    elif type(T) !=int and type(T) != int:\n",
    "        raise TypeError(\"parameters need to be either type int or type float\")\n",
    "    \n",
    "    elif type(E) != int and type(E) != float:\n",
    "        raise TypeError(\"parameters need to be either type int or type float\")\n",
    "    \n",
    "    else:\n",
    "        import numpy as np\n",
    "        k=(A)*np.exp(-E/(R*T))\n",
    "        return k\n",
    "\n",
    "def mod_arr(A=10^7,b=0.5,T=10^2,E=10^3,R=8.314):\n",
    "    \"\"\"Returns the constant coefficient k.\n",
    "    \n",
    "    INPUTS\n",
    "    =======\n",
    "    A: float, optional, default value is 10^7\n",
    "       Arhenieus constant, needs to be positive\n",
    "    T: float, optional, default value is 10^2\n",
    "        temperature, must be positive\n",
    "    R: float, fixed value 8.314, should not change\n",
    "    b: float, optional, default value is 0.5, must be a real number\n",
    "        \n",
    "    \n",
    "    RETURNS\n",
    "    ========\n",
    "    Constant k\n",
    "       unless any of A,T,b and E are not numbers\n",
    "       in which case a TypeError exception is raised\n",
    "    \n",
    "    EXAMPLES\n",
    "    =========\n",
    "    >>> mod_arr()\n",
    "    32.116059468138779\n",
    "    \"\"\"\n",
    "    if A < 0:\n",
    "        raise ValueError(\"The Arrhenius constant must be strictly positive\")\n",
    "        \n",
    "    elif T < 0:\n",
    "        raise ValueError(\"Temperature must be positive\")\n",
    "    \n",
    "    elif isinstance(b,complex):\n",
    "        raise ValueError(\"b must be a real number\")\n",
    "    elif R != 8.314:\n",
    "        raise ValueError(\"Unless in a stargate, the universal gas constant is 8.314\")\n",
    "     \n",
    "    elif type(A) != int and type(A) != float:\n",
    "        raise TypeError(\"parameters need to be either type int or type float\")\n",
    "    \n",
    "    elif type(T) !=int and type(T) != int:\n",
    "        raise TypeError(\"parameters need to be either type int or type float\")\n",
    "    \n",
    "    elif type(E) != int and type(E) != float:\n",
    "        raise TypeError(\"parameters need to be either type int or type float\")\n",
    "    \n",
    "    else:\n",
    "        import numpy as np\n",
    "        k=(A)*(T**b)*np.exp(-E/(R*T))\n",
    "        return k"
   ]
  },
  {
   "cell_type": "markdown",
   "metadata": {},
   "source": [
    "---\n",
    "\n",
    "# Problem 3\n",
    "Write a function that returns the **progress rate** for a reaction of the following form:\n",
    "\\begin{align}\n",
    "  \\nu_{A} A + \\nu_{B} B \\longrightarrow \\nu_{C} C.\n",
    "\\end{align}\n",
    "Order your concentration vector so that \n",
    "\\begin{align}\n",
    "  \\mathbf{x} = \n",
    "  \\begin{bmatrix}\n",
    "    \\left[A\\right] \\\\\n",
    "    \\left[B\\right] \\\\\n",
    "    \\left[C\\right]\n",
    "  \\end{bmatrix}\n",
    "\\end{align}\n",
    "\n",
    "Test your function with\n",
    "\\begin{align}\n",
    "  \\nu_{i}^{\\prime} = \n",
    "  \\begin{bmatrix}\n",
    "    2.0 \\\\\n",
    "    1.0 \\\\\n",
    "    0.0\n",
    "  \\end{bmatrix}\n",
    "  \\qquad \n",
    "  \\mathbf{x} = \n",
    "  \\begin{bmatrix}\n",
    "    1.0 \\\\ \n",
    "    2.0 \\\\ \n",
    "    3.0\n",
    "  \\end{bmatrix}\n",
    "  \\qquad \n",
    "  k = 10.\n",
    "\\end{align}\n",
    "\n",
    "You must document your function and write some tests in addition to the one suggested.  You choose the additional tests, but you must have at least one doctest in addition to a suite of unit tests."
   ]
  },
  {
   "cell_type": "code",
   "execution_count": 26,
   "metadata": {
    "collapsed": true
   },
   "outputs": [],
   "source": [
    "import numpy as np"
   ]
  },
  {
   "cell_type": "code",
   "execution_count": 103,
   "metadata": {},
   "outputs": [
    {
     "name": "stdout",
     "output_type": "stream",
     "text": [
      "Overwriting cs207test/single_progress_r.py\n"
     ]
    }
   ],
   "source": [
    "%%file cs207test/single_progress_r.py\n",
    "\n",
    "def progress_rate(v_i,x,k):\n",
    "    \"\"\"Returns the progress rate of a reaction\n",
    "    \n",
    "    INPUTS\n",
    "    =======\n",
    "    v_i: vector of stochiometric coefficients \n",
    "    x: vector of concentrations (first dimension needs to match v_i),second dimension is 1\n",
    "    k: float, fixed value 8.314, should not change\n",
    "        \n",
    "    RETURNS\n",
    "    ========\n",
    "    Progress rate of the reaction\n",
    "       k*[A]^v_i[a]*[B]*v_i[b]*[C]^v_i[c]\n",
    "       unless first dimension of x does not match first dimension of v_i\n",
    "       in which case a ValueError exception is raised\n",
    "    \n",
    "    EXAMPLES\n",
    "    =========\n",
    "    >>> import numpy as np\n",
    "    >>> progress_rate(np.array([2,1,0]),np.array([1,2,3]),10)\n",
    "    20\n",
    "    \"\"\"\n",
    "    #v_i=np.array([2,1,0])\n",
    "    #x=np.array([1,2,3])\n",
    "    #k=10\n",
    "    import numpy as np\n",
    "    #check that the first dimension matches\n",
    "    if x.shape[0] != v_i.shape[0]:\n",
    "        raise ValueError(\"First dimension of x and v_i need to match\")\n",
    "    \n",
    "    else:  \n",
    "        product_X_to_vi=1\n",
    "        #loop through the rows to multiply each x by its stochiometric coeffs\n",
    "        for i,j in zip(v_i,x):\n",
    "            product_X_to_vi=product_X_to_vi*(j**i)\n",
    "    \n",
    "        progress_rate=k*product_X_to_vi\n",
    "        \n",
    "        return progress_rate"
   ]
  },
  {
   "cell_type": "code",
   "execution_count": 104,
   "metadata": {},
   "outputs": [
    {
     "data": {
      "text/plain": [
       "array([80, 10])"
      ]
     },
     "execution_count": 104,
     "metadata": {},
     "output_type": "execute_result"
    }
   ],
   "source": [
    "progress_rate(np.array([2,1,0]),np.array([[2,1],[2,1],[2,1]]),10)"
   ]
  },
  {
   "cell_type": "code",
   "execution_count": 105,
   "metadata": {},
   "outputs": [
    {
     "data": {
      "text/plain": [
       "20"
      ]
     },
     "execution_count": 105,
     "metadata": {},
     "output_type": "execute_result"
    }
   ],
   "source": [
    "progress_rate(np.array([2,1,0]),np.array([1,2,3]),10)"
   ]
  },
  {
   "cell_type": "code",
   "execution_count": 119,
   "metadata": {},
   "outputs": [
    {
     "ename": "ValueError",
     "evalue": "First dimension of x and v_i need to match",
     "output_type": "error",
     "traceback": [
      "\u001b[0;31m---------------------------------------------------------------------------\u001b[0m",
      "\u001b[0;31mValueError\u001b[0m                                Traceback (most recent call last)",
      "\u001b[0;32m<ipython-input-119-811aeeee8624>\u001b[0m in \u001b[0;36m<module>\u001b[0;34m()\u001b[0m\n\u001b[0;32m----> 1\u001b[0;31m \u001b[0mprogress_rate\u001b[0m\u001b[0;34m(\u001b[0m\u001b[0mnp\u001b[0m\u001b[0;34m.\u001b[0m\u001b[0marray\u001b[0m\u001b[0;34m(\u001b[0m\u001b[0;34m[\u001b[0m\u001b[0;36m2\u001b[0m\u001b[0;34m,\u001b[0m\u001b[0;36m1\u001b[0m\u001b[0;34m]\u001b[0m\u001b[0;34m)\u001b[0m\u001b[0;34m,\u001b[0m\u001b[0mnp\u001b[0m\u001b[0;34m.\u001b[0m\u001b[0marray\u001b[0m\u001b[0;34m(\u001b[0m\u001b[0;34m[\u001b[0m\u001b[0;34m[\u001b[0m\u001b[0;36m2\u001b[0m\u001b[0;34m,\u001b[0m\u001b[0;36m1\u001b[0m\u001b[0;34m]\u001b[0m\u001b[0;34m,\u001b[0m\u001b[0;34m[\u001b[0m\u001b[0;36m2\u001b[0m\u001b[0;34m,\u001b[0m\u001b[0;36m1\u001b[0m\u001b[0;34m]\u001b[0m\u001b[0;34m,\u001b[0m\u001b[0;34m[\u001b[0m\u001b[0;36m2\u001b[0m\u001b[0;34m,\u001b[0m\u001b[0;36m1\u001b[0m\u001b[0;34m]\u001b[0m\u001b[0;34m]\u001b[0m\u001b[0;34m)\u001b[0m\u001b[0;34m,\u001b[0m\u001b[0;36m10\u001b[0m\u001b[0;34m)\u001b[0m\u001b[0;34m\u001b[0m\u001b[0m\n\u001b[0m",
      "\u001b[0;32m<ipython-input-102-b1aacb6370ae>\u001b[0m in \u001b[0;36mprogress_rate\u001b[0;34m(v_i, x, k)\u001b[0m\n\u001b[1;32m     29\u001b[0m     \u001b[0;31m#check that the first dimension matches\u001b[0m\u001b[0;34m\u001b[0m\u001b[0;34m\u001b[0m\u001b[0m\n\u001b[1;32m     30\u001b[0m     \u001b[0;32mif\u001b[0m \u001b[0mx\u001b[0m\u001b[0;34m.\u001b[0m\u001b[0mshape\u001b[0m\u001b[0;34m[\u001b[0m\u001b[0;36m0\u001b[0m\u001b[0;34m]\u001b[0m \u001b[0;34m!=\u001b[0m \u001b[0mv_i\u001b[0m\u001b[0;34m.\u001b[0m\u001b[0mshape\u001b[0m\u001b[0;34m[\u001b[0m\u001b[0;36m0\u001b[0m\u001b[0;34m]\u001b[0m\u001b[0;34m:\u001b[0m\u001b[0;34m\u001b[0m\u001b[0m\n\u001b[0;32m---> 31\u001b[0;31m         \u001b[0;32mraise\u001b[0m \u001b[0mValueError\u001b[0m\u001b[0;34m(\u001b[0m\u001b[0;34m\"First dimension of x and v_i need to match\"\u001b[0m\u001b[0;34m)\u001b[0m\u001b[0;34m\u001b[0m\u001b[0m\n\u001b[0m\u001b[1;32m     32\u001b[0m \u001b[0;34m\u001b[0m\u001b[0m\n\u001b[1;32m     33\u001b[0m     \u001b[0;32melse\u001b[0m\u001b[0;34m:\u001b[0m\u001b[0;34m\u001b[0m\u001b[0m\n",
      "\u001b[0;31mValueError\u001b[0m: First dimension of x and v_i need to match"
     ]
    }
   ],
   "source": [
    "progress_rate(np.array([2,1]),np.array([[2,1],[2,1],[2,1]]),10)"
   ]
  },
  {
   "cell_type": "code",
   "execution_count": null,
   "metadata": {},
   "outputs": [],
   "source": [
    "#linear algebra test\n",
    "a=(np.array([1,2,3]).reshape(len(np.array([1,2,3])),1))**np.array([[2,1],[2,1],[2,1]])\n",
    "print(a)\n",
    "10*np.prod(a,axis=0)"
   ]
  },
  {
   "cell_type": "code",
   "execution_count": 107,
   "metadata": {},
   "outputs": [
    {
     "name": "stdout",
     "output_type": "stream",
     "text": [
      "Python Library Documentation: function progress_rate in module __main__\n",
      "\n",
      "progress_rate(v_i, x, k)\n",
      "    Returns the progress rate of a reaction\n",
      "    \n",
      "    INPUTS\n",
      "    =======\n",
      "    v_i: vector of stochiometric coefficients \n",
      "    x: vector of concentrations (first dimension needs to match v_i),second dimension is 1\n",
      "    k: float, fixed value 8.314, should not change\n",
      "        \n",
      "    RETURNS\n",
      "    ========\n",
      "    Progress rate of the reaction\n",
      "       k*[A]^v_i[a]*[B]*v_i[b]*[C]^v_i[c]\n",
      "       unless first dimension of x does not match first dimension of v_i\n",
      "       in which case a ValueError exception is raised\n",
      "    \n",
      "    EXAMPLES\n",
      "    =========\n",
      "    >>> import numpy as np\n",
      "    >>> progress_rate(np.array([2,1,0]),np.array([1,2,3]),10)\n",
      "    20\n"
     ]
    }
   ],
   "source": [
    "import pydoc\n",
    "pydoc.doc(progress_rate)"
   ]
  },
  {
   "cell_type": "code",
   "execution_count": 108,
   "metadata": {},
   "outputs": [
    {
     "name": "stdout",
     "output_type": "stream",
     "text": [
      "Trying:\n",
      "    arr(10^7,10^2,10^2)\n",
      "Expecting:\n",
      "    11.526748719357375\n",
      "ok\n",
      "Trying:\n",
      "    const(1.0)\n",
      "Expecting:\n",
      "    1.0\n",
      "ok\n",
      "Trying:\n",
      "    mod_arr()\n",
      "Expecting:\n",
      "    32.116059468138779\n",
      "ok\n",
      "Trying:\n",
      "    import numpy as np\n",
      "Expecting nothing\n",
      "ok\n",
      "Trying:\n",
      "    progress_rate(np.array([2,1,0]),np.array([1,2,3]),10)\n",
      "Expecting:\n",
      "    20\n",
      "ok\n",
      "Trying:\n",
      "    import numpy as np\n",
      "Expecting nothing\n",
      "ok\n",
      "Trying:\n",
      "    progress_rate_multi(np.array([[1.0,2.0],[2.0,0.0],[0.0,2.0]]),np.array([[0.0,0.0],[0.0,1.0],[2.0,1.0]]),np.array([1.0,2.0,1.0]),10)[0]\n",
      "Expecting:\n",
      "    2.5\n",
      "ok\n",
      "Trying:\n",
      "    progress_rate_multi(np.array([[1.0,2.0],[2.0,0.0],[0.0,2.0]]),np.array([[0.0,0.0],[0.0,1.0],[2.0,1.0]]),np.array([1.0,2.0,1.0]),10)[1]\n",
      "Expecting:\n",
      "    20.0\n",
      "ok\n",
      "1 items had no tests:\n",
      "    __main__\n",
      "5 items passed all tests:\n",
      "   1 tests in __main__.arr\n",
      "   1 tests in __main__.const\n",
      "   1 tests in __main__.mod_arr\n",
      "   2 tests in __main__.progress_rate\n",
      "   3 tests in __main__.progress_rate_multi\n",
      "8 tests in 6 items.\n",
      "8 passed and 0 failed.\n",
      "Test passed.\n"
     ]
    },
    {
     "data": {
      "text/plain": [
       "TestResults(failed=0, attempted=8)"
      ]
     },
     "execution_count": 108,
     "metadata": {},
     "output_type": "execute_result"
    }
   ],
   "source": [
    "import doctest\n",
    "doctest.testmod(verbose=True)"
   ]
  },
  {
   "cell_type": "code",
   "execution_count": 38,
   "metadata": {},
   "outputs": [
    {
     "name": "stdout",
     "output_type": "stream",
     "text": [
      "Overwriting cs207test/test_single_progress_r.py\n"
     ]
    }
   ],
   "source": [
    "%%file cs207test/test_single_progress_r.py\n",
    "\n",
    "import single_progress_r\n",
    "import numpy as np\n",
    "#import doctest\n",
    "\n",
    "#!pytest --doctest-modules\n",
    "\n",
    "def progress_rate_result():\n",
    "    assert single_progress_r.progress_rate(np.array([2,1,0]),np.array([1,2,3]),10) == 20\n",
    "\n",
    "def test_progress_rate_shapes():\n",
    "    try:\n",
    "        single_progress_r.progress_rate(np.array([2,1]),np.array([[2,1],[2,1],[2,1]]),10)\n",
    "    except ValueError as err:\n",
    "        assert(type(err) == ValueError)\n",
    "        \n",
    "#def test_arr_result():\n",
    "#       assert reaction_coeffs.arr(A=10^7,E=10^3,T=10^2) == XX"
   ]
  },
  {
   "cell_type": "code",
   "execution_count": 39,
   "metadata": {},
   "outputs": [
    {
     "name": "stdout",
     "output_type": "stream",
     "text": [
      "\u001b[1m============================= test session starts ==============================\u001b[0m\n",
      "platform darwin -- Python 3.6.1, pytest-3.0.7, py-1.4.33, pluggy-0.4.0\n",
      "rootdir: /Users/filipmichalsky/cs207_filip_michalsky/homeworks/HW5, inifile:\n",
      "collected 9 items \u001b[0m\u001b[1m\n",
      "\u001b[0m\n",
      "cs207test/test_reaction_coeffs.py ..\n",
      "cs207test/test_roots.py ......\n",
      "cs207test/test_single_progress_r.py .\n",
      "\n",
      "\u001b[32m\u001b[1m=========================== 9 passed in 0.20 seconds ===========================\u001b[0m\n"
     ]
    }
   ],
   "source": [
    "!pytest"
   ]
  },
  {
   "cell_type": "markdown",
   "metadata": {},
   "source": [
    "---\n",
    "# Problem 4\n",
    "Write a function that returns the **progress rate** for a system of reactions of the following form:\n",
    "\\begin{align}\n",
    "  \\nu_{11}^{\\prime} A + \\nu_{21}^{\\prime} B \\longrightarrow \\nu_{31}^{\\prime\\prime} C \\\\\n",
    "  \\nu_{12}^{\\prime} A + \\nu_{32}^{\\prime} C \\longrightarrow \\nu_{22}^{\\prime\\prime} B + \\nu_{32}^{\\prime\\prime} C\n",
    "\\end{align}\n",
    "Note that $\\nu_{ij}^{\\prime}$ represents the stoichiometric coefficient of reactant $i$ in reaction $j$ and $\\nu_{ij}^{\\prime\\prime}$ represents the stoichiometric coefficient of product $i$ in reaction $j$.  Therefore, in this convention, I have ordered my vector of concentrations as \n",
    "\\begin{align}\n",
    "  \\mathbf{x} = \n",
    "  \\begin{bmatrix}\n",
    "    \\left[A\\right] \\\\\n",
    "    \\left[B\\right] \\\\\n",
    "    \\left[C\\right]\n",
    "  \\end{bmatrix}.\n",
    "\\end{align}\n",
    "\n",
    "Test your function with \n",
    "\\begin{align}\n",
    "  \\nu_{ij}^{\\prime} = \n",
    "  \\begin{bmatrix}\n",
    "    1.0 & 2.0 \\\\\n",
    "    2.0 & 0.0 \\\\\n",
    "    0.0 & 2.0\n",
    "  \\end{bmatrix}\n",
    "  \\qquad\n",
    "  \\nu_{ij}^{\\prime\\prime} = \n",
    "  \\begin{bmatrix}\n",
    "    0.0 & 0.0 \\\\\n",
    "    0.0 & 1.0 \\\\\n",
    "    2.0 & 1.0\n",
    "  \\end{bmatrix}\n",
    "  \\qquad\n",
    "  \\mathbf{x} = \n",
    "  \\begin{bmatrix}\n",
    "    1.0 \\\\\n",
    "    2.0 \\\\\n",
    "    1.0\n",
    "  \\end{bmatrix}\n",
    "  \\qquad\n",
    "  k_{j} = 10, \\quad j=1,2.\n",
    "\\end{align}\n",
    "\n",
    "You must document your function and write some tests in addition to the one suggested.  You choose the additional tests, but you must have at least one doctest in addition to a suite of unit tests."
   ]
  },
  {
   "cell_type": "markdown",
   "metadata": {},
   "source": [
    "Please note I have already generalized the progress rate formula, I only need to subtract now the v_ij product from v_ij reactants to get the correct v_ij's"
   ]
  },
  {
   "cell_type": "code",
   "execution_count": 116,
   "metadata": {},
   "outputs": [
    {
     "name": "stdout",
     "output_type": "stream",
     "text": [
      "Overwriting cs207test/multi_progress_r.py\n"
     ]
    }
   ],
   "source": [
    "%%file cs207test/multi_progress_r.py\n",
    "\n",
    "def progress_rate_multi(v_ij_reac,v_ij_proc,x,k):\n",
    "    \"\"\"Returns the progress rate of a set of reactions\n",
    "    \n",
    "    INPUTS\n",
    "    =======\n",
    "    v_ij_reac: vector of stochiometric coefficients of reactants\n",
    "    v_ij_proc: vector of stochiometric coefficients of products\n",
    "    x: vector of concentrations (first dimension needs to match v_i),second dimension is 1\n",
    "    k: float\n",
    "        \n",
    "    RETURNS\n",
    "    ========\n",
    "    Progress rates of the reactions (a string based on number of reactions)\n",
    "       according to the formula k*[A]^v_i[a]*[B]*v_i[b]*[C]^v_i[c]\n",
    "       unless v_ij = v_ij_proc-v_ij_reac has the first dimension not matching\n",
    "       the first dimension of x which returns a ValueError\n",
    "       unless shape of v_ij_proc does not match the shape of x, which will return ValueError as well\n",
    "       \n",
    "    \n",
    "    EXAMPLES\n",
    "    =========\n",
    "    >>> import numpy as np\n",
    "    >>> progress_rate_multi(np.array([[1.0,2.0],[2.0,0.0],[0.0,2.0]]),np.array([[0.0,0.0],[0.0,1.0],[2.0,1.0]]),np.array([1.0,2.0,1.0]),10)[0]\n",
    "    2.5\n",
    "    >>> progress_rate_multi(np.array([[1.0,2.0],[2.0,0.0],[0.0,2.0]]),np.array([[0.0,0.0],[0.0,1.0],[2.0,1.0]]),np.array([1.0,2.0,1.0]),10)[1]\n",
    "    20.0\n",
    "\n",
    "    \"\"\"\n",
    "    import numpy as np\n",
    "    #calculate the effective stochiometric coefficients on the reactants side\n",
    "    \n",
    "    \n",
    "    #check length of product coeffs and reac coeffs is the same\n",
    "    if v_ij_proc.shape != v_ij_reac.shape:\n",
    "        raise ValueError(\"Dimensions of stochiometric coeffs need to match\")\n",
    "    \n",
    "    #check that the first dimension matches\n",
    "    elif x.shape[0] != v_ij_proc.shape[0]:\n",
    "        raise ValueError(\"First dimension of x and v_i need to match\")\n",
    "    \n",
    "    else:\n",
    "        v_ij = v_ij_proc-v_ij_reac\n",
    "        product_X_to_vij = 1\n",
    "        \n",
    "        #loop through the rows to multiply each x by its stochiometric coeffs\n",
    "        for i,j in zip(v_ij,x):\n",
    "            #print(\"i,j\")\n",
    "            #print(i,j)\n",
    "            #print(\"j**i\")\n",
    "            #print(j**i)\n",
    "            product_X_to_vij=product_X_to_vij*(j**i)\n",
    "            #print(\"product\")\n",
    "            #print(product_X_to_vij)\n",
    "        progress_rate_multi=k*product_X_to_vij\n",
    "        \n",
    "        return progress_rate_multi"
   ]
  },
  {
   "cell_type": "code",
   "execution_count": 96,
   "metadata": {},
   "outputs": [
    {
     "data": {
      "text/plain": [
       "array([  2.5,  20. ])"
      ]
     },
     "execution_count": 96,
     "metadata": {},
     "output_type": "execute_result"
    }
   ],
   "source": [
    "progress_rate_multi(np.array([[1.0,2.0],[2.0,0.0],[0.0,2.0]]),np.array([[0.0,0.0],[0.0,1.0],[2.0,1.0]]),np.array([1.0,2.0,1.0]),10)"
   ]
  },
  {
   "cell_type": "code",
   "execution_count": 61,
   "metadata": {},
   "outputs": [
    {
     "data": {
      "text/plain": [
       "array([ 0.25,  2.  ])"
      ]
     },
     "execution_count": 61,
     "metadata": {},
     "output_type": "execute_result"
    }
   ],
   "source": [
    "a=np.array([0.25,2.0])\n",
    "b=np.array([1.,1.])\n",
    "a*b"
   ]
  },
  {
   "cell_type": "code",
   "execution_count": 97,
   "metadata": {},
   "outputs": [],
   "source": [
    "v_ij_reac = np.array([[1.0,2.0],[2.0,0.0],[0.0,2.0]])\n",
    "v_ij_proc = np.array([[0.0,0.0],[0.0,1.0],[2.0,1.0]])\n",
    "x = np.array([1.0,2.0,1.0])\n",
    "k = 10\n",
    "assert progress_rate_multi(v_ij_reac , v_ij_proc, x , k )[0] == 2.5\n",
    "assert progress_rate_multi(v_ij_reac , v_ij_proc, x , k )[1] == 20"
   ]
  },
  {
   "cell_type": "code",
   "execution_count": 98,
   "metadata": {},
   "outputs": [
    {
     "name": "stdout",
     "output_type": "stream",
     "text": [
      "\u001b[1m============================= test session starts ==============================\u001b[0m\n",
      "platform darwin -- Python 3.6.1, pytest-3.0.7, py-1.4.33, pluggy-0.4.0\n",
      "rootdir: /Users/filipmichalsky/cs207_filip_michalsky/homeworks/HW5, inifile:\n",
      "collected 18 items \u001b[0m\u001b[1m[1m\n",
      "\u001b[0m\n",
      "cs207test/multi_progress_r.py .\n",
      "cs207test/reaction_coeffs.py ...\n",
      "cs207test/roots.py ..\n",
      "cs207test/single_progress_r.py .\n",
      "cs207test/test_multi_progress_r.py ..\n",
      "cs207test/test_reaction_coeffs.py ..\n",
      "cs207test/test_roots.py ......\n",
      "cs207test/test_single_progress_r.py .\n",
      "\n",
      "\u001b[32m\u001b[1m========================== 18 passed in 0.22 seconds ===========================\u001b[0m\n"
     ]
    }
   ],
   "source": [
    "!pytest --doctest-modules"
   ]
  },
  {
   "cell_type": "code",
   "execution_count": 109,
   "metadata": {},
   "outputs": [
    {
     "name": "stdout",
     "output_type": "stream",
     "text": [
      "Trying:\n",
      "    arr(10^7,10^2,10^2)\n",
      "Expecting:\n",
      "    11.526748719357375\n",
      "ok\n",
      "Trying:\n",
      "    const(1.0)\n",
      "Expecting:\n",
      "    1.0\n",
      "ok\n",
      "Trying:\n",
      "    mod_arr()\n",
      "Expecting:\n",
      "    32.116059468138779\n",
      "ok\n",
      "Trying:\n",
      "    import numpy as np\n",
      "Expecting nothing\n",
      "ok\n",
      "Trying:\n",
      "    progress_rate(np.array([2,1,0]),np.array([1,2,3]),10)\n",
      "Expecting:\n",
      "    20\n",
      "ok\n",
      "Trying:\n",
      "    import numpy as np\n",
      "Expecting nothing\n",
      "ok\n",
      "Trying:\n",
      "    progress_rate_multi(np.array([[1.0,2.0],[2.0,0.0],[0.0,2.0]]),np.array([[0.0,0.0],[0.0,1.0],[2.0,1.0]]),np.array([1.0,2.0,1.0]),10)[0]\n",
      "Expecting:\n",
      "    2.5\n",
      "ok\n",
      "Trying:\n",
      "    progress_rate_multi(np.array([[1.0,2.0],[2.0,0.0],[0.0,2.0]]),np.array([[0.0,0.0],[0.0,1.0],[2.0,1.0]]),np.array([1.0,2.0,1.0]),10)[1]\n",
      "Expecting:\n",
      "    20.0\n",
      "ok\n",
      "1 items had no tests:\n",
      "    __main__\n",
      "5 items passed all tests:\n",
      "   1 tests in __main__.arr\n",
      "   1 tests in __main__.const\n",
      "   1 tests in __main__.mod_arr\n",
      "   2 tests in __main__.progress_rate\n",
      "   3 tests in __main__.progress_rate_multi\n",
      "8 tests in 6 items.\n",
      "8 passed and 0 failed.\n",
      "Test passed.\n"
     ]
    },
    {
     "data": {
      "text/plain": [
       "TestResults(failed=0, attempted=8)"
      ]
     },
     "execution_count": 109,
     "metadata": {},
     "output_type": "execute_result"
    }
   ],
   "source": [
    "import doctest\n",
    "doctest.testmod(verbose=True)"
   ]
  },
  {
   "cell_type": "code",
   "execution_count": 99,
   "metadata": {},
   "outputs": [
    {
     "ename": "ValueError",
     "evalue": "Dimensions of stochiometric coeffs need to match",
     "output_type": "error",
     "traceback": [
      "\u001b[0;31m---------------------------------------------------------------------------\u001b[0m",
      "\u001b[0;31mValueError\u001b[0m                                Traceback (most recent call last)",
      "\u001b[0;32m<ipython-input-99-0db3df74520f>\u001b[0m in \u001b[0;36m<module>\u001b[0;34m()\u001b[0m\n\u001b[0;32m----> 1\u001b[0;31m \u001b[0mprogress_rate_multi\u001b[0m\u001b[0;34m(\u001b[0m\u001b[0mnp\u001b[0m\u001b[0;34m.\u001b[0m\u001b[0marray\u001b[0m\u001b[0;34m(\u001b[0m\u001b[0;34m[\u001b[0m\u001b[0;36m2\u001b[0m\u001b[0;34m,\u001b[0m\u001b[0;36m1\u001b[0m\u001b[0;34m,\u001b[0m\u001b[0;36m1\u001b[0m\u001b[0;34m]\u001b[0m\u001b[0;34m)\u001b[0m\u001b[0;34m,\u001b[0m\u001b[0mnp\u001b[0m\u001b[0;34m.\u001b[0m\u001b[0marray\u001b[0m\u001b[0;34m(\u001b[0m\u001b[0;34m[\u001b[0m\u001b[0;36m2\u001b[0m\u001b[0;34m,\u001b[0m\u001b[0;36m1\u001b[0m\u001b[0;34m]\u001b[0m\u001b[0;34m)\u001b[0m\u001b[0;34m,\u001b[0m\u001b[0mnp\u001b[0m\u001b[0;34m.\u001b[0m\u001b[0marray\u001b[0m\u001b[0;34m(\u001b[0m\u001b[0;34m[\u001b[0m\u001b[0;34m[\u001b[0m\u001b[0;36m2\u001b[0m\u001b[0;34m,\u001b[0m\u001b[0;36m1\u001b[0m\u001b[0;34m]\u001b[0m\u001b[0;34m,\u001b[0m\u001b[0;34m[\u001b[0m\u001b[0;36m2\u001b[0m\u001b[0;34m,\u001b[0m\u001b[0;36m1\u001b[0m\u001b[0;34m]\u001b[0m\u001b[0;34m,\u001b[0m\u001b[0;34m[\u001b[0m\u001b[0;36m2\u001b[0m\u001b[0;34m,\u001b[0m\u001b[0;36m1\u001b[0m\u001b[0;34m]\u001b[0m\u001b[0;34m]\u001b[0m\u001b[0;34m)\u001b[0m\u001b[0;34m,\u001b[0m\u001b[0;36m10\u001b[0m\u001b[0;34m)\u001b[0m\u001b[0;34m\u001b[0m\u001b[0m\n\u001b[0m",
      "\u001b[0;32m<ipython-input-95-1f1fd328366d>\u001b[0m in \u001b[0;36mprogress_rate_multi\u001b[0;34m(v_ij_reac, v_ij_proc, x, k)\u001b[0m\n\u001b[1;32m     33\u001b[0m     \u001b[0;31m#check length of product coeffs and reac coeffs is the same\u001b[0m\u001b[0;34m\u001b[0m\u001b[0;34m\u001b[0m\u001b[0m\n\u001b[1;32m     34\u001b[0m     \u001b[0;32mif\u001b[0m \u001b[0mv_ij_proc\u001b[0m\u001b[0;34m.\u001b[0m\u001b[0mshape\u001b[0m \u001b[0;34m!=\u001b[0m \u001b[0mv_ij_reac\u001b[0m\u001b[0;34m.\u001b[0m\u001b[0mshape\u001b[0m\u001b[0;34m:\u001b[0m\u001b[0;34m\u001b[0m\u001b[0m\n\u001b[0;32m---> 35\u001b[0;31m         \u001b[0;32mraise\u001b[0m \u001b[0mValueError\u001b[0m\u001b[0;34m(\u001b[0m\u001b[0;34m\"Dimensions of stochiometric coeffs need to match\"\u001b[0m\u001b[0;34m)\u001b[0m\u001b[0;34m\u001b[0m\u001b[0m\n\u001b[0m\u001b[1;32m     36\u001b[0m \u001b[0;34m\u001b[0m\u001b[0m\n\u001b[1;32m     37\u001b[0m     \u001b[0;31m#check that the first dimension matches\u001b[0m\u001b[0;34m\u001b[0m\u001b[0;34m\u001b[0m\u001b[0m\n",
      "\u001b[0;31mValueError\u001b[0m: Dimensions of stochiometric coeffs need to match"
     ]
    }
   ],
   "source": [
    "progress_rate_multi(np.array([2,1,1]),np.array([2,1]),np.array([[2,1],[2,1],[2,1]]),10)"
   ]
  },
  {
   "cell_type": "code",
   "execution_count": 117,
   "metadata": {},
   "outputs": [
    {
     "name": "stdout",
     "output_type": "stream",
     "text": [
      "Overwriting cs207test/test_multi_progress_r.py\n"
     ]
    }
   ],
   "source": [
    "%%file cs207test/test_multi_progress_r.py\n",
    "\n",
    "import multi_progress_r\n",
    "import numpy as np\n",
    "import doctest\n",
    "doctest.testmod(verbose=True)\n",
    "\n",
    "\n",
    "def progress_rate_result():\n",
    "    #test the result og the function\n",
    "    v_ij_reac = np.array([[1.0,2.0],[2.0,0.0],[0.0,2.0]])\n",
    "    v_ij_proc = np.array([[0.0,0.0],[0.0,1.0],[2.0,1.0]])\n",
    "    x = np.array([1.0,2.0,1.0])\n",
    "    k = 10\n",
    "    assert multi_progress_r.progress_rate_multi(v_ij_reac , v_ij_proc, x , k )[0] == 2.5\n",
    "    assert progress_rate_multi(v_ij_reac , v_ij_proc, x , k )[1] == 20\n",
    "    \n",
    "def test_progress_rate_shapes_with_x():\n",
    "    #test whether shape of coeffs v_i matches shape of concentrations x\n",
    "    try:\n",
    "        multi_progress_r.progress_rate_multi(np.array([2,1]),np.array([2,1]),np.array([[2,1],[2,1],[2,1]]),10)\n",
    "    except ValueError as err:\n",
    "        assert(type(err) == ValueError)\n",
    "        \n",
    "def test_progress_rate_shapes_coeffs():\n",
    "    #test whether the shape of v_ij's matches\n",
    "    try:\n",
    "        multi_progress_r.progress_rate_multi(np.array([2,1,1]),np.array([2,1]),np.array([[2,1],[2,1],[2,1]]),10)\n",
    "    except ValueError as err:\n",
    "        assert(type(err) == ValueError)"
   ]
  },
  {
   "cell_type": "code",
   "execution_count": 118,
   "metadata": {},
   "outputs": [
    {
     "name": "stdout",
     "output_type": "stream",
     "text": [
      "\u001b[1m============================= test session starts ==============================\u001b[0m\n",
      "platform darwin -- Python 3.6.1, pytest-3.0.7, py-1.4.33, pluggy-0.4.0\n",
      "rootdir: /Users/filipmichalsky/cs207_filip_michalsky/homeworks/HW5, inifile:\n",
      "collected 11 items \u001b[0m\u001b[1m\n",
      "\u001b[0m\n",
      "cs207test/test_multi_progress_r.py ..\n",
      "cs207test/test_reaction_coeffs.py ..\n",
      "cs207test/test_roots.py ......\n",
      "cs207test/test_single_progress_r.py .\n",
      "\n",
      "\u001b[32m\u001b[1m========================== 11 passed in 0.23 seconds ===========================\u001b[0m\n"
     ]
    }
   ],
   "source": [
    "!pytest"
   ]
  },
  {
   "cell_type": "markdown",
   "metadata": {},
   "source": [
    "---\n",
    "# Problem 5\n",
    "Write a function that returns the **reaction rate** of a system of irreversible reactions of the form:\n",
    "\\begin{align}\n",
    "  \\nu_{11}^{\\prime} A + \\nu_{21}^{\\prime} B &\\longrightarrow \\nu_{31}^{\\prime\\prime} C \\\\\n",
    "  \\nu_{32}^{\\prime} C &\\longrightarrow \\nu_{12}^{\\prime\\prime} A + \\nu_{22}^{\\prime\\prime} B\n",
    "\\end{align}\n",
    "\n",
    "Once again $\\nu_{ij}^{\\prime}$ represents the stoichiometric coefficient of reactant $i$ in reaction $j$ and $\\nu_{ij}^{\\prime\\prime}$ represents the stoichiometric coefficient of product $i$ in reaction $j$.  In this convention, I have ordered my vector of concentrations as  \n",
    "\\begin{align}\n",
    "  \\mathbf{x} = \n",
    "  \\begin{bmatrix}\n",
    "    \\left[A\\right] \\\\\n",
    "    \\left[B\\right] \\\\\n",
    "    \\left[C\\right]\n",
    "  \\end{bmatrix}\n",
    "\\end{align}\n",
    "\n",
    "Test your function with \n",
    "\\begin{align}\n",
    "  \\nu_{ij}^{\\prime} = \n",
    "  \\begin{bmatrix}\n",
    "    1.0 & 0.0 \\\\\n",
    "    2.0 & 0.0 \\\\\n",
    "    0.0 & 2.0\n",
    "  \\end{bmatrix}\n",
    "  \\qquad\n",
    "  \\nu_{ij}^{\\prime\\prime} = \n",
    "  \\begin{bmatrix}\n",
    "    0.0 & 1.0 \\\\\n",
    "    0.0 & 2.0 \\\\\n",
    "    1.0 & 0.0\n",
    "  \\end{bmatrix}\n",
    "  \\qquad\n",
    "  \\mathbf{x} = \n",
    "  \\begin{bmatrix}\n",
    "    1.0 \\\\\n",
    "    2.0 \\\\\n",
    "    1.0\n",
    "  \\end{bmatrix}\n",
    "  \\qquad\n",
    "  k_{j} = 10, \\quad j = 1,2.\n",
    "\\end{align}\n",
    "\n",
    "You must document your function and write some tests in addition to the one suggested.  You choose the additional tests, but you must have at least one doctest in addition to a suite of unit tests."
   ]
  },
  {
   "cell_type": "code",
   "execution_count": null,
   "metadata": {
    "collapsed": true
   },
   "outputs": [],
   "source": []
  },
  {
   "cell_type": "markdown",
   "metadata": {},
   "source": [
    "---\n",
    "# Problem 6\n",
    "Put parts 3, 4, and 5 in a module called `chemkin`.\n",
    "\n",
    "Next, pretend you're a client who needs to compute the reaction rates at three different temperatures ($T = \\left\\{750, 1500, 2500\\right\\}$) of the following system of irreversible reactions:\n",
    "\\begin{align}\n",
    "  2H_{2} + O_{2} \\longrightarrow 2OH + H_{2} \\\\\n",
    "  OH + HO_{2} \\longrightarrow H_{2}O + O_{2} \\\\\n",
    "  H_{2}O + O_{2} \\longrightarrow HO_{2} + OH\n",
    "\\end{align}\n",
    "\n",
    "The client also happens to know that reaction 1 is a modified Arrhenius reaction with $A_{1} = 10^{8}$, $b_{1} = 0.5$, $E_{1} = 5\\times 10^{4}$, reaction 2 has a constant reaction rate parameter $k = 10^{4}$, and reaction 3 is an Arrhenius reaction with $A_{3} = 10^{7}$ and $E_{3} = 10^{4}$.\n",
    "\n",
    "You should write a script that imports your `chemkin` module and returns the reaction rates of the species at each temperature of interest given the following species concentrations:\n",
    "\n",
    "\\begin{align}\n",
    "  \\mathbf{x} = \n",
    "  \\begin{bmatrix}\n",
    "    H_{2}  \\\\\n",
    "    O_{2}  \\\\\n",
    "    OH     \\\\\n",
    "    HO_{2} \\\\\n",
    "    H_{2}O\n",
    "  \\end{bmatrix} = \n",
    "  \\begin{bmatrix}\n",
    "    2.0 \\\\\n",
    "    1.0 \\\\\n",
    "    0.5 \\\\\n",
    "    1.0 \\\\\n",
    "    1.0\n",
    "  \\end{bmatrix}\n",
    "\\end{align}\n",
    "\n",
    "You may assume that these are elementary reactions."
   ]
  },
  {
   "cell_type": "markdown",
   "metadata": {},
   "source": [
    "---\n",
    "# Problem 7\n",
    "Get together with your project team, form a GitHub organization (with a descriptive team name), and give the teaching staff access.  You can have has many repositories as you like within your organization.  However, we will grade the repository called **`cs207-FinalProject`**.\n",
    "\n",
    "Within the `cs207-FinalProject` repo, you must set up Travis CI and Coveralls.  Make sure your `README.md` file includes badges indicating how many tests are passing and the coverage of your code."
   ]
  }
 ],
 "metadata": {
  "kernelspec": {
   "display_name": "Python 3",
   "language": "python",
   "name": "python3"
  },
  "language_info": {
   "codemirror_mode": {
    "name": "ipython",
    "version": 3
   },
   "file_extension": ".py",
   "mimetype": "text/x-python",
   "name": "python",
   "nbconvert_exporter": "python",
   "pygments_lexer": "ipython3",
   "version": "3.6.1"
  }
 },
 "nbformat": 4,
 "nbformat_minor": 2
}
