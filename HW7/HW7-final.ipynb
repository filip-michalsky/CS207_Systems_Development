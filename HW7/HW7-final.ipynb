{
 "cells": [
  {
   "cell_type": "markdown",
   "metadata": {},
   "source": [
    "# Homework 7\n",
    "## Due Date:  Wednesday, October 25th at 11:59 PM"
   ]
  },
  {
   "cell_type": "markdown",
   "metadata": {},
   "source": [
    "# Problem 1:  Linked List Class\n",
    "Write a linked list class called `LinkedList`.  Remember, a singly linked list is made up of nodes each of which contain a value and a pointer.  The first node is called the \"head node\".\n",
    "\n",
    "Here are the required methods:\n",
    "* `__init__(self, head)` where `head` is the value of the head node.  You could make the head node an attribute.\n",
    "* `__len__(self)`: Returns the number of elements in the linked list.\n",
    "* `__getitem__(self, index)` returns the value of the node corresponding to `index`.  Include checks to make sure that `index` is not out of range and that the user is not trying to index and empty list.\n",
    "* `__repr__(self)` returns `LinkedList(head_node)`.\n",
    "* `insert_front(self, element)` inserts a new node with value `element` at the beginning of the list.\n",
    "* `insert_back(self, element)` inserts a new node with value `element` at the end of the list."
   ]
  },
  {
   "cell_type": "code",
   "execution_count": 30,
   "metadata": {
    "collapsed": true
   },
   "outputs": [],
   "source": [
    "class Node():\n",
    "    \n",
    "    def __init__(self,value,next_pointer):\n",
    "        self.value = value\n",
    "        self.next = next_pointer\n",
    "        \n",
    "class LinkedList():\n",
    "    \n",
    "    def __init__(self, head):\n",
    "        self.next = None #pointer to the next node\n",
    "        self.head_node = Node(head,self.next) # head node and pointer\n",
    "        self.nodes = [self.head_node]\n",
    "        \n",
    "    def __len__(self):\n",
    "        return len(self.nodes)\n",
    "    \n",
    "    def __getitem__(self,index):\n",
    "        \n",
    "        if index <= self.__len__()-1 and index >= 0:\n",
    "            counter = 0\n",
    "            curr_node = self.head_node\n",
    "\n",
    "            while counter != index:\n",
    "                curr_node = curr_node.next #point to the next node\n",
    "                counter += 1\n",
    "\n",
    "            return curr_node.value\n",
    "        \n",
    "        elif self.__len__()==0:\n",
    "            raise ValueError(\"Cannot access items of an empty list\")\n",
    "            \n",
    "        else:\n",
    "            raise ValueError(\"Index needs to be in range of nodes indices\")\n",
    "        \n",
    "    def __repr__(self):\n",
    "\n",
    "        class_name = type(self).__name__\n",
    "    \n",
    "        #repr can be send to eval to create the instance of that object!\n",
    "        return \"{}({})\".format(class_name,self.head_node.value)\n",
    "    \n",
    "    def insert_front(self,element):\n",
    "        new_node = Node(element, self.head_node)\n",
    "        self.head_node = new_node\n",
    "        self.nodes = [new_node] + self.nodes\n",
    "        \n",
    "    def insert_back(self,element):\n",
    " \n",
    "        curr_node = self.head_node\n",
    "\n",
    "        while curr_node.next is not None:\n",
    "            curr_node = curr_node.next\n",
    "            #print(curr_node.value)\n",
    "        \n",
    "        new_node = Node(element,None)\n",
    "        curr_node.next = new_node\n",
    "        \n",
    "        self.nodes = self.nodes + [new_node]\n",
    "        "
   ]
  },
  {
   "cell_type": "code",
   "execution_count": 31,
   "metadata": {},
   "outputs": [
    {
     "data": {
      "text/plain": [
       "LinkedList(a)"
      ]
     },
     "execution_count": 31,
     "metadata": {},
     "output_type": "execute_result"
    }
   ],
   "source": [
    "L1 = LinkedList('a')\n",
    "L1"
   ]
  },
  {
   "cell_type": "code",
   "execution_count": 32,
   "metadata": {},
   "outputs": [
    {
     "data": {
      "text/plain": [
       "1"
      ]
     },
     "execution_count": 32,
     "metadata": {},
     "output_type": "execute_result"
    }
   ],
   "source": [
    "L1.__len__()"
   ]
  },
  {
   "cell_type": "code",
   "execution_count": 35,
   "metadata": {},
   "outputs": [
    {
     "data": {
      "text/plain": [
       "'a'"
      ]
     },
     "execution_count": 35,
     "metadata": {},
     "output_type": "execute_result"
    }
   ],
   "source": [
    "L1.__getitem__(0)"
   ]
  },
  {
   "cell_type": "code",
   "execution_count": 36,
   "metadata": {
    "collapsed": true
   },
   "outputs": [],
   "source": [
    "L1.insert_front(10)"
   ]
  },
  {
   "cell_type": "code",
   "execution_count": 37,
   "metadata": {},
   "outputs": [
    {
     "data": {
      "text/plain": [
       "3"
      ]
     },
     "execution_count": 37,
     "metadata": {},
     "output_type": "execute_result"
    }
   ],
   "source": [
    "L1.insert_back(2)\n",
    "L1.__len__()"
   ]
  },
  {
   "cell_type": "code",
   "execution_count": 38,
   "metadata": {},
   "outputs": [
    {
     "data": {
      "text/plain": [
       "'LinkedList(10)'"
      ]
     },
     "execution_count": 38,
     "metadata": {},
     "output_type": "execute_result"
    }
   ],
   "source": [
    "repr(L1)"
   ]
  },
  {
   "cell_type": "code",
   "execution_count": 39,
   "metadata": {},
   "outputs": [
    {
     "data": {
      "text/plain": [
       "LinkedList(10)"
      ]
     },
     "execution_count": 39,
     "metadata": {},
     "output_type": "execute_result"
    }
   ],
   "source": [
    "eval(repr(L1))"
   ]
  },
  {
   "cell_type": "code",
   "execution_count": 40,
   "metadata": {
    "collapsed": true
   },
   "outputs": [],
   "source": [
    "L1.insert_front(9)\n"
   ]
  },
  {
   "cell_type": "code",
   "execution_count": 41,
   "metadata": {},
   "outputs": [
    {
     "data": {
      "text/plain": [
       "LinkedList(9)"
      ]
     },
     "execution_count": 41,
     "metadata": {},
     "output_type": "execute_result"
    }
   ],
   "source": [
    "L1"
   ]
  },
  {
   "cell_type": "code",
   "execution_count": 46,
   "metadata": {},
   "outputs": [
    {
     "data": {
      "text/plain": [
       "'a'"
      ]
     },
     "execution_count": 46,
     "metadata": {},
     "output_type": "execute_result"
    }
   ],
   "source": [
    "L1.__getitem__(2)"
   ]
  },
  {
   "cell_type": "markdown",
   "metadata": {},
   "source": [
    "# Problem 2:  Binary Tree Class\n",
    "A binary search tree is a binary tree with the invariant that for any particular node the left child is smaller and the right child is larger. Create the class `BinaryTree` with the following specifications:\n",
    "\n",
    "`__init__(self)`: Constructor takes no additional arguments\n",
    "\n",
    "`insert(self, val)`: This method will insert `val` into the tree\n",
    "\n",
    "(Optional) `remove(self, val)`: This will remove `val` from the tree.\n",
    "1. If the node to be deleted has no children then just remove it.\n",
    "2. If the node to be deleted has only one child, remove the node and replace it with its child.\n",
    "3. If the node to be deleted has two children, replace the node to be deleted with the maximum value in the left subtree.  Finally, delete the node with the maximum value in the left-subtree.\n",
    "\n",
    "`getValues(self. depth)`: Return a list of the entire row of nodes at the specified depth with `None` at the index if there is no value in the tree. The length of the list should therefore be $2^{\\text{depth}}$. "
   ]
  },
  {
   "cell_type": "code",
   "execution_count": 52,
   "metadata": {
    "collapsed": true
   },
   "outputs": [],
   "source": [
    "#two functions below are for printing and testing the tree\n",
    "def test_random_insert_delete(tree, population, num_insert, num_delete):\n",
    "    from random import sample, choice\n",
    "    print('\\n*\\nBuilding new tree on ' + str(num_insert) + ' random keys\\n*\\n')\n",
    "    keys = sample(population, num_insert)\n",
    "    print('Keys: ' + str(keys))\n",
    "    for key in keys:\n",
    "        tree.insert(key)\n",
    "        print('\\nInserting ' + str(key) + '...\\n')\n",
    "        print(tree) \n",
    "    print('\\n*****\\nNow deleting ' + str(num_delete) + ' random keys\\n****')\n",
    "    print('Keys: ' + str(keys))\n",
    "    for i in range(num_delete):\n",
    "        key = choice(population)\n",
    "        print('\\n*\\nAttemping to remove ' + str(key) + '...\\n*')\n",
    "        node = tree.find(key)\n",
    "        if node is None:\n",
    "            print('\\n' + str(key) + ' not found... :(')\n",
    "        else:\n",
    "            node.delete()\n",
    "            print('\\n' + str(key) + ' removed!\\n')\n",
    "            print(tree)\n",
    "            \n",
    "def test_BST(max_key, num_inserts, num_deletes):\n",
    "    print('\\n***********\\nTesting BST\\n***********')\n",
    "    tree = BinaryTree()\n",
    "    test_random_insert_delete(tree, range(max_key), num_inserts, num_deletes)\n",
    "    print('\\n*\\nTest worst case: inserting 10 keys in order\\n*\\n')\n",
    "    tree = BinaryTree()\n",
    "    for i in range(max_key):\n",
    "        tree.insert(i)\n",
    "    print(tree)\n",
    "    "
   ]
  },
  {
   "cell_type": "code",
   "execution_count": 78,
   "metadata": {
    "collapsed": true
   },
   "outputs": [],
   "source": [
    "class BinaryTree():\n",
    "    \n",
    "    def __init__(self):\n",
    "        #self.parent = None #initialize parent node\n",
    "        self.key = None #initializing the Center of Activity (CoA)\n",
    "        self.left = None #pointer to left child\n",
    "        self.right = None #pointer to the right child\n",
    "        self.min = None #initialize minimum\n",
    "        self.parent = None\n",
    "        self.current_depth = 0 #initialize current depth\n",
    "    \n",
    "    def find_max(self):\n",
    "        #find min of the subtree\n",
    "        if self.key is None:\n",
    "            return None\n",
    "        node = self\n",
    "        while node.right is not None:\n",
    "            node = node.right\n",
    "        return node\n",
    "        \n",
    "    def insert(self,val):\n",
    "        \"Insert the value into the tree according to the BST property\"\n",
    "        if self.key == None: #base case\n",
    "            self.key = val\n",
    "        \n",
    "        node = self\n",
    "        \n",
    "        while node.key != val:\n",
    "            if node.key > val:\n",
    "                if node.left is None: #if there is no child on the left, I need to create that subtree\n",
    "                    node.left = self.__class__()\n",
    "                    node.left.key = val\n",
    "                    node.left.parent = node\n",
    "                node = node.left\n",
    "                    \n",
    "            else:\n",
    "                if node.right is None: #if there is no child on the right, I need to create that subtree\n",
    "                    node.right = self.__class__()\n",
    "                    node.right.key = val\n",
    "                    node.right.parent = node\n",
    "                #node.parent = node\n",
    "                node = node.right\n",
    "                \n",
    "    def delete(self):\n",
    "        \"Deletes self's key from subtree and returns parent of removed node\"\n",
    "        node = self\n",
    "        if (self.left is not None) and (self.right is not None):\n",
    "            node = self.left.find_max()\n",
    "            self.key = node.key\n",
    "            \n",
    "        if node.right is not None:\n",
    "            node.replace(node.right)\n",
    "        elif node.left is not None:\n",
    "            node.replace(node.left)\n",
    "            \n",
    "        else:\n",
    "            if node.parent is None:\n",
    "                node.key = None\n",
    "            elif node.parent.right is node:\n",
    "                node.parent.right = None\n",
    "            elif node.parent.left is node:\n",
    "                node.parent.left = None\n",
    "                \n",
    "        return node\n",
    "    \n",
    "    def replace(self, node):\n",
    "        \"Replaces self's key, left, and right with node's key, left, and right\"\n",
    "        self.key = node.key\n",
    "        self.left = node.left\n",
    "        self.right = node.right\n",
    "        if self.left is not None:\n",
    "            self.left.parent = self\n",
    "        if self.right is not None:\n",
    "            self.right.parent = self\n",
    "            \n",
    "    def remove(self,val):\n",
    "        #print(self.key)\n",
    "        if self.key == val:\n",
    "            self.delete()\n",
    "\n",
    "        else: #if we are not on the correct node, recurse either left or right\n",
    "            if self.key > val:\n",
    "                if self.left:\n",
    "                    self.left.remove(val)\n",
    "                    \n",
    "            else:\n",
    "                if self.right:\n",
    "                    self.right.remove(val)\n",
    "        \n",
    "    def getValues(self,counter=0,depth=0,a=[]):\n",
    "        \n",
    "        #print(\"Current key:\", self.key)\n",
    "        if counter == depth: #base case\n",
    "            a.append(self.key)\n",
    "            return\n",
    "        \n",
    "        else:\n",
    "            counter = counter + 1\n",
    "            if self.left:\n",
    "                #print(\"going left\")\n",
    "                self.left.getValues(counter,depth,a)\n",
    "            else:\n",
    "                b =pow(2,(depth-counter))\n",
    "                #print(c*b)\n",
    "                c=[\"None\"]\n",
    "                for i in c*b:\n",
    "                    a.append(i)\n",
    "            if self.right:\n",
    "                self.right.getValues(counter,depth,a)\n",
    "            else:\n",
    "                b =pow(2,(depth-counter))\n",
    "                c=[\"None\"]\n",
    "                #print(c*b)\n",
    "                for i in c*b:\n",
    "                    a.append(i)\n",
    "        \n",
    "        return a\n",
    "    \n",
    "    def __str__(self):\n",
    "        \"Returns ASCII drawing of the tree\"\n",
    "        s = str(self.key)\n",
    "        if (self.left is not None) or (self.right is not None):\n",
    "            ws = len(s)\n",
    "            sl, wl, cl = [''], 0, 0\n",
    "            if self.left is not None:\n",
    "                sl = str(self.left).splitlines()\n",
    "                wl = len(sl[0])\n",
    "                cl = len(sl[0].lstrip(' _'))\n",
    "            sr, wr, cr = [''], 0, 0\n",
    "            if self.right is not None:\n",
    "                sr = str(self.right).splitlines()\n",
    "                wr = len(sr[0])\n",
    "                cr = len(sr[0].rstrip(' _'))\n",
    "            while len(sl) < len(sr):\n",
    "                sl.append(' ' * wl) \n",
    "            while len(sr) < len(sl):\n",
    "                sr.append(' ' * wr)\n",
    "            s = s.rjust(ws + cl, '_').ljust(ws + cl + cr, '_')\n",
    "            s = [s.rjust(ws + wl + cr).ljust(ws + wl + wr)]\n",
    "            s = '\\n'.join(s + [l + (' ' * ws) + r for (l,r) in zip(sl, sr)])\n",
    "        return s"
   ]
  },
  {
   "cell_type": "code",
   "execution_count": 76,
   "metadata": {},
   "outputs": [
    {
     "name": "stdout",
     "output_type": "stream",
     "text": [
      "______7____    \n",
      "0_      _11__  \n",
      " 1___  _9  12__\n",
      "  __5_ 8     13\n",
      "  2_ 6         \n",
      "   3           \n"
     ]
    }
   ],
   "source": [
    "BST1 = BinaryTree()\n",
    "testlist=[7, 0, 1,5, 11, 2, 9, 6, 0, 3, 8, 12,13]\n",
    "for i in testlist:\n",
    "    BST1.insert(i)\n",
    "print(BST1)"
   ]
  },
  {
   "cell_type": "code",
   "execution_count": 72,
   "metadata": {},
   "outputs": [
    {
     "name": "stdout",
     "output_type": "stream",
     "text": [
      "13\n"
     ]
    }
   ],
   "source": [
    "print(BST1.find_max())"
   ]
  },
  {
   "cell_type": "code",
   "execution_count": 77,
   "metadata": {},
   "outputs": [
    {
     "name": "stdout",
     "output_type": "stream",
     "text": [
      "_____7____    \n",
      "0_     _11__  \n",
      " 1__  _9  12__\n",
      "  _3_ 8     13\n",
      "  2 6         \n"
     ]
    }
   ],
   "source": [
    "BST1.remove(5)\n",
    "print(BST1)"
   ]
  },
  {
   "cell_type": "code",
   "execution_count": 50,
   "metadata": {},
   "outputs": [
    {
     "data": {
      "text/plain": [
       "['None', 'None', 'None', 2, 8, 'None', 'None', 13]"
      ]
     },
     "execution_count": 50,
     "metadata": {},
     "output_type": "execute_result"
    }
   ],
   "source": [
    "BST1.getValues(depth=3,a=[])"
   ]
  },
  {
   "cell_type": "code",
   "execution_count": 53,
   "metadata": {},
   "outputs": [
    {
     "name": "stdout",
     "output_type": "stream",
     "text": [
      "\n",
      "***********\n",
      "Testing BST\n",
      "***********\n",
      "\n",
      "*\n",
      "Building new tree on 10 random keys\n",
      "*\n",
      "\n",
      "Keys: [4, 5, 3, 1, 7, 6, 8, 9, 0, 2]\n",
      "\n",
      "Inserting 4...\n",
      "\n",
      "4\n",
      "\n",
      "Inserting 5...\n",
      "\n",
      "4_\n",
      " 5\n",
      "\n",
      "Inserting 3...\n",
      "\n",
      "_4_\n",
      "3 5\n",
      "\n",
      "Inserting 1...\n",
      "\n",
      " _4_\n",
      "_3 5\n",
      "1   \n",
      "\n",
      "Inserting 7...\n",
      "\n",
      " _4_ \n",
      "_3 5_\n",
      "1   7\n",
      "\n",
      "Inserting 6...\n",
      "\n",
      " _4_  \n",
      "_3 5__\n",
      "1   _7\n",
      "    6 \n",
      "\n",
      "Inserting 8...\n",
      "\n",
      " _4_   \n",
      "_3 5__ \n",
      "1   _7_\n",
      "    6 8\n",
      "\n",
      "Inserting 9...\n",
      "\n",
      " _4_    \n",
      "_3 5__  \n",
      "1   _7_ \n",
      "    6 8_\n",
      "       9\n",
      "\n",
      "Inserting 0...\n",
      "\n",
      "  _4_    \n",
      " _3 5__  \n",
      "_1   _7_ \n",
      "0    6 8_\n",
      "        9\n",
      "\n",
      "Inserting 2...\n",
      "\n",
      "   _4_    \n",
      " __3 5__  \n",
      "_1_   _7_ \n",
      "0 2   6 8_\n",
      "         9\n",
      "\n",
      "*****\n",
      "Now deleting 8 random keys\n",
      "****\n",
      "Keys: [4, 5, 3, 1, 7, 6, 8, 9, 0, 2]\n",
      "\n",
      "*\n",
      "Attemping to remove 9...\n",
      "*\n"
     ]
    },
    {
     "ename": "AttributeError",
     "evalue": "'BinaryTree' object has no attribute 'find'",
     "output_type": "error",
     "traceback": [
      "\u001b[0;31m---------------------------------------------------------------------------\u001b[0m",
      "\u001b[0;31mAttributeError\u001b[0m                            Traceback (most recent call last)",
      "\u001b[0;32m<ipython-input-53-c9631592d47c>\u001b[0m in \u001b[0;36m<module>\u001b[0;34m()\u001b[0m\n\u001b[1;32m      1\u001b[0m \u001b[0;32mif\u001b[0m \u001b[0m__name__\u001b[0m\u001b[0;34m==\u001b[0m\u001b[0;34m'__main__'\u001b[0m\u001b[0;34m:\u001b[0m\u001b[0;34m\u001b[0m\u001b[0m\n\u001b[0;32m----> 2\u001b[0;31m     \u001b[0mtest_BST\u001b[0m\u001b[0;34m(\u001b[0m\u001b[0;36m10\u001b[0m\u001b[0;34m,\u001b[0m \u001b[0;36m10\u001b[0m\u001b[0;34m,\u001b[0m \u001b[0;36m8\u001b[0m\u001b[0;34m)\u001b[0m\u001b[0;34m\u001b[0m\u001b[0m\n\u001b[0m",
      "\u001b[0;32m<ipython-input-52-d7ac3d42758c>\u001b[0m in \u001b[0;36mtest_BST\u001b[0;34m(max_key, num_inserts, num_deletes)\u001b[0m\n\u001b[1;32m     25\u001b[0m     \u001b[0mprint\u001b[0m\u001b[0;34m(\u001b[0m\u001b[0;34m'\\n***********\\nTesting BST\\n***********'\u001b[0m\u001b[0;34m)\u001b[0m\u001b[0;34m\u001b[0m\u001b[0m\n\u001b[1;32m     26\u001b[0m     \u001b[0mtree\u001b[0m \u001b[0;34m=\u001b[0m \u001b[0mBinaryTree\u001b[0m\u001b[0;34m(\u001b[0m\u001b[0;34m)\u001b[0m\u001b[0;34m\u001b[0m\u001b[0m\n\u001b[0;32m---> 27\u001b[0;31m     \u001b[0mtest_random_insert_delete\u001b[0m\u001b[0;34m(\u001b[0m\u001b[0mtree\u001b[0m\u001b[0;34m,\u001b[0m \u001b[0mrange\u001b[0m\u001b[0;34m(\u001b[0m\u001b[0mmax_key\u001b[0m\u001b[0;34m)\u001b[0m\u001b[0;34m,\u001b[0m \u001b[0mnum_inserts\u001b[0m\u001b[0;34m,\u001b[0m \u001b[0mnum_deletes\u001b[0m\u001b[0;34m)\u001b[0m\u001b[0;34m\u001b[0m\u001b[0m\n\u001b[0m\u001b[1;32m     28\u001b[0m     \u001b[0mprint\u001b[0m\u001b[0;34m(\u001b[0m\u001b[0;34m'\\n*\\nTest worst case: inserting 10 keys in order\\n*\\n'\u001b[0m\u001b[0;34m)\u001b[0m\u001b[0;34m\u001b[0m\u001b[0m\n\u001b[1;32m     29\u001b[0m     \u001b[0mtree\u001b[0m \u001b[0;34m=\u001b[0m \u001b[0mBinaryTree\u001b[0m\u001b[0;34m(\u001b[0m\u001b[0;34m)\u001b[0m\u001b[0;34m\u001b[0m\u001b[0m\n",
      "\u001b[0;32m<ipython-input-52-d7ac3d42758c>\u001b[0m in \u001b[0;36mtest_random_insert_delete\u001b[0;34m(tree, population, num_insert, num_delete)\u001b[0m\n\u001b[1;32m     14\u001b[0m         \u001b[0mkey\u001b[0m \u001b[0;34m=\u001b[0m \u001b[0mchoice\u001b[0m\u001b[0;34m(\u001b[0m\u001b[0mpopulation\u001b[0m\u001b[0;34m)\u001b[0m\u001b[0;34m\u001b[0m\u001b[0m\n\u001b[1;32m     15\u001b[0m         \u001b[0mprint\u001b[0m\u001b[0;34m(\u001b[0m\u001b[0;34m'\\n*\\nAttemping to remove '\u001b[0m \u001b[0;34m+\u001b[0m \u001b[0mstr\u001b[0m\u001b[0;34m(\u001b[0m\u001b[0mkey\u001b[0m\u001b[0;34m)\u001b[0m \u001b[0;34m+\u001b[0m \u001b[0;34m'...\\n*'\u001b[0m\u001b[0;34m)\u001b[0m\u001b[0;34m\u001b[0m\u001b[0m\n\u001b[0;32m---> 16\u001b[0;31m         \u001b[0mnode\u001b[0m \u001b[0;34m=\u001b[0m \u001b[0mtree\u001b[0m\u001b[0;34m.\u001b[0m\u001b[0mfind\u001b[0m\u001b[0;34m(\u001b[0m\u001b[0mkey\u001b[0m\u001b[0;34m)\u001b[0m\u001b[0;34m\u001b[0m\u001b[0m\n\u001b[0m\u001b[1;32m     17\u001b[0m         \u001b[0;32mif\u001b[0m \u001b[0mnode\u001b[0m \u001b[0;32mis\u001b[0m \u001b[0;32mNone\u001b[0m\u001b[0;34m:\u001b[0m\u001b[0;34m\u001b[0m\u001b[0m\n\u001b[1;32m     18\u001b[0m             \u001b[0mprint\u001b[0m\u001b[0;34m(\u001b[0m\u001b[0;34m'\\n'\u001b[0m \u001b[0;34m+\u001b[0m \u001b[0mstr\u001b[0m\u001b[0;34m(\u001b[0m\u001b[0mkey\u001b[0m\u001b[0;34m)\u001b[0m \u001b[0;34m+\u001b[0m \u001b[0;34m' not found... :('\u001b[0m\u001b[0;34m)\u001b[0m\u001b[0;34m\u001b[0m\u001b[0m\n",
      "\u001b[0;31mAttributeError\u001b[0m: 'BinaryTree' object has no attribute 'find'"
     ]
    }
   ],
   "source": [
    "if __name__=='__main__':\n",
    "    test_BST(10, 10, 8)"
   ]
  },
  {
   "cell_type": "markdown",
   "metadata": {},
   "source": [
    "# Problem 3:  Peer Evaluations\n",
    "Evaluate the members of your group for Milestone 1.  Please follow the instructions in the provided survey.  The survey can be found here:  [Milestone 1 Peer Evaluation](https://harvard.az1.qualtrics.com/jfe/form/SV_0JnuXbE5QjLCrKB)."
   ]
  },
  {
   "cell_type": "markdown",
   "metadata": {},
   "source": [
    "# Problem 4:  Course Evaluation\n",
    "Please take the [Course Evaluation](https://docs.google.com/forms/d/e/1FAIpQLSdDyrtf_aByU4xNeLMSmDrFCJ2OLDrK1Q7ZoeTd2Whf_cdRrw/viewform?usp=sf_link)."
   ]
  }
 ],
 "metadata": {
  "kernelspec": {
   "display_name": "Python 3",
   "language": "python",
   "name": "python3"
  },
  "language_info": {
   "codemirror_mode": {
    "name": "ipython",
    "version": 3
   },
   "file_extension": ".py",
   "mimetype": "text/x-python",
   "name": "python",
   "nbconvert_exporter": "python",
   "pygments_lexer": "ipython3",
   "version": "3.6.1"
  }
 },
 "nbformat": 4,
 "nbformat_minor": 2
}
