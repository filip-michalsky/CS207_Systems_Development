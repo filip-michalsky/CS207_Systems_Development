{
 "cells": [
  {
   "cell_type": "markdown",
   "metadata": {},
   "source": [
    "# Homework 7\n",
    "## Due Date:  Wednesday, October 25th at 11:59 PM"
   ]
  },
  {
   "cell_type": "markdown",
   "metadata": {},
   "source": [
    "# Problem 1:  Linked List Class\n",
    "Write a linked list class called `LinkedList`.  Remember, a singly linked list is made up of nodes each of which contain a value and a pointer.  The first node is called the \"head node\".\n",
    "\n",
    "Here are the required methods:\n",
    "* `__init__(self, head)` where `head` is the value of the head node.  You could make the head node an attribute.\n",
    "* `__len__(self)`: Returns the number of elements in the linked list.\n",
    "* `__getitem__(self, index)` returns the value of the node corresponding to `index`.  Include checks to make sure that `index` is not out of range and that the user is not trying to index and empty list.\n",
    "* `__repr__(self)` returns `LinkedList(head_node)`.\n",
    "* `insert_front(self, element)` inserts a new node with value `element` at the beginning of the list.\n",
    "* `insert_back(self, element)` inserts a new node with value `element` at the end of the list.\n",
    "\n",
    "Note:  An alternative implementation is to create a `Node` class.  You are not required to make a `Node` class but you may if you prefer that implementation.  Please don't steal that implementation from the online forums.  I've seen those too."
   ]
  },
  {
   "cell_type": "code",
   "execution_count": 814,
   "metadata": {
    "collapsed": true
   },
   "outputs": [],
   "source": [
    "class LinkedList():\n",
    "    \n",
    "    def __init__(self, head):\n",
    "        self.head = head # head node\n",
    "        self.elements = [head] # initialize as 1 for the first head node\n",
    "        \n",
    "    def __len__(self):\n",
    "        return len(self.elements)\n",
    "    \n",
    "    def __getitem__(self,index):\n",
    "        if index <= self.__len__() and index >= 0:\n",
    "            return self.elements[index]\n",
    "        else:\n",
    "            raise ValueError(\"Index needs to be in range of nodes indices\")\n",
    "        \n",
    "    def __repr__(self):\n",
    "        class_name = type(self).__name__\n",
    "        return \"{}({})\".format(class_name,self.head)\n",
    "    \n",
    "    def insert_front(self,element):\n",
    "        #print(type(self.elements))\n",
    "        self.head = element\n",
    "        self.elements = [element] + self.elements\n",
    "        \n",
    "    def insert_back(self,element):\n",
    "        #print(type(self.elements))\n",
    "        #self.head = element\n",
    "        self.elements.append(element)\n",
    "    \n",
    "    #print the list\n",
    "    def print_list_from_start(self):\n",
    "        #counter = self.__len__()\n",
    "        for i in range(self.__len__()):\n",
    "            print(self.__getitem__(i))\n",
    "            \n",
    "    def print_list_from_end(self):\n",
    "        #counter = self.__len__()\n",
    "        for i in range(self.__len__()-1,0-1,-1):\n",
    "            print(self.__getitem__(i))\n",
    "        \n",
    "        "
   ]
  },
  {
   "cell_type": "code",
   "execution_count": null,
   "metadata": {
    "collapsed": true
   },
   "outputs": [],
   "source": []
  },
  {
   "cell_type": "code",
   "execution_count": 815,
   "metadata": {
    "collapsed": true
   },
   "outputs": [],
   "source": [
    "L1 = LinkedList('a')\n",
    "L1.__len__()\n",
    "\n",
    "L1.insert_back(1)\n",
    "L1.insert_back(10)"
   ]
  },
  {
   "cell_type": "code",
   "execution_count": 816,
   "metadata": {},
   "outputs": [
    {
     "name": "stdout",
     "output_type": "stream",
     "text": [
      "9\n",
      "a\n",
      "1\n",
      "10\n"
     ]
    }
   ],
   "source": [
    "L1.insert_front(9)\n",
    "L1.__getitem__(0)\n",
    "L1.print_list_from_start()"
   ]
  },
  {
   "cell_type": "code",
   "execution_count": 817,
   "metadata": {},
   "outputs": [
    {
     "name": "stdout",
     "output_type": "stream",
     "text": [
      "10\n",
      "1\n",
      "a\n",
      "9\n"
     ]
    }
   ],
   "source": [
    "L1.print_list_from_end()"
   ]
  },
  {
   "cell_type": "markdown",
   "metadata": {},
   "source": [
    "# Problem 2:  Binary Tree Class\n",
    "A binary search tree is a binary tree with the invariant that for any particular node the left child is smaller and the right child is larger. Create the class `BinaryTree` with the following specifications:\n",
    "\n",
    "`__init__(self)`: Constructor takes no additional arguments\n",
    "\n",
    "`insert(self, val)`: This method will insert `val` into the tree\n",
    "\n",
    "(Optional) `remove(self, val)`: This will remove `val` from the tree.\n",
    "1. If the node to be deleted has no children then just remove it.\n",
    "2. If the node to be deleted has only one child, remove the node and replace it with its child.\n",
    "3. If the node to be deleted has two children, replace the node to be deleted with the maximum value in the left subtree.  Finally, delete the node with the maximum value in the left-subtree.\n",
    "\n",
    "`getValues(self. depth)`: Return a list of the entire row of nodes at the specified depth with `None` at the index if there is no value in the tree. The length of the list should therefore be $2^{\\text{depth}}$. "
   ]
  },
  {
   "cell_type": "code",
   "execution_count": 399,
   "metadata": {
    "collapsed": true
   },
   "outputs": [],
   "source": [
    "#two functions below are for printing and testing the tree\n",
    "def test_random_insert_delete(tree, population, num_insert, num_delete):\n",
    "    from random import sample, choice\n",
    "    print('\\n*\\nBuilding new tree on ' + str(num_insert) + ' random keys\\n*\\n')\n",
    "    keys = sample(population, num_insert)\n",
    "    print('Keys: ' + str(keys))\n",
    "    for key in keys:\n",
    "        tree.insert(key)\n",
    "        print('\\nInserting ' + str(key) + '...\\n')\n",
    "        print(tree) \n",
    "    print('\\n*****\\nNow deleting ' + str(num_delete) + ' random keys\\n****')\n",
    "    print('Keys: ' + str(keys))\n",
    "    for i in range(num_delete):\n",
    "        key = choice(population)\n",
    "        print('\\n*\\nAttemping to remove ' + str(key) + '...\\n*')\n",
    "        node = tree.find(key)\n",
    "        if node is None:\n",
    "            print('\\n' + str(key) + ' not found... :(')\n",
    "        else:\n",
    "            node.delete()\n",
    "            print('\\n' + str(key) + ' removed!\\n')\n",
    "            print(tree)\n",
    "            \n",
    "def test_BST(max_key, num_inserts, num_deletes):\n",
    "    print('\\n***********\\nTesting BST\\n***********')\n",
    "    tree = BinaryTree()\n",
    "    test_random_insert_delete(tree, range(max_key), num_inserts, num_deletes)\n",
    "    print('\\n*\\nTest worst case: inserting 10 keys in order\\n*\\n')\n",
    "    tree = BinaryTree()\n",
    "    for i in range(max_key):\n",
    "        tree.insert(i)\n",
    "    print(tree)\n",
    "    "
   ]
  },
  {
   "cell_type": "code",
   "execution_count": 1,
   "metadata": {
    "collapsed": true
   },
   "outputs": [],
   "source": [
    "class BinaryTree():\n",
    "    \n",
    "    def __init__(self):\n",
    "        #self.parent = None #initialize parent node\n",
    "        self.key = None #initializing the Center of Activity (CoA)\n",
    "        self.left = None #pointer to left child\n",
    "        self.right = None #pointer to the right child\n",
    "        self.min = None #initialize minimum\n",
    "        self.parent = None\n",
    "        self.current_depth = 0 #initialize current depth\n",
    "    \"\"\"\n",
    "    def find_min(self):\n",
    "        #find min of the subtree\n",
    "        if self == None: #base case\n",
    "            self.min = None\n",
    "            return\n",
    "        \n",
    "        else:\n",
    "            if self.left == None:\n",
    "                self.min = self.key\n",
    "                return\n",
    "            else:\n",
    "                self.find_min(self.left)\n",
    "                \n",
    "    def find(self, key): \n",
    "        \"Returns node with key in self's subtree if exists, else None\"\n",
    "        node = self\n",
    "        while (node is not None) and (node.key != key):\n",
    "            if key < node.key:\n",
    "                node = node.left\n",
    "            else:\n",
    "                node = node.right\n",
    "        return node\n",
    "    \"\"\"\n",
    "    def insert(self,val):\n",
    "        \"Insert the value into the tree according to the BST property\"\n",
    "        if self.key == None: #base case\n",
    "            self.key = val\n",
    "        \n",
    "        node = self\n",
    "        \n",
    "        while node.key != val:\n",
    "            if node.key > val:\n",
    "                if node.left is None: #if there is no child on the left, I need to create that subtree\n",
    "                    node.left = self.__class__()\n",
    "                    node.left.key = val\n",
    "                    node.left.parent = node\n",
    "                node = node.left\n",
    "                    \n",
    "            else:\n",
    "                if node.right is None: #if there is no child on the right, I need to create that subtree\n",
    "                    node.right = self.__class__()\n",
    "                    node.right.key = val\n",
    "                    node.right.parent = node\n",
    "                #node.parent = node\n",
    "                node = node.right\n",
    "             \n",
    "    def remove(self,val):\n",
    "        #print(self.key)\n",
    "        if self.key == val:\n",
    "            #print(self.key)\n",
    "            while (self.left != None) or (self.right != None):\n",
    "                if self.left:\n",
    "                    swap = self.key\n",
    "                    self.key = self.left.key\n",
    "                    self.left.key = swap    \n",
    "                    self=self.left\n",
    "\n",
    "                else:\n",
    "                    swap = self.key\n",
    "                    self.key = self.right.key\n",
    "                    self.right.key = swap\n",
    "                    self = self.right\n",
    " \n",
    "            if self.left is None and self.right is None:\n",
    "                #if we arrive to the leaf, delete pointers to parent\n",
    "                if self.parent.right == self: # if the node we are at is the right child of its parent\n",
    "                    self.parent.right = None\n",
    "                    return\n",
    "                else:\n",
    "                    self.parent.left = None\n",
    "                    return\n",
    "\n",
    "        else: #if we are not on the correct node, recurse either left or right\n",
    "            if self.key > val:\n",
    "                if self.left:\n",
    "                    self.left.remove(val)\n",
    "                    \n",
    "            else:\n",
    "                if self.right:\n",
    "                    self.right.remove(val)\n",
    "        \n",
    "        \n",
    "    def getValues(self,counter=0,depth=0,a=[]):\n",
    "        \n",
    "        #print(\"Current key:\", self.key)\n",
    "        if counter == depth: #base case\n",
    "            a.append(self.key)\n",
    "            return\n",
    "        \n",
    "        else:\n",
    "            counter = counter + 1\n",
    "            if self.left:\n",
    "                #print(\"going left\")\n",
    "                self.left.getValues(counter,depth,a)\n",
    "            else:\n",
    "                b =pow(2,(depth-counter))\n",
    "                #print(c*b)\n",
    "                c=[\"None\"]\n",
    "                for i in c*b:\n",
    "                    a.append(i)\n",
    "            if self.right:\n",
    "                self.right.getValues(counter,depth,a)\n",
    "            else:\n",
    "                b =pow(2,(depth-counter))\n",
    "                c=[\"None\"]\n",
    "                #print(c*b)\n",
    "                for i in c*b:\n",
    "                    a.append(i)\n",
    "        \n",
    "        return a\n",
    "    \n",
    "    def __str__(self):\n",
    "        \"Returns ASCII drawing of the tree\"\n",
    "        s = str(self.key)\n",
    "        if (self.left is not None) or (self.right is not None):\n",
    "            ws = len(s)\n",
    "            sl, wl, cl = [''], 0, 0\n",
    "            if self.left is not None:\n",
    "                sl = str(self.left).splitlines()\n",
    "                wl = len(sl[0])\n",
    "                cl = len(sl[0].lstrip(' _'))\n",
    "            sr, wr, cr = [''], 0, 0\n",
    "            if self.right is not None:\n",
    "                sr = str(self.right).splitlines()\n",
    "                wr = len(sr[0])\n",
    "                cr = len(sr[0].rstrip(' _'))\n",
    "            while len(sl) < len(sr):\n",
    "                sl.append(' ' * wl) \n",
    "            while len(sr) < len(sl):\n",
    "                sr.append(' ' * wr)\n",
    "            s = s.rjust(ws + cl, '_').ljust(ws + cl + cr, '_')\n",
    "            s = [s.rjust(ws + wl + cr).ljust(ws + wl + wr)]\n",
    "            s = '\\n'.join(s + [l + (' ' * ws) + r for (l,r) in zip(sl, sr)])\n",
    "        return s"
   ]
  },
  {
   "cell_type": "code",
   "execution_count": 5,
   "metadata": {},
   "outputs": [
    {
     "name": "stdout",
     "output_type": "stream",
     "text": [
      "______7____    \n",
      "0_      _11__  \n",
      " 1___  _9  12__\n",
      "  __5_ 8     13\n",
      "  2_ 6         \n",
      "   3           \n"
     ]
    }
   ],
   "source": [
    "BST1 = BinaryTree()\n",
    "testlist=[7, 0, 1,5, 11, 2, 9, 6, 0, 3, 8, 12,13]\n",
    "for i in testlist:\n",
    "    BST1.insert(i)\n",
    "print(BST1)"
   ]
  },
  {
   "cell_type": "code",
   "execution_count": 6,
   "metadata": {},
   "outputs": [
    {
     "name": "stdout",
     "output_type": "stream",
     "text": [
      "_____7____    \n",
      "0_     _11__  \n",
      " 1__  _9  12__\n",
      "  _2_ 8     13\n",
      "  3 6         \n"
     ]
    }
   ],
   "source": [
    "BST1.remove(5)\n",
    "print(BST1)"
   ]
  },
  {
   "cell_type": "code",
   "execution_count": 813,
   "metadata": {},
   "outputs": [
    {
     "data": {
      "text/plain": [
       "['None', 'None', 'None', 5, 8, 'None', 'None', 13]"
      ]
     },
     "execution_count": 813,
     "metadata": {},
     "output_type": "execute_result"
    }
   ],
   "source": [
    "BST1.getValues(depth=3,a=[])"
   ]
  },
  {
   "cell_type": "code",
   "execution_count": 591,
   "metadata": {},
   "outputs": [
    {
     "name": "stdout",
     "output_type": "stream",
     "text": [
      "\n",
      "***********\n",
      "Testing BST\n",
      "***********\n",
      "\n",
      "*\n",
      "Building new tree on 10 random keys\n",
      "*\n",
      "\n",
      "Keys: [6, 8, 3, 0, 4, 7, 9, 2, 1, 5]\n",
      "\n",
      "Inserting 6...\n",
      "\n",
      "6\n",
      "\n",
      "Inserting 8...\n",
      "\n",
      "6_\n",
      " 8\n",
      "\n",
      "Inserting 3...\n",
      "\n",
      "_6_\n",
      "3 8\n",
      "\n",
      "Inserting 0...\n",
      "\n",
      " _6_\n",
      "_3 8\n",
      "0   \n",
      "\n",
      "Inserting 4...\n",
      "\n",
      " __6_\n",
      "_3_ 8\n",
      "0 4  \n",
      "\n",
      "Inserting 7...\n",
      "\n",
      " __6__\n",
      "_3_ _8\n",
      "0 4 7 \n",
      "\n",
      "Inserting 9...\n",
      "\n",
      " __6__ \n",
      "_3_ _8_\n",
      "0 4 7 9\n",
      "\n",
      "Inserting 2...\n",
      "\n",
      "  __6__ \n",
      "__3_ _8_\n",
      "0_ 4 7 9\n",
      " 2      \n",
      "\n",
      "Inserting 1...\n",
      "\n",
      "   __6__ \n",
      "___3_ _8_\n",
      "0__ 4 7 9\n",
      " _2      \n",
      " 1       \n",
      "\n",
      "Inserting 5...\n",
      "\n",
      "   ___6__ \n",
      "___3_  _8_\n",
      "0__ 4_ 7 9\n",
      " _2  5    \n",
      " 1        \n",
      "\n",
      "*****\n",
      "Now deleting 8 random keys\n",
      "****\n",
      "Keys: [6, 8, 3, 0, 4, 7, 9, 2, 1, 5]\n",
      "\n",
      "*\n",
      "Attemping to remove 2...\n",
      "*\n"
     ]
    },
    {
     "ename": "AttributeError",
     "evalue": "'BinaryTree' object has no attribute 'delete'",
     "output_type": "error",
     "traceback": [
      "\u001b[0;31m---------------------------------------------------------------------------\u001b[0m",
      "\u001b[0;31mAttributeError\u001b[0m                            Traceback (most recent call last)",
      "\u001b[0;32m<ipython-input-591-c9631592d47c>\u001b[0m in \u001b[0;36m<module>\u001b[0;34m()\u001b[0m\n\u001b[1;32m      1\u001b[0m \u001b[0;32mif\u001b[0m \u001b[0m__name__\u001b[0m\u001b[0;34m==\u001b[0m\u001b[0;34m'__main__'\u001b[0m\u001b[0;34m:\u001b[0m\u001b[0;34m\u001b[0m\u001b[0m\n\u001b[0;32m----> 2\u001b[0;31m     \u001b[0mtest_BST\u001b[0m\u001b[0;34m(\u001b[0m\u001b[0;36m10\u001b[0m\u001b[0;34m,\u001b[0m \u001b[0;36m10\u001b[0m\u001b[0;34m,\u001b[0m \u001b[0;36m8\u001b[0m\u001b[0;34m)\u001b[0m\u001b[0;34m\u001b[0m\u001b[0m\n\u001b[0m",
      "\u001b[0;32m<ipython-input-399-a48bf5f4ddc5>\u001b[0m in \u001b[0;36mtest_BST\u001b[0;34m(max_key, num_inserts, num_deletes)\u001b[0m\n\u001b[1;32m     24\u001b[0m     \u001b[0mprint\u001b[0m\u001b[0;34m(\u001b[0m\u001b[0;34m'\\n***********\\nTesting BST\\n***********'\u001b[0m\u001b[0;34m)\u001b[0m\u001b[0;34m\u001b[0m\u001b[0m\n\u001b[1;32m     25\u001b[0m     \u001b[0mtree\u001b[0m \u001b[0;34m=\u001b[0m \u001b[0mBinaryTree\u001b[0m\u001b[0;34m(\u001b[0m\u001b[0;34m)\u001b[0m\u001b[0;34m\u001b[0m\u001b[0m\n\u001b[0;32m---> 26\u001b[0;31m     \u001b[0mtest_random_insert_delete\u001b[0m\u001b[0;34m(\u001b[0m\u001b[0mtree\u001b[0m\u001b[0;34m,\u001b[0m \u001b[0mrange\u001b[0m\u001b[0;34m(\u001b[0m\u001b[0mmax_key\u001b[0m\u001b[0;34m)\u001b[0m\u001b[0;34m,\u001b[0m \u001b[0mnum_inserts\u001b[0m\u001b[0;34m,\u001b[0m \u001b[0mnum_deletes\u001b[0m\u001b[0;34m)\u001b[0m\u001b[0;34m\u001b[0m\u001b[0m\n\u001b[0m\u001b[1;32m     27\u001b[0m     \u001b[0mprint\u001b[0m\u001b[0;34m(\u001b[0m\u001b[0;34m'\\n*\\nTest worst case: inserting 10 keys in order\\n*\\n'\u001b[0m\u001b[0;34m)\u001b[0m\u001b[0;34m\u001b[0m\u001b[0m\n\u001b[1;32m     28\u001b[0m     \u001b[0mtree\u001b[0m \u001b[0;34m=\u001b[0m \u001b[0mBinaryTree\u001b[0m\u001b[0;34m(\u001b[0m\u001b[0;34m)\u001b[0m\u001b[0;34m\u001b[0m\u001b[0m\n",
      "\u001b[0;32m<ipython-input-399-a48bf5f4ddc5>\u001b[0m in \u001b[0;36mtest_random_insert_delete\u001b[0;34m(tree, population, num_insert, num_delete)\u001b[0m\n\u001b[1;32m     17\u001b[0m             \u001b[0mprint\u001b[0m\u001b[0;34m(\u001b[0m\u001b[0;34m'\\n'\u001b[0m \u001b[0;34m+\u001b[0m \u001b[0mstr\u001b[0m\u001b[0;34m(\u001b[0m\u001b[0mkey\u001b[0m\u001b[0;34m)\u001b[0m \u001b[0;34m+\u001b[0m \u001b[0;34m' not found... :('\u001b[0m\u001b[0;34m)\u001b[0m\u001b[0;34m\u001b[0m\u001b[0m\n\u001b[1;32m     18\u001b[0m         \u001b[0;32melse\u001b[0m\u001b[0;34m:\u001b[0m\u001b[0;34m\u001b[0m\u001b[0m\n\u001b[0;32m---> 19\u001b[0;31m             \u001b[0mnode\u001b[0m\u001b[0;34m.\u001b[0m\u001b[0mdelete\u001b[0m\u001b[0;34m(\u001b[0m\u001b[0;34m)\u001b[0m\u001b[0;34m\u001b[0m\u001b[0m\n\u001b[0m\u001b[1;32m     20\u001b[0m             \u001b[0mprint\u001b[0m\u001b[0;34m(\u001b[0m\u001b[0;34m'\\n'\u001b[0m \u001b[0;34m+\u001b[0m \u001b[0mstr\u001b[0m\u001b[0;34m(\u001b[0m\u001b[0mkey\u001b[0m\u001b[0;34m)\u001b[0m \u001b[0;34m+\u001b[0m \u001b[0;34m' removed!\\n'\u001b[0m\u001b[0;34m)\u001b[0m\u001b[0;34m\u001b[0m\u001b[0m\n\u001b[1;32m     21\u001b[0m             \u001b[0mprint\u001b[0m\u001b[0;34m(\u001b[0m\u001b[0mtree\u001b[0m\u001b[0;34m)\u001b[0m\u001b[0;34m\u001b[0m\u001b[0m\n",
      "\u001b[0;31mAttributeError\u001b[0m: 'BinaryTree' object has no attribute 'delete'"
     ]
    }
   ],
   "source": [
    "if __name__=='__main__':\n",
    "    test_BST(10, 10, 8)"
   ]
  },
  {
   "cell_type": "markdown",
   "metadata": {},
   "source": [
    "Here is a sample output:\n",
    "\n",
    "```python\n",
    "bt = BinaryTree()\n",
    "arr = [20, 10, 17, 14, 3, 0]\n",
    "for i in arr:\n",
    "    bt.insert(i)\n",
    "\n",
    "print(\"Height of binary tree is {}.\\n\".format(len(bt)))\n",
    "for i in range(len(bt)):\n",
    "    print(\"Level {0} values: {1}\".format(i, bt.getValues(i)))\n",
    "```\n",
    "\n",
    "```\n",
    "Height of binary tree is 4.\n",
    "\n",
    "Level 0 values: [20]\n",
    "Level 1 values: [10, None]\n",
    "Level 2 values: [3, 17, None, None]\n",
    "Level 3 values: [0, None, 14, None, None, None, None, None]\n",
    "```\n",
    "\n",
    "Note that you do not need to format your output in this way.  Nor are you required to implement a `__len__` method to compute the height of the tree.  I did this because it was convenient for illustration purposes.  This example is simply meant to show you some output at each level of the tree."
   ]
  },
  {
   "cell_type": "markdown",
   "metadata": {},
   "source": [
    "# Problem 3:  Peer Evaluations\n",
    "Evaluate the members of your group for Milestone 1.  Please follow the instructions in the provided survey.  The survey can be found here:  [Milestone 1 Peer Evaluation](https://harvard.az1.qualtrics.com/jfe/form/SV_0JnuXbE5QjLCrKB)."
   ]
  },
  {
   "cell_type": "markdown",
   "metadata": {},
   "source": [
    "# Problem 4:  Course Evaluation\n",
    "Please take the [Course Evaluation](https://docs.google.com/forms/d/e/1FAIpQLSdDyrtf_aByU4xNeLMSmDrFCJ2OLDrK1Q7ZoeTd2Whf_cdRrw/viewform?usp=sf_link)."
   ]
  }
 ],
 "metadata": {
  "kernelspec": {
   "display_name": "Python 3",
   "language": "python",
   "name": "python3"
  },
  "language_info": {
   "codemirror_mode": {
    "name": "ipython",
    "version": 3
   },
   "file_extension": ".py",
   "mimetype": "text/x-python",
   "name": "python",
   "nbconvert_exporter": "python",
   "pygments_lexer": "ipython3",
   "version": "3.6.1"
  }
 },
 "nbformat": 4,
 "nbformat_minor": 2
}
